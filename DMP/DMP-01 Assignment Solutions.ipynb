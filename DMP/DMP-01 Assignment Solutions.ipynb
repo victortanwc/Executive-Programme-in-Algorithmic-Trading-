{
 "cells": [
  {
   "cell_type": "markdown",
   "metadata": {},
   "source": [
    "### Strategy Backtesting Using Python (DMP-1) Assignment Solutions\n",
    "\n",
    "#### Date created: 22/05/2020"
   ]
  },
  {
   "cell_type": "markdown",
   "metadata": {},
   "source": [
    "#### Fetching the required data and importing the necessary libraries"
   ]
  },
  {
   "cell_type": "code",
   "execution_count": 1,
   "metadata": {},
   "outputs": [
    {
     "name": "stdout",
     "output_type": "stream",
     "text": [
      "[*********************100%***********************]  1 of 1 completed\n"
     ]
    }
   ],
   "source": [
    "import pandas as pd\n",
    "import numpy as np\n",
    "import datetime as dt\n",
    "import yfinance as yf\n",
    "import matplotlib.pyplot as plt\n",
    "import pandas_datareader as web\n",
    "import warnings\n",
    "\n",
    "warnings.filterwarnings('ignore')\n",
    "\n",
    "\n",
    "end1 = dt.date(2020, 4, 30)\n",
    "start1 = dt.date(2015, 1, 2)\n",
    "\n",
    "df = yf.download(\"MSFT\", start=start1, end=end1)"
   ]
  },
  {
   "cell_type": "code",
   "execution_count": null,
   "metadata": {},
   "outputs": [],
   "source": [
    "df.head()"
   ]
  },
  {
   "cell_type": "markdown",
   "metadata": {},
   "source": [
    "**Q1: Try out the ‘Big Moves Monday’ strategy on the above data with standard conditions as taught in the class. Now back-test the strategy again but this this time tweak condition 3 such that 'ibs' value must be lower than 0.8. Comment on the results. (5 marks)**"
   ]
  },
  {
   "cell_type": "code",
   "execution_count": null,
   "metadata": {},
   "outputs": [],
   "source": [
    "# Creating required functions for standard backtesting as taught in the class\n",
    "def compute_daily_returns(data):\n",
    "    \"\"\" \n",
    "    The function computes daily log returns based on the Close prices in the pandas DataFrame\n",
    "    and stores it in a column  called 'cc_returns'.\n",
    "    \"\"\"\n",
    "    data['cc_returns'] = np.log(data['Close'] / data['Close'].shift(1))\n",
    "\n",
    "    return data\n",
    "\n",
    "def compute_indicators(data):\n",
    "    \"\"\"\n",
    "    The function creates additional columns to an OHLC pandas DataFrame\n",
    "    required to backtest the \"Big Moves on Mondays\" trading strategy.\n",
    "    \"\"\"\n",
    "    # Columns created to check condition 1\n",
    "    data['day'] = data.index.day_name()\n",
    "    data['prev_day'] = data['day'].shift(1)\n",
    "    data['four_days_after'] = data['day'].shift(-4)\n",
    "\n",
    "    # Columns created to check condition 2\n",
    "    data['relative_range'] = (data['High'] - data['Low']) / data['Close']\n",
    "    data['rel_range_ma'] = data['relative_range'].rolling(window=25).mean()\n",
    "\n",
    "    # Column created to check condition 3\n",
    "    data['ibs'] = (data['Close'] - data['Low']) / (data['High'] - data['Low'])\n",
    "\n",
    "    return data\n",
    "\n",
    "def backtest_strategy(data):\n",
    "    \"\"\"\n",
    "    The function creates additional columns to the pandas DataFrame for checking conditions\n",
    "    to backtest the \"Big Moves on Mondays\" trading strategy. \n",
    "    It then computes the strategy returns.\n",
    "    IMPORTANT: To be run ONLY after the function compute_indicators.\n",
    "    \"\"\"\n",
    "    data['condition1'] = np.where((data['day'] == 'Monday') \n",
    "                            & (data['prev_day'] == 'Friday') \n",
    "                            & (data['four_days_after'] == 'Friday'), \n",
    "                            1, 0)\n",
    "\n",
    "    data['condition2'] = np.where((1 - data['Close'] / data['Close'].shift(1))\n",
    "                                  >= 0.25 * data['rel_range_ma'], 1, 0)\n",
    "\n",
    "    data['condition3'] = np.where(data['ibs'] < 0.3, 1, 0)\n",
    "\n",
    "    data['signal'] = np.where((data['condition1']==1) \n",
    "                        & (data['condition2']==1) \n",
    "                        & (data['condition3']==1), \n",
    "                        1, 0)\n",
    "\n",
    "    # The below two statements ensures that we can directly calculate strategy returns by multiplying the \n",
    "    # columns 'position' and 'cc_returns'\n",
    "    data['signal'] = data['signal'].shift(1)\n",
    "\n",
    "    data['position'] = data['signal'].replace(to_replace=0, method='ffill', limit=3)\n",
    "\n",
    "    data['strategy_returns'] = data['cc_returns'] * data['position']\n",
    "\n",
    "    return data\n",
    "\n",
    "\n",
    "def show_backtesting_results(data):\n",
    "    \"\"\"\n",
    "    The function displays the cumulative returns from the trading strategy and a buy-and-hold strategy. \n",
    "    It also plots a chart showing both returns and position over time.\n",
    "    IMPORTANT: To be run ONLY after the function backtest_strategy.\n",
    "    \"\"\"\n",
    "    print('Buy and hold returns: ', np.round(data['cc_returns'].cumsum()[-1], 2))\n",
    "    print('Strategy returns: ', np.round(data['strategy_returns'].cumsum()[-1], 2))\n",
    "\n",
    "    data[['cc_returns', 'strategy_returns']] = data[['cc_returns', 'strategy_returns']].cumsum()\n",
    " "
   ]
  },
  {
   "cell_type": "code",
   "execution_count": null,
   "metadata": {},
   "outputs": [],
   "source": [
    "# Backtesting using standard conditions\n",
    "df2 = df.copy()\n",
    "df2 = compute_daily_returns(df2)\n",
    "df2 = compute_indicators(df2)\n",
    "df2 = backtest_strategy(df2)\n",
    "show_backtesting_results(df2)"
   ]
  },
  {
   "cell_type": "code",
   "execution_count": null,
   "metadata": {},
   "outputs": [],
   "source": [
    "# Redefining the backtest_strategy function with tweaked condition 3\n",
    "\n",
    "\n",
    "def backtest_strategy(data):\n",
    "    \"\"\"\n",
    "    The function creates additional columns to the pandas DataFrame for checking conditions\n",
    "    to backtest the \"Big Moves on Mondays\" trading strategy. \n",
    "    It then computes the strategy returns.\n",
    "    IMPORTANT: To be run ONLY after the function compute_indicators.\n",
    "    \"\"\"\n",
    "    data['condition1'] = np.where((data['day'] == 'Monday') \n",
    "                            & (data['prev_day'] == 'Friday') \n",
    "                            & (data['four_days_after'] == 'Friday'), \n",
    "                            1, 0)\n",
    "\n",
    "    data['condition2'] = np.where((1 - data['Close'] / data['Close'].shift(1))\n",
    "                                  >= 0.25 * data['rel_range_ma'], 1, 0)\n",
    "\n",
    "    # make changes here\n",
    "    data['condition3'] = np.where(data['ibs'] < 0.8, 1, 0)\n",
    "\n",
    "    data['signal'] = np.where((data['condition1']==1) \n",
    "                        & (data['condition2']==1) \n",
    "                        & (data['condition3']==1), \n",
    "                        1, 0)\n",
    "\n",
    "    # The below two statements ensures that we can directly calculate strategy returns by multiplying the \n",
    "    # columns 'position' and 'cc_returns'\n",
    "    data['signal'] = data['signal'].shift(1)\n",
    "\n",
    "    data['position'] = data['signal'].replace(to_replace=0, method='ffill', limit=3)\n",
    "\n",
    "    data['strategy_returns'] = data['cc_returns'] * data['position']\n",
    "\n",
    "    return data"
   ]
  },
  {
   "cell_type": "code",
   "execution_count": null,
   "metadata": {},
   "outputs": [],
   "source": [
    "df2 = df.copy()\n",
    "df2 = compute_daily_returns(df2)\n",
    "df2 = compute_indicators(df2)\n",
    "df2 = backtest_strategy(df2)\n",
    "show_backtesting_results(df2)"
   ]
  },
  {
   "cell_type": "code",
   "execution_count": null,
   "metadata": {},
   "outputs": [],
   "source": [
    "# The tweaked version produces better results for this stock in the given timeframe. "
   ]
  },
  {
   "cell_type": "markdown",
   "metadata": {},
   "source": [
    "**Q2: You have seen a strategy based on MACD indicator in the class. In a similar way, back-test the 20 day Bollinger band strategy on the above equity (buy when the price crosses the lower band and sell when the price touches the upper band. Exit from either position when the price crosses the 20 day MA). (5 Marks)**"
   ]
  },
  {
   "cell_type": "code",
   "execution_count": null,
   "metadata": {},
   "outputs": [],
   "source": [
    "df1=df.copy()"
   ]
  },
  {
   "cell_type": "code",
   "execution_count": null,
   "metadata": {},
   "outputs": [],
   "source": [
    "df1"
   ]
  },
  {
   "cell_type": "code",
   "execution_count": null,
   "metadata": {},
   "outputs": [],
   "source": [
    "df1['20_day_sma'] = df1['Adj Close'].rolling(window = 20,center=False).mean()\n",
    "df1['20_day_std'] = df1['Adj Close'].rolling(window = 20, center=False).std()\n",
    "df1.dropna(inplace=True)"
   ]
  },
  {
   "cell_type": "code",
   "execution_count": null,
   "metadata": {},
   "outputs": [],
   "source": [
    "df1['upper_band'] = df1['20_day_sma']+ 2* df1['20_day_std']\n",
    "df1['lower_band'] = df1['20_day_sma']- 2* df1['20_day_std']"
   ]
  },
  {
   "cell_type": "code",
   "execution_count": null,
   "metadata": {},
   "outputs": [],
   "source": [
    "df1['prev Adj Close'] = df1['Adj Close'].shift()\n",
    "df1['prev upper_band'] = df1['upper_band'].shift()\n",
    "df1['prev lower_band'] = df1['lower_band'].shift()"
   ]
  },
  {
   "cell_type": "code",
   "execution_count": null,
   "metadata": {},
   "outputs": [],
   "source": [
    "df1['signal'] = np.where((df1['Adj Close']> df1['upper_band'])&(df1['prev Adj Close']< df1['prev upper_band']) ,-1,0)\n",
    "df1['signal'] = np.where((df1['Adj Close']< df1['lower_band'])&(df1['prev Adj Close']> df1['prev lower_band']) ,1,df1['signal'])"
   ]
  },
  {
   "cell_type": "code",
   "execution_count": null,
   "metadata": {},
   "outputs": [],
   "source": [
    "df1['signal'].value_counts()"
   ]
  },
  {
   "cell_type": "code",
   "execution_count": null,
   "metadata": {},
   "outputs": [],
   "source": [
    "df1['position'] = df1['signal'].replace(to_replace=0,method='ffill')\n",
    "df1['position'].value_counts()"
   ]
  },
  {
   "cell_type": "code",
   "execution_count": null,
   "metadata": {},
   "outputs": [],
   "source": [
    "x = df1[['20_day_sma','upper_band','lower_band','Adj Close','position']]\n",
    "x.plot(secondary_y= 'position', grid=True, figsize=(20, 8))"
   ]
  },
  {
   "cell_type": "code",
   "execution_count": null,
   "metadata": {},
   "outputs": [],
   "source": [
    "df1['B&H_returns'] =df1['Adj Close'].pct_change()\n",
    "df1['strategy_returns'] = df1['B&H_returns']*df1['position'].shift(1) "
   ]
  },
  {
   "cell_type": "code",
   "execution_count": null,
   "metadata": {},
   "outputs": [],
   "source": [
    "df1['B&H_cumulative'] = (1+df1['B&H_returns']).cumprod() -1\n",
    "df1['strategy_cumulative'] = (1+df1['strategy_returns']).cumprod() -1"
   ]
  },
  {
   "cell_type": "code",
   "execution_count": null,
   "metadata": {},
   "outputs": [],
   "source": [
    "df1[['B&H_cumulative','strategy_cumulative']].plot(figsize=(10,5))"
   ]
  },
  {
   "cell_type": "code",
   "execution_count": null,
   "metadata": {},
   "outputs": [],
   "source": [
    "# B&H significantly outperforms our Bollinger band startegy over this period"
   ]
  },
  {
   "cell_type": "markdown",
   "metadata": {},
   "source": [
    "**Q3: Write a customized function that computes returns for the exponential moving average (EMA) strategy (discussed in class) for different windows(spans). Find the value between 1 and 30 which produces best overall total return . (5 Marks)**"
   ]
  },
  {
   "cell_type": "code",
   "execution_count": null,
   "metadata": {},
   "outputs": [],
   "source": [
    "# Defining the required function\n",
    "\n",
    "def optimizing_EMA(ema):\n",
    "    \n",
    "    # read data into a dataframe \n",
    "    df1b = df.copy()\n",
    "    \n",
    "    # Prepare for vectorization\n",
    "    df1b['cc_returns'] = df1b['Close'].pct_change()\n",
    "    df1b['ema'] = df1b['Close'].ewm(span=ema, adjust=False).mean()\n",
    "    \n",
    "   \n",
    "    # Vectorized backtest using numpy.where\n",
    "    df1b['position'] = np.where((df1b['Close'] > df1b['ema']), 1, 0)\n",
    "    df1b['position'] = df1b['position'].shift(1)\n",
    "    \n",
    "    # Calculating returns\n",
    "    df1b['strategy_returns'] = df1b['cc_returns'] * df1b['position']\n",
    "    df1b['strategy_returns'] = (1+df1b['strategy_returns']).cumprod()\n",
    "    \n",
    "    # output\n",
    "    return float(df1b['strategy_returns'].iloc[-1]),ema"
   ]
  },
  {
   "cell_type": "code",
   "execution_count": null,
   "metadata": {},
   "outputs": [],
   "source": [
    "# Finding optimal value for EMA\n",
    "ema_values = range(1,30)\n",
    "returns_vs_ema = []\n",
    "\n",
    "for i in ema_values:\n",
    "    returns_vs_ema.append(optimizing_EMA(i))"
   ]
  },
  {
   "cell_type": "code",
   "execution_count": null,
   "metadata": {},
   "outputs": [],
   "source": [
    "returns_vs_ema"
   ]
  },
  {
   "cell_type": "code",
   "execution_count": null,
   "metadata": {},
   "outputs": [],
   "source": [
    "max(returns_vs_ema)"
   ]
  },
  {
   "cell_type": "markdown",
   "metadata": {},
   "source": [
    "**Q4: The moving average crossover (MAC) code is implemented where we always have an open position. Calculate returns where short selling is not allowed. Plot a graph comparing returns from buy-and-hold, no short selling, and the one we did in class. Comment on your results. (5 Marks)**"
   ]
  },
  {
   "cell_type": "code",
   "execution_count": null,
   "metadata": {},
   "outputs": [],
   "source": [
    "# creating a copy\n",
    "df2= df.copy()\n",
    "\n",
    "# defining moving average window parameters\n",
    "m = 50    #  the shorter lookback period\n",
    "n = 200   # the longer lookback period\n",
    "\n",
    "##calculating MAs\n",
    "df2['ShortMA'] = df2['Adj Close'].rolling(window=m, center=False).mean()\n",
    "df2['LongMA'] = df2['Adj Close'].rolling(window=n, center=False).mean()\n",
    "\n",
    "df2['ShortMA2'] = df2['ShortMA'].shift(1)\n",
    "df2['LongMA2'] = df2['LongMA'].shift(1)\n",
    "\n",
    "df2.dropna(inplace=True)\n",
    "print(df2.shape)\n",
    "print(df2.head())\n",
    "print(df2.tail())\n"
   ]
  },
  {
   "cell_type": "code",
   "execution_count": null,
   "metadata": {},
   "outputs": [],
   "source": [
    "#calculating daily \"buy & hold\" returns \n",
    "df2['daily_returns']=np.log(df2['Adj Close']/df2['Adj Close'].shift(1))\n",
    "df2['buy & hold cumulative returns']=np.cumsum(df2['daily_returns'])"
   ]
  },
  {
   "cell_type": "code",
   "execution_count": null,
   "metadata": {},
   "outputs": [],
   "source": [
    "# long-short strategy\n",
    "df2.dropna(inplace=True)\n",
    "df2[\"short_allowed_position\"]=np.where((df2['ShortMA'] > df2['LongMA']), 1, -1)\n",
    "\n",
    "df2[\"short_allowed_returns\"]=(df2[\"short_allowed_position\"].shift())*df2['daily_returns']\n",
    "\n",
    "df2['cumulative returns_short_allowed']=df2[\"short_allowed_returns\"].cumsum()\n",
    "\n",
    "# Visualizing the long-short strategy\n",
    "a=df2[['ShortMA','LongMA','short_allowed_position']].plot()\n",
    "df2[['ShortMA','LongMA','short_allowed_position']].plot(ax=a,secondary_y='short_allowed_position',figsize=(15,5))\n",
    "plt.show()"
   ]
  },
  {
   "cell_type": "code",
   "execution_count": null,
   "metadata": {},
   "outputs": [],
   "source": [
    "# Generating positions  & returns in case where short selling is NOT allowed ie \"long only\" case\n",
    "df2['Position_long_only'] = np.where((df2['ShortMA'] > df2['LongMA']), 1, 0)\n",
    "\n",
    "df2['returns_long_only']=df2['daily_returns']*(df2['Position_long_only'].shift(1))\n",
    "\n",
    "df2[\"cumulative_returns_long_only\"]=df2['returns_long_only'].cumsum()\n",
    "\n",
    "\n",
    "# Visualizing the long only strategy\n",
    "a=df2[['ShortMA','LongMA','Position_long_only']].plot()\n",
    "df2[['ShortMA','LongMA','Position_long_only']].plot(ax=a,secondary_y='Position_long_only',figsize=(15,5))\n",
    "plt.show()"
   ]
  },
  {
   "cell_type": "code",
   "execution_count": null,
   "metadata": {},
   "outputs": [],
   "source": [
    "# plotting cumulative returns for comparison\n",
    "df2[['buy & hold cumulative returns','cumulative returns_short_allowed','cumulative_returns_long_only',]].plot(figsize=(10,5))\n",
    "plt.show()"
   ]
  },
  {
   "cell_type": "markdown",
   "metadata": {},
   "source": [
    "**Q5: Download the data for the following companies TSLA, NFLX, AMZN, GOOG and CVX using the code for automatically downloading multiple stocks from January 1st 2015 to April 30th 2020.  You can use Yahoo Financel for downloading data. (5 Marks)<br>\n",
    "For the above-mentioned time period<br>\n",
    "a) Compute the daily returns (assuming you buy at open and sell at close) every day.<br>\n",
    "b) Compute the hit ratio for each of them(recall that the hit ratio is the ratio of number of positive trades to total number of trades).<br>\n",
    "c) Compute the cumulative returns for each of them.<br>\n",
    "Plot them graphically and comment on your results.**\n"
   ]
  },
  {
   "cell_type": "code",
   "execution_count": 2,
   "metadata": {},
   "outputs": [
    {
     "name": "stdout",
     "output_type": "stream",
     "text": [
      "Trying to retrieve the TSLA symbol...\n",
      "Trying to retrieve the GOOG symbol...\n",
      "Trying to retrieve the AMZN symbol...\n",
      "\n",
      "\n",
      "\n",
      "Trying to retrieve the NFLX symbol...\n",
      "\n",
      "Trying to retrieve the CVS symbol...\n",
      "\n",
      "Symbol TSLA downloaded OK.\n",
      "\n",
      "Symbol AMZN downloaded OK.\n",
      "\n",
      "Symbol NFLX downloaded OK.\n",
      "\n",
      "Symbol GOOG downloaded OK.\n",
      "\n",
      "Symbol CVS downloaded OK.\n",
      "\n"
     ]
    }
   ],
   "source": [
    "# importing the necessary library\n",
    "from concurrent import futures\n",
    "\n",
    "stocksList = ['TSLA','GOOG','AMZN','NFLX','CVS']\n",
    "\n",
    "list_stocks = []\n",
    "\n",
    "### Keeping track of failed ticker download queries\n",
    "bad_tickers = []\n",
    "\n",
    "end = dt.date(2020, 4, 30)\n",
    "start = dt.date(2015, 1, 2)\n",
    "\n",
    "def download_stocks(stock):\n",
    "    try:\n",
    "        print('Trying to retrieve the %s symbol...\\n' % (stock))\n",
    "        stock_df = web.DataReader(stock, 'yahoo', start, end)\n",
    "        stock_df['Name'] = stock\n",
    "        output_name = stock + '.csv'\n",
    "        list_stocks.append(output_name)\n",
    "        stock_df.to_csv(output_name)\n",
    "        print('Symbol %s downloaded OK.\\n' % (stock))\n",
    "    except:\n",
    "        bad_tickers.append(stock)\n",
    "        print('Problems downloading the %s symbol.\\n' % (stock))\n",
    "\n",
    "\n",
    "# We use the concurrent.futures module's ThreadPoolExecutor \n",
    "# to speed up the downloads by doing them in parallel rather than serially\n",
    "\n",
    "### Set the maximum thread number\n",
    "max_workers = 50\n",
    "\n",
    "workers = min(max_workers, len(stocksList)) \n",
    "### In case a smaller number of stocks than threads was passed in\n",
    "with futures.ThreadPoolExecutor(workers) as executor:\n",
    "    res = executor.map(download_stocks, stocksList)\n",
    "### map allows multiple calls to the given function. It passes each of the items in stocksList (any \n",
    "### iterable) to the function. Here, it can happen concurrently because of the ThreadPoolExecutor()\n",
    "### subClass"
   ]
  },
  {
   "cell_type": "code",
   "execution_count": 5,
   "metadata": {},
   "outputs": [],
   "source": [
    "# A function to take in a stock symbol, reads saved data from the csv file & returns a dataframe containing returns assuming buy at open and sell at close\n",
    "def returns_calculator(stock):\n",
    "    stock_df = pd.read_csv(stock + '.csv',index_col='Date')\n",
    "    stock_df[stock] = np.log(stock_df['Close']/stock_df['Open'])\n",
    "    stock_Ret = pd.DataFrame(stock_df[stock])\n",
    "    return(stock_Ret)\n",
    "    "
   ]
  },
  {
   "cell_type": "code",
   "execution_count": 13,
   "metadata": {},
   "outputs": [],
   "source": [
    "# create a Series\n",
    "pd.Series(stocksList)\n",
    "\n",
    "# apply the returns_calculator() to each element of the series and save the new Series in \"res\"\n",
    "res = pd.Series(stocksList).apply(returns_calculator)\n",
    "\n",
    "# Each value in the 'res' Series is a DataFRame of returns"
   ]
  },
  {
   "cell_type": "code",
   "execution_count": 16,
   "metadata": {},
   "outputs": [
    {
     "data": {
      "text/html": [
       "<div>\n",
       "<style scoped>\n",
       "    .dataframe tbody tr th:only-of-type {\n",
       "        vertical-align: middle;\n",
       "    }\n",
       "\n",
       "    .dataframe tbody tr th {\n",
       "        vertical-align: top;\n",
       "    }\n",
       "\n",
       "    .dataframe thead th {\n",
       "        text-align: right;\n",
       "    }\n",
       "</style>\n",
       "<table border=\"1\" class=\"dataframe\">\n",
       "  <thead>\n",
       "    <tr style=\"text-align: right;\">\n",
       "      <th></th>\n",
       "      <th>CVS</th>\n",
       "      <th>NFLX</th>\n",
       "      <th>AMZN</th>\n",
       "      <th>GOOG</th>\n",
       "      <th>TSLA</th>\n",
       "    </tr>\n",
       "    <tr>\n",
       "      <th>Date</th>\n",
       "      <th></th>\n",
       "      <th></th>\n",
       "      <th></th>\n",
       "      <th></th>\n",
       "      <th></th>\n",
       "    </tr>\n",
       "  </thead>\n",
       "  <tbody>\n",
       "    <tr>\n",
       "      <th>2015-01-02</th>\n",
       "      <td>-0.014821</td>\n",
       "      <td>0.014084</td>\n",
       "      <td>-0.013074</td>\n",
       "      <td>-0.007971</td>\n",
       "      <td>-0.016102</td>\n",
       "    </tr>\n",
       "    <tr>\n",
       "      <th>2015-01-05</th>\n",
       "      <td>-0.004556</td>\n",
       "      <td>-0.040332</td>\n",
       "      <td>-0.015824</td>\n",
       "      <td>-0.018108</td>\n",
       "      <td>-0.021007</td>\n",
       "    </tr>\n",
       "    <tr>\n",
       "      <th>2015-01-06</th>\n",
       "      <td>-0.004236</td>\n",
       "      <td>-0.018023</td>\n",
       "      <td>-0.023263</td>\n",
       "      <td>-0.025647</td>\n",
       "      <td>0.005791</td>\n",
       "    </tr>\n",
       "    <tr>\n",
       "      <th>2015-01-07</th>\n",
       "      <td>0.010690</td>\n",
       "      <td>-0.012845</td>\n",
       "      <td>0.003088</td>\n",
       "      <td>-0.011705</td>\n",
       "      <td>-0.011313</td>\n",
       "    </tr>\n",
       "    <tr>\n",
       "      <th>2015-01-08</th>\n",
       "      <td>0.011291</td>\n",
       "      <td>0.013910</td>\n",
       "      <td>0.000466</td>\n",
       "      <td>0.009374</td>\n",
       "      <td>-0.010344</td>\n",
       "    </tr>\n",
       "  </tbody>\n",
       "</table>\n",
       "</div>"
      ],
      "text/plain": [
       "                 CVS      NFLX      AMZN      GOOG      TSLA\n",
       "Date                                                        \n",
       "2015-01-02 -0.014821  0.014084 -0.013074 -0.007971 -0.016102\n",
       "2015-01-05 -0.004556 -0.040332 -0.015824 -0.018108 -0.021007\n",
       "2015-01-06 -0.004236 -0.018023 -0.023263 -0.025647  0.005791\n",
       "2015-01-07  0.010690 -0.012845  0.003088 -0.011705 -0.011313\n",
       "2015-01-08  0.011291  0.013910  0.000466  0.009374 -0.010344"
      ]
     },
     "execution_count": 16,
     "metadata": {},
     "output_type": "execute_result"
    }
   ],
   "source": [
    "# Creating an empty dataframe called \"result\"\n",
    "result=pd.DataFrame()\n",
    "result\n",
    "\n",
    "# taking individual dataframes (each stock) and concatanating it to empty df result on the column axis\n",
    "for i in res:\n",
    "    result = pd.concat([i,result],axis=1)\n",
    "\n",
    "result.head()"
   ]
  },
  {
   "cell_type": "code",
   "execution_count": 17,
   "metadata": {},
   "outputs": [
    {
     "name": "stdout",
     "output_type": "stream",
     "text": [
      "HitRatios\n",
      " CVS     0.495153\n",
      "NFLX    0.487696\n",
      "AMZN    0.498881\n",
      "GOOG    0.519761\n",
      "TSLA    0.507830\n",
      "dtype: float64\n"
     ]
    },
    {
     "data": {
      "image/png": "[encoded data removed]",
      "text/plain": [
       "<Figure size 864x360 with 1 Axes>"
      ]
     },
     "metadata": {
      "needs_background": "light"
     },
     "output_type": "display_data"
    }
   ],
   "source": [
    "# Calculating required values and plotting the equity curve\n",
    "\n",
    "HitRatio = result[result>0].count()/result.count()\n",
    "print(\"HitRatios\\n\",HitRatio)\n",
    "\n",
    "Eq_curve = result.cumsum()\n",
    "Eq_curve.plot(grid=True, figsize=(12,5))\n",
    "plt.show()"
   ]
  },
  {
   "cell_type": "code",
   "execution_count": null,
   "metadata": {},
   "outputs": [],
   "source": []
  }
 ],
 "metadata": {
  "kernelspec": {
   "display_name": "Python 3",
   "language": "python",
   "name": "python3"
  },
  "language_info": {
   "codemirror_mode": {
    "name": "ipython",
    "version": 3
   },
   "file_extension": ".py",
   "mimetype": "text/x-python",
   "name": "python",
   "nbconvert_exporter": "python",
   "pygments_lexer": "ipython3",
   "version": "3.7.3"
  }
 },
 "nbformat": 4,
 "nbformat_minor": 2
}
