{
 "cells": [
  {
   "cell_type": "markdown",
   "metadata": {
    "colab_type": "text",
    "id": "_XQdv1YNfLS6"
   },
   "source": [
    "# Python Basics for Quants-2 (PBQ-2)\n",
    "\n",
    " #### Notebook updated  on: 20-02- 2020 by Ashutosh Dave\n",
    " #### This document builds on and is in continuation with the PBQ-1 document by Vivek Krishnamoorthy"
   ]
  },
  {
   "cell_type": "markdown",
   "metadata": {
    "colab_type": "text",
    "id": "Syaw0enAfLS_"
   },
   "source": [
    "### Today's Agenda\n",
    "\n",
    "- A quick recap from the last lecture\n",
    "    - Primitive and advanced datatypes\n",
    "    - Control structures\n",
    "    - Functions in Python\n",
    "    \n",
    "- Libraries/Packages in Python\n",
    "    - Understanding the hierarchy\n",
    "    - Importing and working with various modules\n",
    "    \n",
    "- The `NumPy` Library\n",
    "    - Understanding the numpy ndarray data structure\n",
    "    - Vectorization and how NumPy arrays are different from Python lists\n",
    "    - Use-cases of various methods for NumPy arrays\n",
    "    - Using mathematical functions from the NumPy library\n",
    "     \n",
    "- The `pandas` Library\n",
    "    - Understanding pandas Series and DataFrames \n",
    "    - Series creation and manipulation\n",
    "    - Use-cases of various methods for Series\n",
    "    - DataFrame creation and manipulation\n",
    "    - Reading and writing csv/excel data\n",
    "    - Use-cases of various methods for DataFrames\n",
    "    \n",
    "- Some commonly done calculations in quantitative trading\n",
    "    - Percentage change calculations\n",
    "    - rolling() and shift() methods\n",
    "    - Dealing with missing/naN data\n",
    "  "
   ]
  },
  {
   "cell_type": "code",
   "execution_count": null,
   "metadata": {},
   "outputs": [],
   "source": [
    "# To display multiple outputs from the same cell\n",
    "from IPython.core.interactiveshell import InteractiveShell\n",
    "InteractiveShell.ast_node_interactivity = \"all\""
   ]
  },
  {
   "cell_type": "markdown",
   "metadata": {
    "colab_type": "text",
    "id": "OMWfCeQQfLTB"
   },
   "source": [
    "## Python Data Types & Data Structures"
   ]
  },
  {
   "cell_type": "markdown",
   "metadata": {},
   "source": [
    "### Role of syntax in Determining the Data Type"
   ]
  },
  {
   "cell_type": "code",
   "execution_count": null,
   "metadata": {},
   "outputs": [],
   "source": [
    "# Syntax automatically determines the type in Python, hence pay attention to the syntax\n",
    "\n",
    "a = 2\n",
    "type(a)"
   ]
  },
  {
   "cell_type": "code",
   "execution_count": null,
   "metadata": {},
   "outputs": [],
   "source": [
    "a = 2.0\n",
    "type(a)"
   ]
  },
  {
   "cell_type": "code",
   "execution_count": null,
   "metadata": {},
   "outputs": [],
   "source": [
    "a = '2'\n",
    "type(a)"
   ]
  },
  {
   "cell_type": "code",
   "execution_count": null,
   "metadata": {},
   "outputs": [],
   "source": [
    "a = 2>3\n",
    "type(a)"
   ]
  },
  {
   "cell_type": "markdown",
   "metadata": {},
   "source": [
    "### Data Structures"
   ]
  },
  {
   "cell_type": "markdown",
   "metadata": {},
   "source": [
    "- Advanced data types(also called **data structures**) can hold multiple data points\n",
    "- They are a handy way to store and manipulate data\n",
    "- Select a data structure depending on the type of data and your requirements"
   ]
  },
  {
   "cell_type": "code",
   "execution_count": null,
   "metadata": {},
   "outputs": [],
   "source": [
    "# List: A collection of heterogenous or homogenous data points\n",
    "\n",
    "top_stocks = ['MSFT', 'AAPL', 'TSLA']"
   ]
  },
  {
   "cell_type": "code",
   "execution_count": null,
   "metadata": {},
   "outputs": [],
   "source": [
    "# Info about a stock in a list\n",
    "\n",
    "microsoft = ['MSFT', 210.9, 1800900]\n",
    "type(microsoft)"
   ]
  },
  {
   "cell_type": "code",
   "execution_count": null,
   "metadata": {},
   "outputs": [],
   "source": [
    "# Info about a stock in a tuple, which is like an immutable list\n",
    "# Use tuples when you want to safeguard the sanctity of data\n",
    "# Tuples are more efficient but less flexible compared to a list\n",
    "\n",
    "microsoft = ('MSFT', 210.9, 1800900)\n",
    "type(microsoft)"
   ]
  },
  {
   "cell_type": "code",
   "execution_count": null,
   "metadata": {},
   "outputs": [],
   "source": [
    "# Dictionary: key-value pairs\n",
    "\n",
    "microsoft = {'symbol':'MSFT', 'last_price':210.9, 'traded_volume': 1800900}\n",
    "type(microsoft)"
   ]
  },
  {
   "cell_type": "code",
   "execution_count": null,
   "metadata": {},
   "outputs": [],
   "source": [
    "microsoft['last_price']"
   ]
  },
  {
   "cell_type": "markdown",
   "metadata": {},
   "source": [
    "![](pbq_pic1.png)"
   ]
  },
  {
   "cell_type": "code",
   "execution_count": null,
   "metadata": {
    "colab": {},
    "colab_type": "code",
    "id": "Erw4EhExfLVz",
    "jupyter": {
     "outputs_hidden": true
    },
    "outputId": "ac297d46-cf3f-43f3-f56b-ceeab226fb32"
   },
   "outputs": [],
   "source": [
    "# A set contains a collection of unique unordered elements\n",
    "# Set can only have unique elements unlike lists\n",
    "\n",
    "set = {'a','a','u'}\n",
    "set"
   ]
  },
  {
   "cell_type": "code",
   "execution_count": null,
   "metadata": {
    "colab": {},
    "colab_type": "code",
    "id": "G23j99y6fLV4",
    "jupyter": {
     "outputs_hidden": true
    },
    "outputId": "f620fcec-8771-4932-d3c5-75b341317f3e"
   },
   "outputs": [],
   "source": [
    "# Ordering of elements is not an issue in case of sets\n",
    "{'a','u'} == {'u','a'}"
   ]
  },
  {
   "cell_type": "code",
   "execution_count": null,
   "metadata": {
    "colab": {},
    "colab_type": "code",
    "id": "saI2HxUOfLWA",
    "jupyter": {
     "outputs_hidden": true
    },
    "outputId": "951b3a6e-6c1c-408a-c65f-c7a157fe5676"
   },
   "outputs": [],
   "source": [
    "# Compare that to lists\n",
    "['a', 'u'] == ['u', 'a']"
   ]
  },
  {
   "cell_type": "markdown",
   "metadata": {
    "colab_type": "text",
    "id": "2QKrhkRxfLVC"
   },
   "source": [
    "### Methods and Attributes\n",
    "\n",
    "Python objects such as lists, integers, strings, etc. all have functions associated with them that are used to manipulate the data contained in them. These functions are often referred to as methods. **List objects have list methods, float objects have float methods, and so on.**\n",
    "\n",
    "Similarly, objects also have **attributes which are the properties associated with them**.\n",
    "\n",
    "We will use some of them as we go along this lecture."
   ]
  },
  {
   "cell_type": "code",
   "execution_count": null,
   "metadata": {},
   "outputs": [],
   "source": [
    "# Methods for strings\n",
    "name = 'google'\n",
    "\n",
    "name.upper()\n",
    "name.capitalize()"
   ]
  },
  {
   "cell_type": "code",
   "execution_count": null,
   "metadata": {
    "colab": {},
    "colab_type": "code",
    "id": "CKx8NnSDfLUM"
   },
   "outputs": [],
   "source": [
    "# Methods for lists\n",
    "players = ['Ronaldo', 'Messi', 'Ibrahimovic', 'Suarez']\n",
    "\n",
    "# Using the append() method of lists to add another player\n",
    "players.append('Lewandowski')\n",
    "players"
   ]
  },
  {
   "cell_type": "code",
   "execution_count": null,
   "metadata": {
    "colab": {},
    "colab_type": "code",
    "id": "3EOAR9jSfLVM",
    "jupyter": {
     "outputs_hidden": true
    }
   },
   "outputs": [],
   "source": [
    "# The append method is a built-in function for lists, but it is NOT available for tuples as tuples are immutable\n",
    "\n",
    "my_tuple = ('Ronaldo', 'Messi', 'Ibrahimovic', 'Suarez')\n",
    "\n",
    "my_tuple.append('Lewandowski')"
   ]
  },
  {
   "cell_type": "markdown",
   "metadata": {},
   "source": [
    "<br>\n",
    "<br>\n",
    "<br>"
   ]
  },
  {
   "cell_type": "markdown",
   "metadata": {
    "colab_type": "text",
    "id": "Mss6nihZfLWF"
   },
   "source": [
    "## Conditional statements & Control Sructures in Python"
   ]
  },
  {
   "cell_type": "markdown",
   "metadata": {
    "colab_type": "text",
    "id": "86_h_YeLfLWb"
   },
   "source": [
    "### The `for`loop and `if-elif-else` branching"
   ]
  },
  {
   "cell_type": "markdown",
   "metadata": {
    "colab_type": "text",
    "id": "4iOLDWCjfLWb"
   },
   "source": [
    "In programming, one of the key tasks we perform is a **certain set of actions repeatedly for a sequence of data.** Here's where Python's `for` loop comes into its own. It has a simple and flexible interface which allows us to iterate through many 'iterable' objects. 'Iterable' essentially means anything that can be looped over.\n"
   ]
  },
  {
   "cell_type": "code",
   "execution_count": null,
   "metadata": {},
   "outputs": [],
   "source": [
    "# Quarterly GDP growth in %\n",
    "gdp = [7.2, 7, 8, 6.6]\n",
    "\n",
    "\n",
    "signal = []"
   ]
  },
  {
   "cell_type": "code",
   "execution_count": null,
   "metadata": {},
   "outputs": [],
   "source": [
    "# Pay attention to the indentation and the syntax\n",
    "\n",
    "\n",
    "for i in range(len(gdp)):\n",
    "    \n",
    "    if gdp[i]>7 :\n",
    "        signal.append('buy')\n",
    "    \n",
    "    elif gdp[i]< 7:\n",
    "        signal.append('sell')\n",
    "        \n",
    "    else:\n",
    "        signal.append('hold')"
   ]
  },
  {
   "cell_type": "code",
   "execution_count": null,
   "metadata": {},
   "outputs": [],
   "source": [
    "print(signal)"
   ]
  },
  {
   "cell_type": "markdown",
   "metadata": {
    "colab_type": "text",
    "id": "aJDH9AjZfLXD"
   },
   "source": [
    "###  One line `if` statements and List Comprehensions"
   ]
  },
  {
   "cell_type": "code",
   "execution_count": null,
   "metadata": {
    "scrolled": true
   },
   "outputs": [],
   "source": [
    "last_price = 12\n",
    "average_price = 10\n",
    "\n",
    "# One line if statement with multiple conditions\n",
    "'long' if last_price > average_price else 'short' if last_price < average_price else 'hold' "
   ]
  },
  {
   "cell_type": "markdown",
   "metadata": {
    "colab_type": "text",
    "id": "XogT18yHfLXR"
   },
   "source": [
    "\n",
    "Now we'll look at some examples of **list comprehension, which is is an elegant tool to dynamically create sequences from other sequences** <br>\n",
    "The general **syntax** for list comprehension is **[expression for item in list]**."
   ]
  },
  {
   "cell_type": "code",
   "execution_count": null,
   "metadata": {},
   "outputs": [],
   "source": [
    "# Quarterly GDP growth in %\n",
    "gdp = [7.2, 7, 8, 6.6]\n",
    "\n",
    "# Using list comprehension and a one-line if statement together to generate a list of signals from the list 'gdp'\n",
    "signal = [('buy' if growth > 7 else 'sell' if growth <  7 else 'hold') for growth in gdp]\n",
    "signal"
   ]
  },
  {
   "cell_type": "code",
   "execution_count": null,
   "metadata": {},
   "outputs": [],
   "source": [
    "# Another example\n",
    "prices = [12.8, 13.9 ,13.2, 11.5, 10.3, 7.9 , 10, 11.3, 11.5, 12.0 ,12.9]\n",
    "\n",
    "log_prices = [np.log(p) for p in prices]\n",
    "log_prices"
   ]
  },
  {
   "cell_type": "markdown",
   "metadata": {
    "colab_type": "text",
    "id": "ihB9rdu3fLW1"
   },
   "source": [
    "### The `while` loop "
   ]
  },
  {
   "cell_type": "markdown",
   "metadata": {
    "colab_type": "text",
    "id": "FBlrv1MQfLW1"
   },
   "source": [
    "The while statement (loops): **repeat the action until a specified condition is met.**\n",
    "The statement `a = a + 1` can be replaced by `a += 1`. <br>\n",
    "Similarly, `a -= 1` means `a = a - 1`."
   ]
  },
  {
   "cell_type": "code",
   "execution_count": null,
   "metadata": {
    "colab": {},
    "colab_type": "code",
    "id": "0I0EOdyhfLW2",
    "jupyter": {
     "outputs_hidden": true
    },
    "outputId": "573677f4-c0a5-46a4-fb37-ade17c4fad4e"
   },
   "outputs": [],
   "source": [
    "month = 1      # initialize a counter variable\n",
    "\n",
    "while month <=12:\n",
    "    print(month,'/''2020')\n",
    "    month = month + 1     # update the counter variable\n"
   ]
  },
  {
   "cell_type": "markdown",
   "metadata": {
    "colab_type": "text",
    "id": "89kzHOYQfLW6"
   },
   "source": [
    "### Using `break` and `continue` in loops"
   ]
  },
  {
   "cell_type": "markdown",
   "metadata": {
    "colab_type": "text",
    "id": "KF7UyCGFfLW9"
   },
   "source": [
    "When iterating through a sequence, you can **exit the loop completely using break**\n",
    "and **skip the current iteration using continue.** See the example below.\n",
    "Before running it, think about what the expected output would be."
   ]
  },
  {
   "cell_type": "code",
   "execution_count": null,
   "metadata": {
    "colab": {},
    "colab_type": "code",
    "id": "z-zuIwPMfLW_",
    "jupyter": {
     "outputs_hidden": true
    },
    "outputId": "56bb80d8-bfde-4c64-bb10-efb55593727d"
   },
   "outputs": [],
   "source": [
    "for i in range(10):\n",
    "    if i == 4:\n",
    "        continue\n",
    "    else:\n",
    "        print(i)"
   ]
  },
  {
   "cell_type": "code",
   "execution_count": null,
   "metadata": {},
   "outputs": [],
   "source": [
    "for i in range(10):\n",
    "    if i == 4:\n",
    "        break\n",
    "    else:\n",
    "        print(i)"
   ]
  },
  {
   "cell_type": "markdown",
   "metadata": {},
   "source": [
    "<br>\n",
    "<br>\n",
    "<br>"
   ]
  },
  {
   "cell_type": "markdown",
   "metadata": {
    "colab_type": "text",
    "id": "KYg7Ueo_fLXi"
   },
   "source": [
    "## Functions"
   ]
  },
  {
   "cell_type": "markdown",
   "metadata": {
    "colab_type": "text",
    "id": "WPE2wb64fLXi"
   },
   "source": [
    "**Functions are a set of statements that together perform a particular task.** <br>For example, we can create a function to find the maximum in a list of numbers."
   ]
  },
  {
   "cell_type": "markdown",
   "metadata": {
    "colab_type": "text",
    "id": "69tC7G-3fLXj"
   },
   "source": [
    "### In-built functions:"
   ]
  },
  {
   "cell_type": "markdown",
   "metadata": {
    "colab_type": "text",
    "id": "rBcOm0G3fLXk"
   },
   "source": [
    "Fortunately for us, there are hundreds of functions which are native or built-in to Python. \n",
    "\n",
    "```python\n",
    "## Some commonly used functions which some of which we have seen already\n",
    "## Try each of them out and see if you can guess what the output would be\n",
    "\n",
    "min(20, 21, 25, 21, 9, 18, 15)\n",
    "round(100/9, 2)\n",
    "list((1, 2, 3, 4, 5))\n",
    "type(range(10))\n",
    "```"
   ]
  },
  {
   "cell_type": "code",
   "execution_count": null,
   "metadata": {
    "colab": {},
    "colab_type": "code",
    "id": "QKPOdnxofLXk",
    "jupyter": {
     "outputs_hidden": true
    },
    "outputId": "1ee0837a-f333-4fe6-caf2-3d275d6d3ed0"
   },
   "outputs": [],
   "source": [
    "# passing integers as agrument into min()\n",
    "\n",
    "min(1, 2, 3)"
   ]
  },
  {
   "cell_type": "code",
   "execution_count": null,
   "metadata": {},
   "outputs": [],
   "source": [
    "# chaining of functions\n",
    "\n",
    "my_tuple =(1,2,3)\n",
    "\n",
    "type(min(list(my_tuple)))"
   ]
  },
  {
   "cell_type": "markdown",
   "metadata": {
    "colab_type": "text",
    "id": "Rmuv1JjefLXv"
   },
   "source": [
    "#### `methods`"
   ]
  },
  {
   "cell_type": "markdown",
   "metadata": {
    "colab_type": "text",
    "id": "mSdG4o3FfLXw"
   },
   "source": [
    "Yes, we have seen them before!\n",
    "\n",
    "Methods are in-built functions for a datatype or data structure.\n",
    "Some methods are common between datatypes/data structures, where as some are unique to a specific datatype/data structure."
   ]
  },
  {
   "cell_type": "code",
   "execution_count": null,
   "metadata": {
    "colab": {},
    "colab_type": "code",
    "id": "RKwf2w6UfLXw"
   },
   "outputs": [],
   "source": [
    "# The append() method for lists\n",
    "my_list = [1, 2, 3]\n",
    "\n",
    "my_list.append(5)\n",
    "\n",
    "print(my_list)"
   ]
  },
  {
   "cell_type": "code",
   "execution_count": null,
   "metadata": {},
   "outputs": [],
   "source": [
    "# The upper() method for strings\n",
    "\n",
    "my_string = 'nick leeson'\n",
    "\n",
    "my_string.upper()"
   ]
  },
  {
   "cell_type": "code",
   "execution_count": null,
   "metadata": {},
   "outputs": [],
   "source": [
    "# .items() method for dictionaries\n",
    "\n",
    "my_dict = {'US':'NASDAQ','UK':'FTSE'}\n",
    "my_dict.items()"
   ]
  },
  {
   "cell_type": "markdown",
   "metadata": {
    "colab_type": "text",
    "id": "mxpgp1fufLX7"
   },
   "source": [
    "#### `In-built` functions from different  libraries"
   ]
  },
  {
   "cell_type": "markdown",
   "metadata": {
    "colab_type": "text",
    "id": "lVEM-mETfLX8"
   },
   "source": [
    "Different libraries/packages also come loaded with their own data structures and functions.<br>We need to import the library/package, before we can use the functions in them.<br><br>\n",
    "For example, the NumPy library contains a function .log() which when run on a sequence of values, returns the log values:\n"
   ]
  },
  {
   "cell_type": "code",
   "execution_count": null,
   "metadata": {
    "colab": {},
    "colab_type": "code",
    "id": "HRgsqDGSfLX9",
    "jupyter": {
     "outputs_hidden": true
    },
    "outputId": "8c6ba13a-3944-41d1-d6c2-d8d70b3a7da6"
   },
   "outputs": [],
   "source": [
    "import numpy as np\n",
    "\n",
    "oil_price = [54.3, 56.8, 58, 57.6, 55]\n",
    "\n",
    "np.log(oil_price)"
   ]
  },
  {
   "cell_type": "markdown",
   "metadata": {
    "colab_type": "text",
    "id": "kvT1bxGyfLX_"
   },
   "source": [
    "### User-defined functions:"
   ]
  },
  {
   "cell_type": "markdown",
   "metadata": {
    "colab_type": "text",
    "id": "v_zX2TdTfLYA"
   },
   "source": [
    "We shall also learn to create our own functions for tasks that are unique to our objectives (if the built-in or the functions that come from libraries do not suffice). **User-defined functions** improve the clarity of our code and **facilitate code reuse** (https://en.wikipedia.org/wiki/Don%27t_repeat_yourself), a cardinal principle of good programming.\n",
    "\n",
    "We **define a function using the keyword `def` followed by the function name and the arguments that it takes as input.** We then write our lines of code as a code block to specify the actions that need to be performed. A function can return any kind of object including other functions. For this, we use `return` statements. We can have any number of `return` statements (including zero). "
   ]
  },
  {
   "cell_type": "code",
   "execution_count": null,
   "metadata": {
    "colab": {},
    "colab_type": "code",
    "id": "lLBLzfPdfLYA"
   },
   "outputs": [],
   "source": [
    "# Defining a function that returns a string stating whether the number is negative or not.\n",
    "\n",
    "def negative_or_not(x):\n",
    "    if x < 0:\n",
    "        return 'Negative number'\n",
    "    else:\n",
    "        return 'Non-negative number'"
   ]
  },
  {
   "cell_type": "markdown",
   "metadata": {
    "colab_type": "text",
    "id": "F5WqR2JwfLYG"
   },
   "source": [
    "We **call a function using its name and passing it the arguments that it needs as input.**"
   ]
  },
  {
   "cell_type": "code",
   "execution_count": null,
   "metadata": {
    "colab": {},
    "colab_type": "code",
    "id": "VIugKDlpfLYG",
    "outputId": "51d35d77-4284-45c3-8794-a5c6249266f6"
   },
   "outputs": [],
   "source": [
    "negative_or_not(2)\n",
    "negative_or_not(-2)"
   ]
  },
  {
   "cell_type": "markdown",
   "metadata": {
    "colab_type": "text",
    "id": "zXdbq3JUfLYN"
   },
   "source": [
    "### `lambda` functions/Anonymous functions:"
   ]
  },
  {
   "cell_type": "markdown",
   "metadata": {
    "colab_type": "text",
    "id": "miwjpZh-fLYN"
   },
   "source": [
    "We can also create anonymous functions called `lambda` functions which can be very convenient in some cases, such as **when the operations performed are relatively straightforward.**\n",
    "<br><br>\n",
    "**Syntax** for a lambda function is <br> **`lambda` arguments : expression**<br>\n",
    "The expression is executed and the result is returned."
   ]
  },
  {
   "cell_type": "markdown",
   "metadata": {
    "colab_type": "text",
    "id": "g7U7wGPMfLYO"
   },
   "source": [
    "We can write the `lambda` version of the  user defined function we defined above, just in a single line of code :"
   ]
  },
  {
   "cell_type": "code",
   "execution_count": null,
   "metadata": {
    "colab": {},
    "colab_type": "code",
    "id": "tfy53M8SfLYO"
   },
   "outputs": [],
   "source": [
    "negative_or_not_lambda = lambda x: 'Negative' if x<0 else 'Non negative'"
   ]
  },
  {
   "cell_type": "code",
   "execution_count": null,
   "metadata": {
    "colab": {},
    "colab_type": "code",
    "id": "7S0lw6EAfLYS",
    "jupyter": {
     "outputs_hidden": true
    },
    "outputId": "c58c2ba9-9a6b-450d-e6df-4a74b28a0335"
   },
   "outputs": [],
   "source": [
    "negative_or_not_lambda(-2)"
   ]
  },
  {
   "cell_type": "code",
   "execution_count": null,
   "metadata": {
    "colab": {},
    "colab_type": "code",
    "id": "oh5dzsX4fLYU",
    "jupyter": {
     "outputs_hidden": true
    },
    "outputId": "f45b72f2-cce7-4610-d4d7-3e07e6d97c7e"
   },
   "outputs": [],
   "source": [
    "negative_or_not_lambda(0)"
   ]
  },
  {
   "cell_type": "markdown",
   "metadata": {
    "colab_type": "text",
    "id": "K2nBzWW2fLYj"
   },
   "source": [
    "In the above case, we have explicitly given a name to our lambda function,\n",
    "however, we will see use cases in the subsequent lectures, where we will directly use them \n",
    "without naming/saving them at all. This leads to efficient utilization of memory resources. Due to this feature, lambda functions are also called 'anonymous' functions.\n",
    "<br>\n",
    "For now, just learn the syntax of a `lambda` function carefully."
   ]
  },
  {
   "cell_type": "markdown",
   "metadata": {},
   "source": [
    "<br>\n",
    "<br>"
   ]
  },
  {
   "cell_type": "markdown",
   "metadata": {
    "colab_type": "text",
    "id": "GFcnEdamfLYk"
   },
   "source": [
    "\n",
    "## Libraries/modules/ packages"
   ]
  },
  {
   "cell_type": "markdown",
   "metadata": {
    "colab_type": "text",
    "id": "voHUg2CEfLYl"
   },
   "source": [
    "One of the key design features of Python is, it's a relatively small core language supported by **many high quality libraries (mostly from third parties)**. So we import them depending on the actions/tasks we need to perform. These **libraries are also loosely referred to as modules or packages**. You'll find these words used interchangeably. So get used to it."
   ]
  },
  {
   "cell_type": "markdown",
   "metadata": {
    "colab_type": "text",
    "id": "-tFat83afLYn"
   },
   "source": [
    "```python\n",
    "## Importing libraries\n",
    "```\n",
    "We import or load these libraries using the keyword `import`. We usually import it using an alias to make access easier. If we want to import all the components of a library, we can use *\n",
    "\n",
    "```python\n",
    "import pandas as pd\n",
    "import numpy as np\n",
    "\n",
    "from math import * # this is almost always a bad idea. Because you won't know what exactly is imported. \n",
    "# Plus namespace issues (you can read about this online)\n",
    "# instead import only what you need\n",
    "from math import log\n",
    "\n",
    "# You can also import only a sublibrary or submodule if that's all you need\n",
    "import statsmodels.stats as sms\n",
    "\n",
    "## to check what components exist in the imported library we use dir()\n",
    "```"
   ]
  },
  {
   "cell_type": "code",
   "execution_count": null,
   "metadata": {
    "colab": {},
    "colab_type": "code",
    "id": "phdPts6tfLYn",
    "jupyter": {
     "outputs_hidden": true
    },
    "outputId": "3909c6b3-7b5b-4402-9e8d-41802e1d9ab5"
   },
   "outputs": [],
   "source": [
    "# Importing the in-built OS library\n",
    "import os\n",
    "# Using the getcwd function from the OS library to get the current working directory\n",
    "os.getcwd()"
   ]
  },
  {
   "cell_type": "code",
   "execution_count": null,
   "metadata": {},
   "outputs": [],
   "source": [
    "os.chdir('C:\\\\Users\\\\Ashutosh\\\\Desktop\\\\new')"
   ]
  },
  {
   "cell_type": "code",
   "execution_count": null,
   "metadata": {},
   "outputs": [],
   "source": [
    "dir(os)"
   ]
  },
  {
   "cell_type": "markdown",
   "metadata": {
    "colab_type": "text",
    "id": "9wYo9jZnfLYp"
   },
   "source": [
    "## The `NumPy` Library"
   ]
  },
  {
   "cell_type": "markdown",
   "metadata": {
    "colab_type": "text",
    "id": "clY9KxjOfLYs",
    "jupyter": {
     "source_hidden": true
    }
   },
   "source": [
    "`NumPy` is a very popular library and an integral part of the scientific ecosystem in Python. It is widely used in academia, finance and industry. The key purpose that `NumPy` serves is **fast processing with low memory overheads.**<br>\n",
    "<br>\n",
    "`NumPy` provides the powerful array data type called `numpy.ndarray`. These arrays are somewhat like native Python lists, except that the data must be **homogeneous (all elements of the same type).**\n",
    "\n",
    "`NumPy` is best utilized when the computations that have to be performed can be **vectorized**. Vectorization essentially involves the elimination of a `for` loop in performing the task. Meaning, rather than performing the same task sequentially hundreds of times, it is done so **batchwise**. For ex. computing moving averages for an entire array, or generating a sequence of random values."
   ]
  },
  {
   "cell_type": "markdown",
   "metadata": {
    "colab_type": "text",
    "id": "0BmhFSgUfLYt"
   },
   "source": [
    "#### Importing"
   ]
  },
  {
   "cell_type": "code",
   "execution_count": null,
   "metadata": {
    "colab": {},
    "colab_type": "code",
    "id": "_fA49RUZfLYu"
   },
   "outputs": [],
   "source": [
    "import numpy as np # np is a standard alias for NumPy "
   ]
  },
  {
   "cell_type": "code",
   "execution_count": null,
   "metadata": {
    "colab": {},
    "colab_type": "code",
    "id": "2nYukCuVfLYw",
    "jupyter": {
     "outputs_hidden": true
    },
    "outputId": "c2cca658-1402-4f2b-d7f6-232b91d858f7"
   },
   "outputs": [],
   "source": [
    "# Library object has an attribute called version\n",
    "np.__version__"
   ]
  },
  {
   "cell_type": "markdown",
   "metadata": {
    "colab_type": "text",
    "id": "O68EpzLnfLYy"
   },
   "source": [
    "### Multiple ways to create a NumPy ndarray"
   ]
  },
  {
   "cell_type": "markdown",
   "metadata": {
    "colab_type": "text",
    "id": "z28Smc0LfLYz"
   },
   "source": [
    "`NumPy` provides a number of functions to create arrays:"
   ]
  },
  {
   "cell_type": "code",
   "execution_count": null,
   "metadata": {
    "colab": {},
    "colab_type": "code",
    "id": "jEOW-Yl5fLY0",
    "jupyter": {
     "outputs_hidden": true
    },
    "outputId": "b7e4b50d-6e0f-4a56-8b31-df63e3a4811b"
   },
   "outputs": [],
   "source": [
    "# Conversion of lists into arrays using np.array()\n",
    "\n",
    "array_from_list = np.array([1,2,3,4])\n",
    "array_from_list"
   ]
  },
  {
   "cell_type": "code",
   "execution_count": null,
   "metadata": {},
   "outputs": [],
   "source": [
    "print([1,2,3,4])"
   ]
  },
  {
   "cell_type": "code",
   "execution_count": null,
   "metadata": {},
   "outputs": [],
   "source": [
    "# notice that there are no commas when we print a NumPy array\n",
    "print(array_from_list)"
   ]
  },
  {
   "cell_type": "code",
   "execution_count": null,
   "metadata": {
    "colab": {},
    "colab_type": "code",
    "id": "aDdV6oiufLY1",
    "jupyter": {
     "outputs_hidden": true
    },
    "outputId": "a1af72b6-7875-4498-9659-47959e55e598"
   },
   "outputs": [],
   "source": [
    "# Creation of arrays using np.linspace()\n",
    "# linspace() returns an array of evenly spaced numbers over a specified interval\n",
    "\n",
    "array_linspace = np.linspace(0, 4, num=6)\n",
    "print(array_linspace)"
   ]
  },
  {
   "cell_type": "code",
   "execution_count": null,
   "metadata": {
    "colab": {},
    "colab_type": "code",
    "id": "DJ2qM3TifLY4",
    "jupyter": {
     "outputs_hidden": true
    },
    "outputId": "1e3bde4d-431e-4114-b140-feb4b248e7fb"
   },
   "outputs": [],
   "source": [
    "help(np.linspace)"
   ]
  },
  {
   "cell_type": "code",
   "execution_count": null,
   "metadata": {
    "colab": {},
    "colab_type": "code",
    "id": "FuTZ3oJwfLY7",
    "outputId": "f7ea67b5-04d8-4a5f-fcf3-eb6ab81e18cb"
   },
   "outputs": [],
   "source": [
    "# Creation of arrays using np.arange()\n",
    "\n",
    "array_arange = np.arange(2, 6, step=0.5)\n",
    "print(array_arange)"
   ]
  },
  {
   "cell_type": "markdown",
   "metadata": {
    "colab_type": "text",
    "id": "yIYGr0-TfLZB"
   },
   "source": [
    "As an exercise, check out how you can create arrays using:  np.zeros() and np.ones()."
   ]
  },
  {
   "cell_type": "markdown",
   "metadata": {},
   "source": [
    "### NumPy array vs Python list"
   ]
  },
  {
   "cell_type": "markdown",
   "metadata": {},
   "source": [
    "Both the data structures have their own advantages. Lists are more flexible and can store heterogenous data, whereas numpy arrays store homogenous data and is much faster in dealing with numbers and numerical/scientifics computations due to **vectorization**.."
   ]
  },
  {
   "cell_type": "code",
   "execution_count": null,
   "metadata": {},
   "outputs": [],
   "source": [
    "a= [i for i in range(1000)]\n",
    "print(a)"
   ]
  },
  {
   "cell_type": "code",
   "execution_count": null,
   "metadata": {},
   "outputs": [],
   "source": [
    "b = np.array(a)\n",
    "print(b)"
   ]
  },
  {
   "cell_type": "code",
   "execution_count": null,
   "metadata": {},
   "outputs": [],
   "source": [
    "%%timeit\n",
    "max(a)"
   ]
  },
  {
   "cell_type": "code",
   "execution_count": null,
   "metadata": {},
   "outputs": [],
   "source": [
    "%%timeit\n",
    "np.max(b)"
   ]
  },
  {
   "cell_type": "markdown",
   "metadata": {
    "colab_type": "text",
    "id": "iLI2su5WfLZl"
   },
   "source": [
    "### Vectorized operations on NumPy arrays"
   ]
  },
  {
   "cell_type": "code",
   "execution_count": null,
   "metadata": {
    "colab": {},
    "colab_type": "code",
    "id": "fnvcbpEOfLZm"
   },
   "outputs": [],
   "source": [
    "# Let us consider two lists:\n",
    "\n",
    "height = [1.73, 1.68, 1.71, 1.89, 1.79]\n",
    "weight = [65.4, 59.2, 63.6, 88.4, 68.7]"
   ]
  },
  {
   "cell_type": "code",
   "execution_count": null,
   "metadata": {
    "colab": {},
    "colab_type": "code",
    "id": "QFyQlWtdfLZs",
    "jupyter": {
     "outputs_hidden": true
    },
    "outputId": "f9320285-5300-42ca-8102-64005641a117"
   },
   "outputs": [],
   "source": [
    "\n",
    "weight / height ** 2\n",
    "# such operations do not work on lists straightaway"
   ]
  },
  {
   "cell_type": "code",
   "execution_count": null,
   "metadata": {
    "colab": {},
    "colab_type": "code",
    "id": "q1apgrqbfLZx",
    "jupyter": {
     "outputs_hidden": true
    },
    "outputId": "a8c2c58a-9558-41f6-cc58-f037d6f6b212"
   },
   "outputs": [],
   "source": [
    "# so, we have to use a lengthy for-loop to calculate the bmi for each obeservation\n",
    "\n",
    "bmi_list = []\n",
    "\n",
    "for i in range(len(height)):\n",
    "    bmi_list.append(weight[i] / height[i] ** 2)\n",
    "\n",
    "print(bmi_list)"
   ]
  },
  {
   "cell_type": "code",
   "execution_count": null,
   "metadata": {
    "colab": {},
    "colab_type": "code",
    "id": "btvFqHrxfLZ0",
    "jupyter": {
     "outputs_hidden": true
    },
    "outputId": "01501269-d253-48d1-8d14-9cb6edef9d6e"
   },
   "outputs": [],
   "source": [
    "# Need another for-loop to categorize the observations into 'healthy' and 'obese' based on the bmi values\n",
    "\n",
    "health_report = []\n",
    "\n",
    "for i in bmi_list:\n",
    "    if i < 23:\n",
    "        health_report.append('Healthy')\n",
    "    else:\n",
    "        health_report.append('Obese')\n",
    "\n",
    "print(health_report)"
   ]
  },
  {
   "cell_type": "code",
   "execution_count": null,
   "metadata": {
    "colab": {},
    "colab_type": "code",
    "id": "378pqclufLZ6"
   },
   "outputs": [],
   "source": [
    "# We can achieve the same objective in much convenient way through Vectorization\n",
    "# let us convert the lists to a NumPy ndarrays\n",
    "\n",
    "np_height = np.array(height) \n",
    "np_weight = np.array(weight)"
   ]
  },
  {
   "cell_type": "code",
   "execution_count": null,
   "metadata": {
    "colab": {},
    "colab_type": "code",
    "id": "A4lKiYsJfLZ8"
   },
   "outputs": [],
   "source": [
    "# this is a vectorized calculation step\n",
    "\n",
    "bmi_array = np_weight / np_height ** 2   "
   ]
  },
  {
   "cell_type": "code",
   "execution_count": null,
   "metadata": {
    "colab": {},
    "colab_type": "code",
    "id": "hhWYzNESfLZ-",
    "jupyter": {
     "outputs_hidden": true
    },
    "outputId": "3b081789-bbc3-4f49-c2f1-6f496f7dd68d"
   },
   "outputs": [],
   "source": [
    "# The final result of the vectorized operation is also a NumPy ndarray\n",
    "\n",
    "bmi_array"
   ]
  },
  {
   "cell_type": "code",
   "execution_count": null,
   "metadata": {
    "colab": {},
    "colab_type": "code",
    "id": "tdx8VB7ifLaA",
    "jupyter": {
     "outputs_hidden": true
    },
    "outputId": "95a2bcb4-c027-429e-a7d2-1ad112a879dd"
   },
   "outputs": [],
   "source": [
    "# Using np.where() to generate health report\n",
    "\n",
    "health_report_array = np.where(bmi_array < 23, 'Healthy', 'Obese')\n",
    "print(health_report_array)"
   ]
  },
  {
   "cell_type": "code",
   "execution_count": null,
   "metadata": {},
   "outputs": [],
   "source": [
    "dir(np)"
   ]
  },
  {
   "cell_type": "markdown",
   "metadata": {
    "colab_type": "text",
    "id": "Wbs054y9fLZB"
   },
   "source": [
    "### Generating random samples from statistical distributions using NumPy"
   ]
  },
  {
   "cell_type": "markdown",
   "metadata": {
    "colab_type": "text",
    "id": "IRHHSBjffLZC"
   },
   "source": [
    "We can generate random samples from many  statistical distributions such as normal, uniform, binomial, poisson, f etc.\n",
    "using the functions from random submodule of NumPy:"
   ]
  },
  {
   "cell_type": "code",
   "execution_count": null,
   "metadata": {
    "colab": {},
    "colab_type": "code",
    "id": "DtKKY8mEfLZD"
   },
   "outputs": [],
   "source": [
    "# Generating 10,000 random samples from a normal distribution with mean=0 and stdev=1\n",
    "\n",
    "x = np.random.normal(0, 1, size=10000) "
   ]
  },
  {
   "cell_type": "code",
   "execution_count": null,
   "metadata": {},
   "outputs": [],
   "source": [
    "x"
   ]
  },
  {
   "cell_type": "code",
   "execution_count": null,
   "metadata": {
    "colab": {},
    "colab_type": "code",
    "id": "vfZ0QNiTfLZG",
    "jupyter": {
     "outputs_hidden": true
    },
    "outputId": "d5450349-6e45-49ea-b129-b7ffe1909c68"
   },
   "outputs": [],
   "source": [
    "np.mean(x)"
   ]
  },
  {
   "cell_type": "code",
   "execution_count": null,
   "metadata": {
    "colab": {},
    "colab_type": "code",
    "id": "KLYaFecPfLZI",
    "jupyter": {
     "outputs_hidden": true
    },
    "outputId": "743f04be-71ed-43ef-ace4-7aa9c251e367"
   },
   "outputs": [],
   "source": [
    "np.std(x)"
   ]
  },
  {
   "cell_type": "code",
   "execution_count": null,
   "metadata": {
    "colab": {},
    "colab_type": "code",
    "id": "AC2fjskUfLZJ",
    "jupyter": {
     "outputs_hidden": true
    },
    "outputId": "aac76f8d-c3a3-405c-b360-8a7f6d401324"
   },
   "outputs": [],
   "source": [
    "# Generating 10 random samples from a uniform distribution between 2 and 4.\n",
    "\n",
    "x = np.random.uniform(2, 4, size=10)\n",
    "print(x)"
   ]
  },
  {
   "cell_type": "code",
   "execution_count": null,
   "metadata": {
    "colab": {},
    "colab_type": "code",
    "id": "M7hTCccqfLZL",
    "jupyter": {
     "outputs_hidden": true
    },
    "outputId": "a4b987a0-6d18-4e14-cdd6-a2378656d580"
   },
   "outputs": [],
   "source": [
    "np.random.uniform(2, 4, size=10)"
   ]
  },
  {
   "cell_type": "code",
   "execution_count": null,
   "metadata": {
    "colab": {},
    "colab_type": "code",
    "id": "NLAFxxREfLZN",
    "jupyter": {
     "outputs_hidden": true
    },
    "outputId": "daf24f30-aa40-4e47-9fb6-ad6a94b55db8"
   },
   "outputs": [],
   "source": [
    "np.random.uniform(2, 4, size=10)"
   ]
  },
  {
   "cell_type": "code",
   "execution_count": null,
   "metadata": {
    "colab": {},
    "colab_type": "code",
    "id": "yVkqo9CpfLZO"
   },
   "outputs": [],
   "source": [
    "# Seeding the random number generation\n",
    "# This essentialy helps us to generate the same set of random numbers every time\n",
    "# Helpful when you have to present your findings/analysis to others"
   ]
  },
  {
   "cell_type": "code",
   "execution_count": null,
   "metadata": {
    "colab": {},
    "colab_type": "code",
    "id": "ofzNMoGbfLZQ",
    "jupyter": {
     "outputs_hidden": true
    },
    "outputId": "383dc99f-970b-4b41-ac6b-47e7a0cee97d"
   },
   "outputs": [],
   "source": [
    "np.random.seed(100)\n",
    "np.random.uniform(2, 4, size=10)"
   ]
  },
  {
   "cell_type": "code",
   "execution_count": null,
   "metadata": {
    "colab": {},
    "colab_type": "code",
    "id": "gKw8b586fLZR",
    "jupyter": {
     "outputs_hidden": true
    },
    "outputId": "a50ef910-8179-458e-c670-5b72382cbca1"
   },
   "outputs": [],
   "source": [
    "# We can recreate the same set of random numbers by providing the same seed\n",
    "np.random.seed(100)\n",
    "np.random.uniform(2, 4, size=10)"
   ]
  },
  {
   "cell_type": "code",
   "execution_count": null,
   "metadata": {
    "colab": {},
    "colab_type": "code",
    "id": "y92N-sjvfLZT",
    "jupyter": {
     "outputs_hidden": true
    },
    "outputId": "d33d99cd-636c-45ea-ce62-5c5e2718ba1e"
   },
   "outputs": [],
   "source": [
    "help(np.random)"
   ]
  },
  {
   "cell_type": "code",
   "execution_count": null,
   "metadata": {
    "colab": {},
    "colab_type": "code",
    "id": "9tzxBs6FfLZV",
    "jupyter": {
     "outputs_hidden": true
    },
    "outputId": "e6cd9804-1aed-460a-a9a5-02632aea4f7f"
   },
   "outputs": [],
   "source": [
    "help(np.random.seed)"
   ]
  },
  {
   "cell_type": "code",
   "execution_count": null,
   "metadata": {},
   "outputs": [],
   "source": [
    "# np.random.randint() can be used to generate random integers between specific values\n",
    "ty  = np.random.randint(10,21,5)\n",
    "ty"
   ]
  },
  {
   "cell_type": "code",
   "execution_count": null,
   "metadata": {},
   "outputs": [],
   "source": [
    "# Optional/Try later: Visualizing the distributions of created random samples using the Seaborn library\n",
    "import seaborn as sns\n",
    "import matplotlib.pyplot as plt\n",
    "\n",
    "# Generating random data from the normal and Uniform distributions\n",
    "standard_normal = np.random.normal(0,1,10000)\n",
    "uniform = np.random.uniform(-2,2,10000)\n",
    "\n",
    "# Plotting the distributions using the distplot function from the Seaborn library\n",
    "sns.set(rc={'figure.figsize':(12,7)})\n",
    "sns.distplot(standard_normal, color='blue', label='Standard Normal',hist=False)\n",
    "sns.distplot(uniform, color='red', label='Uniform',hist=False)\n",
    "plt.title(' Samples from Normal and Uniform Distributions',fontsize=15)\n",
    "plt.xlabel('Values')\n",
    "plt.ylabel('PDF')\n",
    "plt.legend()\n",
    "plt.show()"
   ]
  },
  {
   "cell_type": "markdown",
   "metadata": {},
   "source": [
    "### Attributes of NumPy arrays: ndim, dtype and shape"
   ]
  },
  {
   "cell_type": "code",
   "execution_count": null,
   "metadata": {},
   "outputs": [],
   "source": [
    "# creating higher dimensional array like a matrix\n",
    "x = np.array([[2, 4, 6], [6, 8, 10]], np.int64)\n",
    "print(x)"
   ]
  },
  {
   "cell_type": "code",
   "execution_count": null,
   "metadata": {
    "scrolled": true
   },
   "outputs": [],
   "source": [
    "print(type(x))"
   ]
  },
  {
   "cell_type": "code",
   "execution_count": null,
   "metadata": {},
   "outputs": [],
   "source": [
    "print(x.ndim) # The 'ndim' attribute gives the dimension of the array"
   ]
  },
  {
   "cell_type": "code",
   "execution_count": null,
   "metadata": {},
   "outputs": [],
   "source": [
    "print(x.shape)"
   ]
  },
  {
   "cell_type": "code",
   "execution_count": null,
   "metadata": {},
   "outputs": [],
   "source": [
    "print(x.dtype)"
   ]
  },
  {
   "cell_type": "markdown",
   "metadata": {
    "colab_type": "text",
    "id": "AX5HGaySfLZX"
   },
   "source": [
    "### Other functions of interest provided by NumPy"
   ]
  },
  {
   "cell_type": "markdown",
   "metadata": {
    "colab_type": "text",
    "id": "aAvhkhCOfLZY"
   },
   "source": [
    "#### `np.where()`"
   ]
  },
  {
   "cell_type": "markdown",
   "metadata": {
    "colab": {},
    "colab_type": "code",
    "id": "qZfX_kAffLZZ",
    "jupyter": {
     "outputs_hidden": true
    },
    "outputId": "86b8dcd1-3480-461d-cc96-491f4ac71bac"
   },
   "source": [
    "\n",
    "**np.where(condition, expression_1, expression_2)**<br>\n",
    "For each element of the array,\n",
    "- the first expression value is returned if the condition is true\n",
    "- the second expression value is returned if the condition is false"
   ]
  },
  {
   "cell_type": "code",
   "execution_count": null,
   "metadata": {},
   "outputs": [],
   "source": [
    "x = np.array([2, 3, 1, 7, 2, 8])"
   ]
  },
  {
   "cell_type": "code",
   "execution_count": null,
   "metadata": {},
   "outputs": [],
   "source": [
    "np.where(x>3, 'buy', 'sell')"
   ]
  },
  {
   "cell_type": "markdown",
   "metadata": {},
   "source": [
    "- If only the condition is given (without any expressions), np.where() will return an array of index locations at which the condition is true"
   ]
  },
  {
   "cell_type": "code",
   "execution_count": null,
   "metadata": {
    "colab": {},
    "colab_type": "code",
    "id": "UzvwPLdafLZc",
    "jupyter": {
     "outputs_hidden": true
    },
    "outputId": "e6995cb1-efce-47f2-f033-beedd964a30b"
   },
   "outputs": [],
   "source": [
    "# The following by default returns an array of index locations at which the condition is true. \n",
    "\n",
    "np.where(x>3)"
   ]
  },
  {
   "cell_type": "code",
   "execution_count": null,
   "metadata": {
    "colab": {},
    "colab_type": "code",
    "id": "P57BfNuffLZd",
    "jupyter": {
     "outputs_hidden": true
    },
    "outputId": "81d8c292-68ce-4f06-be42-0c5720289439"
   },
   "outputs": [],
   "source": [
    "# Fetching elements of array x which are greater than 3\n",
    "\n",
    "x[np.where(x>3)]"
   ]
  },
  {
   "cell_type": "markdown",
   "metadata": {},
   "source": [
    "#### Homework: Try other functions from NumPy such as np.mean, np.std, np.log, np.exp etc."
   ]
  },
  {
   "cell_type": "markdown",
   "metadata": {
    "colab_type": "text",
    "id": "CoTvWiQYfLZf"
   },
   "source": [
    "#### `np.log()`"
   ]
  },
  {
   "cell_type": "code",
   "execution_count": null,
   "metadata": {},
   "outputs": [],
   "source": [
    "x"
   ]
  },
  {
   "cell_type": "code",
   "execution_count": null,
   "metadata": {
    "colab": {},
    "colab_type": "code",
    "id": "nUyibt9lfLZh",
    "jupyter": {
     "outputs_hidden": true
    },
    "outputId": "345ff7e3-2ce9-4b51-b190-596763212efb"
   },
   "outputs": [],
   "source": [
    "z= np.log(x)\n",
    "z"
   ]
  },
  {
   "cell_type": "code",
   "execution_count": null,
   "metadata": {
    "colab": {},
    "colab_type": "code",
    "id": "F8PGR3defLZj",
    "jupyter": {
     "outputs_hidden": true
    },
    "outputId": "c3273afb-360c-48b8-9c15-c877d90c3482"
   },
   "outputs": [],
   "source": [
    "np.exp(z)"
   ]
  },
  {
   "cell_type": "code",
   "execution_count": null,
   "metadata": {},
   "outputs": [],
   "source": [
    "x = np.array([1,2,3])"
   ]
  },
  {
   "cell_type": "code",
   "execution_count": null,
   "metadata": {},
   "outputs": [],
   "source": [
    "x\n",
    "print(x)"
   ]
  },
  {
   "cell_type": "markdown",
   "metadata": {},
   "source": [
    "<br>"
   ]
  },
  {
   "cell_type": "markdown",
   "metadata": {
    "colab_type": "text",
    "id": "Pt_mOmW5fLaB"
   },
   "source": [
    "## The `pandas` Library"
   ]
  },
  {
   "cell_type": "markdown",
   "metadata": {
    "colab_type": "text",
    "id": "WdedBLPQfLaB"
   },
   "source": [
    "`pandas` like `NumPy` is a key constituent of the scientific computing framework in Python.\n",
    "It's a powerful tool which can perform data manipulation and other excel like operations at high speed. \n",
    "\n",
    "To give you a sense of how comprehensive it is, the [official documentation](https://pandas.pydata.org/pandas-docs/stable/) of `pandas` is over 3000 pages!\n",
    "\n",
    "**`pandas` is built on top of NumPy.** Many of the more sophisticated statistical libraries such as `statsmodels` and `scikit-learn` in turn are built on top of `pandas`. Thus there is a **high degree of compatibility** among these libraries.<br><br>\n",
    "Two of the most important data structures in `pandas` that we will extensively use are `Series` and `DataFrame`."
   ]
  },
  {
   "cell_type": "code",
   "execution_count": null,
   "metadata": {},
   "outputs": [],
   "source": [
    "# importing the pandas library\n",
    "import pandas as pd"
   ]
  },
  {
   "cell_type": "markdown",
   "metadata": {},
   "source": [
    "[](pbq5.png)"
   ]
  },
  {
   "cell_type": "markdown",
   "metadata": {
    "colab_type": "text",
    "id": "W1QaMNNMfLaC"
   },
   "source": [
    "### `Series` data structure in `pandas`\n",
    "**`Series` can be thought of as a single 'column' of data in a spreadsheet, along with its index.** In other words, it is a \n",
    "one dimensional labelled-array.\n"
   ]
  },
  {
   "cell_type": "code",
   "execution_count": null,
   "metadata": {
    "colab": {},
    "colab_type": "code",
    "id": "JakSAN8mfLaC"
   },
   "outputs": [],
   "source": [
    "# Consider a list which contains daily returns of a stock for 5 days.\n",
    "\n",
    "returns_list = [0.05, 0.03, -0.04, 0.04, 0.02]"
   ]
  },
  {
   "cell_type": "code",
   "execution_count": null,
   "metadata": {
    "colab": {},
    "colab_type": "code",
    "id": "uEGZ8rEafLaF",
    "jupyter": {
     "outputs_hidden": true
    },
    "outputId": "969f8a29-1a2a-4ca6-9341-567e333105ee"
   },
   "outputs": [],
   "source": [
    "# We can easily convert it into a pandas Series\n",
    "\n",
    "import pandas as pd\n",
    "\n",
    "returns_series = pd.Series(returns_list)\n",
    "\n",
    "print(type(returns_series))\n",
    "print(returns_series)"
   ]
  },
  {
   "cell_type": "markdown",
   "metadata": {
    "colab_type": "text",
    "id": "mZ738_ZBfLaG"
   },
   "source": [
    "Notice that the output **automatically creates indices numbered from 0 to 4.** This is similar to a NumPy array except that\n",
    "there are many additional features unique to pandas Series."
   ]
  },
  {
   "cell_type": "code",
   "execution_count": null,
   "metadata": {
    "colab": {},
    "colab_type": "code",
    "id": "Xf48GfeCfLaI",
    "jupyter": {
     "outputs_hidden": true
    },
    "outputId": "16101486-ccac-4ddc-aab9-d12216f24867"
   },
   "outputs": [],
   "source": [
    "# We can provide a more meaningful index:\n",
    "\n",
    "returns_series = pd.Series(returns_list, index=['Monday','Tuesday','Wednesday','Thursday','Friday'])\n",
    "print(returns_series)"
   ]
  },
  {
   "cell_type": "code",
   "execution_count": null,
   "metadata": {},
   "outputs": [],
   "source": [
    "returns_series.index"
   ]
  },
  {
   "cell_type": "code",
   "execution_count": null,
   "metadata": {
    "colab": {},
    "colab_type": "code",
    "id": "axWvwjLkfLaK",
    "jupyter": {
     "outputs_hidden": true
    },
    "outputId": "ed4632cc-0779-40b1-9994-dbee93a2906e"
   },
   "outputs": [],
   "source": [
    "# We can also change the index \n",
    "\n",
    "returns_series.index=['Mon','Tue','Wed','Thu','Fri']\n",
    "print(returns_series)"
   ]
  },
  {
   "cell_type": "markdown",
   "metadata": {
    "colab_type": "text",
    "id": "vvzPNNYFfLaP"
   },
   "source": [
    "In fact, **`Series` are like Python dictionaries**, with the index being analogous to the `keys` \n",
    "and the actual data equivalent to `values`. Even the syntax is similar to Python dictionaries."
   ]
  },
  {
   "cell_type": "code",
   "execution_count": null,
   "metadata": {
    "colab": {},
    "colab_type": "code",
    "id": "jX44n8YKfLaQ",
    "jupyter": {
     "outputs_hidden": true
    },
    "outputId": "7a661e00-575c-4101-db2f-a2be46fcab0c"
   },
   "outputs": [],
   "source": [
    "returns_series['Thu']"
   ]
  },
  {
   "cell_type": "markdown",
   "metadata": {
    "colab_type": "text",
    "id": "1m0oEO8ofLaS"
   },
   "source": [
    "Similarly, we can also manually create a Series object by passing in a dictionary object into the pd.Series() function:"
   ]
  },
  {
   "cell_type": "code",
   "execution_count": null,
   "metadata": {},
   "outputs": [],
   "source": [
    "a = {0: 'a', 1: 'b', 2: 'a', 3: 'b', 4: 'd', 5: 'b', 6: 'c', 7: 'a', 8: 'a', 9: 'c'}\n",
    "\n",
    "# converting a dictionary to a Series\n",
    "my_series = pd.Series(a)"
   ]
  },
  {
   "cell_type": "code",
   "execution_count": null,
   "metadata": {},
   "outputs": [],
   "source": [
    "my_series"
   ]
  },
  {
   "cell_type": "code",
   "execution_count": null,
   "metadata": {},
   "outputs": [],
   "source": [
    "my_series.index"
   ]
  },
  {
   "cell_type": "code",
   "execution_count": null,
   "metadata": {},
   "outputs": [],
   "source": [
    "my_series.values"
   ]
  },
  {
   "cell_type": "code",
   "execution_count": null,
   "metadata": {},
   "outputs": [],
   "source": [
    "my_series.value_counts()"
   ]
  },
  {
   "cell_type": "code",
   "execution_count": null,
   "metadata": {},
   "outputs": [],
   "source": [
    "my_series.unique()\n"
   ]
  },
  {
   "cell_type": "markdown",
   "metadata": {},
   "source": [
    "#### Some methods and attributes for Series"
   ]
  },
  {
   "cell_type": "code",
   "execution_count": null,
   "metadata": {},
   "outputs": [],
   "source": [
    "#fetching all the unique values only\n",
    "my_series.unique()\n",
    "\n",
    "# counting the occourances of each unique value\n",
    "my_series.value_counts()"
   ]
  },
  {
   "cell_type": "code",
   "execution_count": null,
   "metadata": {},
   "outputs": [],
   "source": [
    "# checking the dimension and shape\n",
    "# Note that the NumPy array attributes 'ndim' and 'shape' exist for pandas Series also\n",
    "my_series.ndim\n",
    "my_series.shape"
   ]
  },
  {
   "cell_type": "code",
   "execution_count": null,
   "metadata": {},
   "outputs": [],
   "source": [
    "# The series.describe() gives us a statistical summary of the data in the Series container\n",
    "my_series.describe()"
   ]
  },
  {
   "cell_type": "code",
   "execution_count": null,
   "metadata": {},
   "outputs": [],
   "source": [
    "returns_series.describe()"
   ]
  },
  {
   "cell_type": "markdown",
   "metadata": {
    "colab_type": "text",
    "id": "dNmMucqzfLaV"
   },
   "source": [
    "## `DataFrame` data structure in `pandas`"
   ]
  },
  {
   "cell_type": "markdown",
   "metadata": {
    "colab_type": "text",
    "id": "faJwJZlzfLaV"
   },
   "source": [
    "We can think of `DataFrame` like an Excel sheet with **multiple columns of data along with its index**, where each column is capable of handling different data types. In other words, it is a **two-dimensional labelled data container.**"
   ]
  },
  {
   "cell_type": "markdown",
   "metadata": {
    "colab_type": "text",
    "id": "cVzsY3j6fLaW"
   },
   "source": [
    "### Creating a DataFrame manually using a python dictionary"
   ]
  },
  {
   "cell_type": "code",
   "execution_count": null,
   "metadata": {
    "colab": {},
    "colab_type": "code",
    "id": "Ud5tWZz8fLaW",
    "jupyter": {
     "outputs_hidden": true
    },
    "outputId": "6ad0a213-1acd-4864-d592-8e348644f018"
   },
   "outputs": [],
   "source": [
    "# We can create a DataFrame manually, just by passing in a dictionary object into pd.DataFrame command\n",
    "my_dataframe = pd.DataFrame({\"Name\":[\"Ash\", \"Jay\", \"Mario\", \"Vivek\"], \n",
    "                             \"Roll\":[1, 2, 3, 4], \n",
    "                             \"Marks\":[35, 64, 34, 65]})\n",
    "my_dataframe"
   ]
  },
  {
   "cell_type": "code",
   "execution_count": null,
   "metadata": {
    "colab": {},
    "colab_type": "code",
    "id": "zQh0vagzfLaY",
    "jupyter": {
     "outputs_hidden": true
    },
    "outputId": "023d447f-2abd-4c26-dcf6-ebc046e0e024"
   },
   "outputs": [],
   "source": [
    "type(my_dataframe)"
   ]
  },
  {
   "cell_type": "markdown",
   "metadata": {
    "colab_type": "text",
    "id": "kWHaE-CffLac"
   },
   "source": [
    " ### Deconstructing a pandas DataFrame\n",
    "\n",
    "A DataFrame consists of three parts viz.\n",
    "1. `index`\n",
    "2. `columns`\n",
    "3. `values`"
   ]
  },
  {
   "cell_type": "code",
   "execution_count": null,
   "metadata": {
    "colab": {},
    "colab_type": "code",
    "id": "tzSLc58YfLac",
    "jupyter": {
     "outputs_hidden": true
    },
    "outputId": "92ca83aa-958b-4974-ed47-d91ea8daeb4b"
   },
   "outputs": [],
   "source": [
    "my_dataframe.index"
   ]
  },
  {
   "cell_type": "code",
   "execution_count": null,
   "metadata": {
    "colab": {},
    "colab_type": "code",
    "id": "axogQmMrfLad",
    "jupyter": {
     "outputs_hidden": true
    },
    "outputId": "d636c8e6-7f00-4a56-f552-77fa0cca7e2e"
   },
   "outputs": [],
   "source": [
    "type(my_dataframe.index)"
   ]
  },
  {
   "cell_type": "code",
   "execution_count": null,
   "metadata": {
    "colab": {},
    "colab_type": "code",
    "id": "oyNMh2DOfLah",
    "jupyter": {
     "outputs_hidden": true
    },
    "outputId": "897e7764-8cf6-4db9-ce69-ed832cee7e51"
   },
   "outputs": [],
   "source": [
    "# Gives you details of the columns in the DataFrame\n",
    "my_dataframe.columns"
   ]
  },
  {
   "cell_type": "code",
   "execution_count": null,
   "metadata": {
    "colab": {},
    "colab_type": "code",
    "id": "xBP5P5RHfLai",
    "jupyter": {
     "outputs_hidden": true
    },
    "outputId": "2ca2789b-6ec6-4c50-ba44-1b47f2a14c46"
   },
   "outputs": [],
   "source": [
    "my_dataframe.values"
   ]
  },
  {
   "cell_type": "code",
   "execution_count": null,
   "metadata": {},
   "outputs": [],
   "source": [
    "# values are of the type NumPy arrays\n",
    "type(my_dataframe.values)"
   ]
  },
  {
   "cell_type": "markdown",
   "metadata": {
    "colab_type": "text",
    "id": "_532Ro8SfLao"
   },
   "source": [
    "**Notice that the values in a DataFrame container are of the type NumPy ndarray.**\n"
   ]
  },
  {
   "cell_type": "markdown",
   "metadata": {
    "colab_type": "text",
    "id": "qDef5m6KfLap"
   },
   "source": [
    "### Reading csv/excel data into a DataFrame "
   ]
  },
  {
   "cell_type": "markdown",
   "metadata": {
    "colab_type": "text",
    "id": "Y0CRvagnfLaq"
   },
   "source": [
    "#### The working directory"
   ]
  },
  {
   "cell_type": "markdown",
   "metadata": {
    "colab_type": "text",
    "id": "4fTNsfRgfLaq"
   },
   "source": [
    "\n",
    "We will now read a csv file into a pandas DataFrame, however\n",
    "before we do that, **we need to make sure our csv file is stored in the current working directory.**\n",
    "How do you check where your current working directory is? We need to take the help of the 'os' module for that!"
   ]
  },
  {
   "cell_type": "code",
   "execution_count": null,
   "metadata": {
    "colab": {},
    "colab_type": "code",
    "id": "AEkG82HwfLar",
    "jupyter": {
     "outputs_hidden": true
    },
    "outputId": "fd4a6b3e-56f2-4e3c-cf47-da7f99376758"
   },
   "outputs": [],
   "source": [
    "import os\n",
    "\n",
    "# Using getcwd() function from the os library to get the current working directory\n",
    "os.getcwd()\n",
    "\n",
    "#os.chdir('provide path here')      # You can use this command to change/set a folder as your working directory"
   ]
  },
  {
   "cell_type": "code",
   "execution_count": null,
   "metadata": {
    "colab": {},
    "colab_type": "code",
    "id": "pR0ss7hmfLau",
    "jupyter": {
     "outputs_hidden": true
    },
    "outputId": "9c4e614f-839f-4dbe-f001-7a9abd95ff17"
   },
   "outputs": [],
   "source": [
    "# Reading a csv file into a DataFrame using read_csv() function from the pandas library\n",
    "\n",
    "data1 = pd.read_csv(\"TCS.NS.csv\")\n",
    "\n",
    "data1.head(7)   # Useful way to get a quick look at your DataFrame\n",
    "#data1.tail()\n",
    "# try pd.read_excel()"
   ]
  },
  {
   "cell_type": "code",
   "execution_count": null,
   "metadata": {
    "colab": {},
    "colab_type": "code",
    "id": "vjHkMXZEfLay",
    "jupyter": {
     "outputs_hidden": true
    },
    "outputId": "49539ddd-7668-4f7f-fd4c-83081362f1cd"
   },
   "outputs": [],
   "source": [
    "# Here we're loading the csv file and specifying that the 'Date' column is to be assigned as index\n",
    "\n",
    "data2 = pd.read_csv(\"TCS.NS.csv\", index_col=\"Date\")\n",
    "data2.head(7)"
   ]
  },
  {
   "cell_type": "code",
   "execution_count": null,
   "metadata": {
    "colab": {},
    "colab_type": "code",
    "id": "Yv9etUg9fLa3",
    "jupyter": {
     "outputs_hidden": true
    },
    "outputId": "31c9c903-7e32-4fd2-cbc1-cc4485ecf56a"
   },
   "outputs": [],
   "source": [
    "type(data2.index)"
   ]
  },
  {
   "cell_type": "code",
   "execution_count": null,
   "metadata": {
    "colab": {},
    "colab_type": "code",
    "id": "OfHv259lfLa6",
    "jupyter": {
     "outputs_hidden": true
    },
    "outputId": "f42f017e-e403-48ec-88dd-c9a8dcdea035"
   },
   "outputs": [],
   "source": [
    "# We use parse_dates=True so that pandas recognizes our date column which makes filtering and data manipulation more convenient later\n",
    "import pandas as pd\n",
    "data3 = pd.read_csv(\"TCS.NS.csv\", index_col=\"Date\", parse_dates=True, dayfirst=True)\n",
    "data3.head(7)"
   ]
  },
  {
   "cell_type": "code",
   "execution_count": null,
   "metadata": {
    "colab": {},
    "colab_type": "code",
    "id": "xTZ_d4ixfLa8",
    "jupyter": {
     "outputs_hidden": true
    },
    "outputId": "1d26a665-d192-4f4d-c623-e440eb5f4c10"
   },
   "outputs": [],
   "source": [
    "type(data3.index)"
   ]
  },
  {
   "cell_type": "code",
   "execution_count": null,
   "metadata": {
    "colab": {},
    "colab_type": "code",
    "id": "ep4Y0epQfLa-"
   },
   "outputs": [],
   "source": [
    "# The .copy() method creates a copy of the original dataframe. \n",
    "# We will now create a copy and work with it.\n",
    "df = data3.copy()"
   ]
  },
  {
   "cell_type": "code",
   "execution_count": null,
   "metadata": {
    "colab": {},
    "colab_type": "code",
    "id": "2b4QLJBvfLa_",
    "jupyter": {
     "outputs_hidden": true
    },
    "outputId": "8fb0eb40-4b9a-4420-bebc-705a37d36f78"
   },
   "outputs": [],
   "source": [
    "df.shape # Gives you an idea of how many rows and columns are there"
   ]
  },
  {
   "cell_type": "code",
   "execution_count": null,
   "metadata": {},
   "outputs": [],
   "source": [
    "df.info() #Information about the DataFrame"
   ]
  },
  {
   "cell_type": "code",
   "execution_count": null,
   "metadata": {
    "colab": {},
    "colab_type": "code",
    "id": "zW_xxVYsfLbD",
    "jupyter": {
     "outputs_hidden": true
    },
    "outputId": "0d11abb2-894d-4e11-fad9-cd31544a59bd"
   },
   "outputs": [],
   "source": [
    "df.describe() # Gives a statistical summary for each column in the DataFrame"
   ]
  },
  {
   "cell_type": "markdown",
   "metadata": {
    "colab_type": "text",
    "id": "qmH_xszqfLbE"
   },
   "source": [
    "### Selecting subsets of DataFrame\n",
    "\n",
    "There are three key ways by which we select subsets of our dataset for further analysis.\n",
    "* Using the indexing operator `[]`\n",
    "* Using the label based indexing operator `.loc[]` \n",
    "* Using the integer based indexing operator`.iloc[]`\n",
    "\n",
    "We'll now look at some use cases using these different indexers."
   ]
  },
  {
   "cell_type": "markdown",
   "metadata": {
    "colab_type": "text",
    "id": "zuap1pkBfLbG"
   },
   "source": [
    "### Using the indexing operator `[]`"
   ]
  },
  {
   "cell_type": "code",
   "execution_count": null,
   "metadata": {
    "colab": {},
    "colab_type": "code",
    "id": "vOqUufK_fLbH"
   },
   "outputs": [],
   "source": [
    "openprices = df['Open']\n",
    "type(openprices)\n",
    "# openprices is a Series object which has two components viz. index and the data (called values). There are NO columns"
   ]
  },
  {
   "cell_type": "code",
   "execution_count": null,
   "metadata": {},
   "outputs": [],
   "source": [
    "closeprices = df['Close']\n",
    "closeprices "
   ]
  },
  {
   "cell_type": "code",
   "execution_count": null,
   "metadata": {
    "colab": {},
    "colab_type": "code",
    "id": "sOhaBSbufLbL"
   },
   "outputs": [],
   "source": [
    "closeprices = df[['Close']]\n",
    "# this is technically a DataFrame. Check the type and see for yourself"
   ]
  },
  {
   "cell_type": "code",
   "execution_count": null,
   "metadata": {},
   "outputs": [],
   "source": [
    "closeprices"
   ]
  },
  {
   "cell_type": "code",
   "execution_count": null,
   "metadata": {
    "colab": {},
    "colab_type": "code",
    "id": "85In0DmAfLbN"
   },
   "outputs": [],
   "source": [
    "# We can select multiple columns by passing a list of column names\n",
    "# Order in which they are written doesn't matter\n",
    "\n",
    "close_open = df[['Close', 'Open']]\n",
    "close_open.head(10)"
   ]
  },
  {
   "cell_type": "code",
   "execution_count": null,
   "metadata": {},
   "outputs": [],
   "source": [
    "df.head()"
   ]
  },
  {
   "cell_type": "code",
   "execution_count": null,
   "metadata": {
    "colab": {},
    "colab_type": "code",
    "id": "y0n-Hh77fLbR"
   },
   "outputs": [],
   "source": [
    "# creating a new column and initializing it with all zeroes\n",
    "\n",
    "df['New'] = 0 \n",
    "df.head()"
   ]
  },
  {
   "cell_type": "code",
   "execution_count": null,
   "metadata": {
    "colab": {},
    "colab_type": "code",
    "id": "zHU2Ye7TfLbQ"
   },
   "outputs": [],
   "source": [
    "# Deleting a column\n",
    "\n",
    "del df['New'] \n",
    "df.head()"
   ]
  },
  {
   "cell_type": "code",
   "execution_count": null,
   "metadata": {
    "colab": {},
    "colab_type": "code",
    "id": "_GPHDqmxfLbV",
    "outputId": "3c7a0987-0f55-4034-88f7-e71dc8ffbec0"
   },
   "outputs": [],
   "source": [
    "# We can use methods on this subsetted data\n",
    "\n",
    "df['Open'].sum()"
   ]
  },
  {
   "cell_type": "code",
   "execution_count": null,
   "metadata": {
    "colab": {},
    "colab_type": "code",
    "id": "k_bjXklufLbW",
    "jupyter": {
     "outputs_hidden": true
    },
    "outputId": "50b4f770-238c-4641-da94-54378ac61b31"
   },
   "outputs": [],
   "source": [
    "# Selecting specific rows\n",
    "df[0:4]"
   ]
  },
  {
   "cell_type": "code",
   "execution_count": null,
   "metadata": {
    "colab": {},
    "colab_type": "code",
    "id": "7WR5qjDLfLbX",
    "jupyter": {
     "outputs_hidden": true
    },
    "outputId": "f4980c11-45df-43ef-d7ef-42443cc43f15"
   },
   "outputs": [],
   "source": [
    "# Selecting rows based on conditions\n",
    "\n",
    "df[(df['Open']<1250)]    # single condition"
   ]
  },
  {
   "cell_type": "code",
   "execution_count": null,
   "metadata": {
    "colab": {},
    "colab_type": "code",
    "id": "7WR5qjDLfLbX",
    "jupyter": {
     "outputs_hidden": true
    },
    "outputId": "f4980c11-45df-43ef-d7ef-42443cc43f15",
    "scrolled": true
   },
   "outputs": [],
   "source": [
    "df[(df['Open']<1250) & (df['Close']>1260)]    # multiple conditions"
   ]
  },
  {
   "cell_type": "code",
   "execution_count": null,
   "metadata": {},
   "outputs": [],
   "source": [
    "# Another way is to use df.query\n",
    "df.query('Open<1250 and Close>1260')"
   ]
  },
  {
   "cell_type": "markdown",
   "metadata": {
    "colab_type": "text",
    "id": "PzvCqydAfLbY"
   },
   "source": [
    "###  Using label based  indexing operator `.loc[]`"
   ]
  },
  {
   "cell_type": "markdown",
   "metadata": {
    "colab_type": "text",
    "id": "5llBgAAGfLbZ"
   },
   "source": [
    "It selects data based on the **'label'** of the rows and columns. Also, it can simultaneously select subsets of rows and columns."
   ]
  },
  {
   "cell_type": "code",
   "execution_count": null,
   "metadata": {
    "colab": {},
    "colab_type": "code",
    "id": "xxHyfWU1fLbZ",
    "jupyter": {
     "outputs_hidden": true
    },
    "outputId": "172f7c38-fc4b-48a4-83e2-2709cd9b5686"
   },
   "outputs": [],
   "source": [
    "# Selecting a single row by label\n",
    "\n",
    "df.loc['2019-01-07'] "
   ]
  },
  {
   "cell_type": "code",
   "execution_count": null,
   "metadata": {
    "colab": {},
    "colab_type": "code",
    "id": "nrX2zZUzfLbb",
    "jupyter": {
     "outputs_hidden": true
    },
    "outputId": "affcd058-966e-44c7-89f0-ad104b7ed340"
   },
   "outputs": [],
   "source": [
    "# using the slice notation : to select a range of columns or rows\n",
    "# The last value is included here compared to other data structures like Python lists\n",
    "\n",
    "df.loc['2019-01-07': '2019-02-03'] "
   ]
  },
  {
   "cell_type": "code",
   "execution_count": null,
   "metadata": {
    "colab": {},
    "colab_type": "code",
    "id": "Yo9afXX_fLbc",
    "jupyter": {
     "outputs_hidden": true
    },
    "outputId": "f488117b-7f62-438e-a01f-9f32198c68ba"
   },
   "outputs": [],
   "source": [
    "df.loc['2019-05-02':] ## slicing from the specified date to the end"
   ]
  },
  {
   "cell_type": "code",
   "execution_count": null,
   "metadata": {
    "colab": {},
    "colab_type": "code",
    "id": "b7FbCbkpfLbe",
    "jupyter": {
     "outputs_hidden": true
    },
    "outputId": "a63c891d-64c5-43e6-ee05-5dda25bf15a7"
   },
   "outputs": [],
   "source": [
    "df.loc[:'2019-01-16'] ## slicing from the start to the specified date"
   ]
  },
  {
   "cell_type": "code",
   "execution_count": null,
   "metadata": {
    "colab": {},
    "colab_type": "code",
    "id": "A-lTpZKLfLbg",
    "outputId": "d4207438-0ad2-430b-a58f-646c927f7d04"
   },
   "outputs": [],
   "source": [
    "df.loc['2019-01-07': '2019-02-03':3] ## slicing from the specified date to specified date and selecting every\n",
    "# 3rd day"
   ]
  },
  {
   "cell_type": "code",
   "execution_count": null,
   "metadata": {
    "colab": {},
    "colab_type": "code",
    "id": "O2xwme4JfLbi"
   },
   "outputs": [],
   "source": [
    "# Selecting rows and columns simultaneously\n",
    "\n",
    "df.loc['2019-01-07': '2019-02-03',['Open','High','Low']]"
   ]
  },
  {
   "cell_type": "code",
   "execution_count": null,
   "metadata": {
    "colab": {},
    "colab_type": "code",
    "id": "xp0SzvvcfLbm",
    "jupyter": {
     "outputs_hidden": true
    },
    "outputId": "b0fd80ca-b692-424f-9e5e-cd6cf6c133b3"
   },
   "outputs": [],
   "source": [
    "# remember that when we created the 'data2' DataFrame object, \n",
    "# we didn't ask Python to parse the index as a date\n",
    "\n",
    "data2.loc['Aug 2016'].tail()\n",
    "# so we get an error."
   ]
  },
  {
   "cell_type": "code",
   "execution_count": null,
   "metadata": {},
   "outputs": [],
   "source": [
    "# However, for 'data3' we used parse_dates=True\n",
    "data3.loc['Aug 2016'].tail()"
   ]
  },
  {
   "cell_type": "code",
   "execution_count": null,
   "metadata": {
    "colab": {},
    "colab_type": "code",
    "id": "EXx1sIvkfLbo",
    "jupyter": {
     "outputs_hidden": true
    },
    "outputId": "3fd5aaba-5116-4375-8dbb-b1430177cae5"
   },
   "outputs": [],
   "source": [
    "# When the index of the DataFrame is a DatetimeIndex object as in the case of data3,\n",
    "# there is increased flexibility in manipulation using the index labels.\n",
    "\n",
    "# Remember that when we created the data3 DataFrame object,\n",
    "# we explicitly told Python to parse the index as a date, unlike the data2.\n",
    "\n",
    "data3.loc['Oct 2019'][data3['Direction']=='UP']"
   ]
  },
  {
   "cell_type": "code",
   "execution_count": null,
   "metadata": {},
   "outputs": [],
   "source": [
    "# fetching the same in two steps\n",
    "df3=data3.loc['Oct 2019']\n",
    "df3[df3['Direction']=='UP']"
   ]
  },
  {
   "cell_type": "code",
   "execution_count": null,
   "metadata": {
    "colab": {},
    "colab_type": "code",
    "id": "FUh-g1kTfLbq",
    "jupyter": {
     "outputs_hidden": true
    },
    "outputId": "02558e68-f95f-48b3-b73e-51fa73e64728"
   },
   "outputs": [],
   "source": [
    "# We can also use the following format for date label for data3 DataFrame\n",
    "\n",
    "data3.loc['08-2016'].tail()"
   ]
  },
  {
   "cell_type": "markdown",
   "metadata": {
    "colab_type": "text",
    "id": "2oZ5ApiKfLbr"
   },
   "source": [
    "### Using the integer based indexing operator `.iloc[]`"
   ]
  },
  {
   "cell_type": "markdown",
   "metadata": {
    "colab_type": "text",
    "id": "FTTr8ZbQfLbr"
   },
   "source": [
    "It selects data based on the **integer locations** of the rows and columns. Very similar to the .loc[] operator. One difference is that `.loc` includes the last value of index when slicing, whereas `.iloc` excludes it like the rest of Python."
   ]
  },
  {
   "cell_type": "code",
   "execution_count": null,
   "metadata": {},
   "outputs": [],
   "source": [
    "df =data3.copy()"
   ]
  },
  {
   "cell_type": "code",
   "execution_count": null,
   "metadata": {
    "colab": {},
    "colab_type": "code",
    "id": "hylpTtOSfLbs",
    "jupyter": {
     "outputs_hidden": true
    },
    "outputId": "cd8e8497-c07d-4881-d155-a9912a60a61c"
   },
   "outputs": [],
   "source": [
    "# Selecting a single row\n",
    "\n",
    "df.iloc[4] "
   ]
  },
  {
   "cell_type": "code",
   "execution_count": null,
   "metadata": {
    "colab": {},
    "colab_type": "code",
    "id": "gZYahsSpfLbt",
    "jupyter": {
     "outputs_hidden": true
    },
    "outputId": "b1967e81-b45a-49f7-bca7-f4cb0bebe3f3"
   },
   "outputs": [],
   "source": [
    "# Selecting multiple rows\n",
    "\n",
    "df.iloc[[4, 8, 20]] "
   ]
  },
  {
   "cell_type": "code",
   "execution_count": null,
   "metadata": {
    "colab": {},
    "colab_type": "code",
    "id": "kfub8UmpfLbv",
    "jupyter": {
     "outputs_hidden": true
    },
    "outputId": "b5dff933-c470-4a93-f08c-5ce19c07df26"
   },
   "outputs": [],
   "source": [
    "# using the slice notation : to select a range of columns or rows\n",
    "\n",
    "df.iloc[0:6] "
   ]
  },
  {
   "cell_type": "code",
   "execution_count": null,
   "metadata": {
    "colab": {},
    "colab_type": "code",
    "id": "g4pi6zmufLby",
    "jupyter": {
     "outputs_hidden": true
    },
    "outputId": "79afce19-ce2b-4002-abbd-81bc36d740b7"
   },
   "outputs": [],
   "source": [
    " # starting with 0th position and every alternate row till 6th(excluding the 6th)\n",
    "    \n",
    "df.iloc[0:6:2]"
   ]
  },
  {
   "cell_type": "code",
   "execution_count": null,
   "metadata": {
    "colab": {},
    "colab_type": "code",
    "id": "TnHyLwrzfLb1"
   },
   "outputs": [],
   "source": [
    "# Selecting rows and columns simultaneously with .iloc\n",
    "\n",
    "df.iloc[[4, 5], [0,3]] # selecting two rows and two columns"
   ]
  },
  {
   "cell_type": "code",
   "execution_count": null,
   "metadata": {
    "colab": {},
    "colab_type": "code",
    "id": "TnHyLwrzfLb1"
   },
   "outputs": [],
   "source": [
    "df.iloc[4:6, [0, 3]] # selecting a slice of rows and two columns"
   ]
  },
  {
   "cell_type": "markdown",
   "metadata": {
    "colab_type": "text",
    "id": "fAH7dI1jfLb3"
   },
   "source": [
    "### Visualization: Plotting the data using Matplotlib library "
   ]
  },
  {
   "cell_type": "markdown",
   "metadata": {
    "colab_type": "text",
    "id": "-_x6qs4KfLb4"
   },
   "source": [
    "One of the great features about `pandas` is how it works so symbiotically with some of the other popular Python packages such as `NumPy` and `Matplotlib`. Under the hood, the `values` of the `pandas Series` and the `pandas Dataframe` objects are `NumPy ndarrays`. \n",
    "\n",
    "We will use `matplotlib` in conjunction with `pandas` to plot and visualize our data. You can read and learn more about it [here](https://matplotlib.org/api/pyplot_summary.html)."
   ]
  },
  {
   "cell_type": "code",
   "execution_count": null,
   "metadata": {
    "colab": {},
    "colab_type": "code",
    "id": "hCiDojGDfLb5",
    "jupyter": {
     "outputs_hidden": true
    },
    "outputId": "73e234dc-d720-4189-bcf3-f99d123706b4"
   },
   "outputs": [],
   "source": [
    "# You can do a quick plot of the Close prices over time using the .plot() function\n",
    "\n",
    "import matplotlib.pyplot as plt\n",
    "%matplotlib inline\n",
    "\n",
    "df['Adj Close'].plot(figsize=(15,7)) \n",
    "plt.show()"
   ]
  },
  {
   "cell_type": "markdown",
   "metadata": {
    "colab_type": "text",
    "id": "6cdglVnVfLb7"
   },
   "source": [
    "\n",
    "For plotting multiple lines on the same graph, **pass a list of column names to the plot() method.**\n"
   ]
  },
  {
   "cell_type": "code",
   "execution_count": null,
   "metadata": {
    "colab": {},
    "colab_type": "code",
    "id": "1bo_FHcJfLb8",
    "jupyter": {
     "outputs_hidden": true
    },
    "outputId": "7826f852-7862-4cc5-fccc-2baa78115fd9"
   },
   "outputs": [],
   "source": [
    "df[['Close','Open']].plot(figsize=(15,7))\n",
    "plt.show()"
   ]
  },
  {
   "cell_type": "code",
   "execution_count": null,
   "metadata": {},
   "outputs": [],
   "source": [
    "df.head()"
   ]
  },
  {
   "cell_type": "markdown",
   "metadata": {
    "colab_type": "text",
    "id": "FL9wBLRgfLb9"
   },
   "source": [
    "## Some commonly done calculations in quantitative trading"
   ]
  },
  {
   "cell_type": "code",
   "execution_count": null,
   "metadata": {},
   "outputs": [],
   "source": [
    "# Recreating a copy of data3\n",
    "df = data3.copy()\n",
    "df.head()"
   ]
  },
  {
   "cell_type": "markdown",
   "metadata": {
    "colab_type": "text",
    "id": "gIeocNOEfLb-"
   },
   "source": [
    "### Percentage change calculations"
   ]
  },
  {
   "cell_type": "code",
   "execution_count": null,
   "metadata": {
    "colab": {},
    "colab_type": "code",
    "id": "DR08BEomfLb-"
   },
   "outputs": [],
   "source": [
    "# Computing the percentage change between today's Close and previous day's Close using the method pct_change()\n",
    "\n",
    "df['Close_to_Close'] = 100 * df['Close'].pct_change()\n",
    "df.head()"
   ]
  },
  {
   "cell_type": "code",
   "execution_count": null,
   "metadata": {
    "colab": {},
    "colab_type": "code",
    "id": "fXpacJyPfLcC"
   },
   "outputs": [],
   "source": [
    "# Computing the percentage change between today's Close and Open\n",
    "# This is an example of vectorized operation\n",
    "\n",
    "df['intraday_return'] = 100 * (df['Close'] / df['Open'] - 1) \n",
    "df.head()"
   ]
  },
  {
   "cell_type": "markdown",
   "metadata": {
    "colab_type": "text",
    "id": "PO3roEPNfLcG"
   },
   "source": [
    "### The shift operator\n",
    "\n",
    "The shift operator **time-shifts the specified columns either forward or backward by the # of steps specified.** \n",
    "Here shift(1) brings the Close price column down by one step. The shift operator is helpful in making \n",
    "vectorized operations possible in certain cases."
   ]
  },
  {
   "cell_type": "code",
   "execution_count": null,
   "metadata": {
    "colab": {},
    "colab_type": "code",
    "id": "yGgGrA3MfLcG"
   },
   "outputs": [],
   "source": [
    "# Creating a new column called 'Previous_Close' by using the shift operator on Close column.\n",
    "\n",
    "df['Previous_Close'] =  df['Close'].shift()\n",
    "df.head()"
   ]
  },
  {
   "cell_type": "code",
   "execution_count": null,
   "metadata": {
    "colab": {},
    "colab_type": "code",
    "id": "50EoOWNlfLcH"
   },
   "outputs": [],
   "source": [
    "# Calculating the percentage return between previous close and today's open\n",
    "\n",
    "df['overnight_return'] = 100*(df['Open']/df['Previous_Close']-1)\n",
    "df.head()"
   ]
  },
  {
   "cell_type": "markdown",
   "metadata": {
    "colab_type": "text",
    "id": "90j2oKMafLcE"
   },
   "source": [
    "### Moving Average calculations using .rolling()"
   ]
  },
  {
   "cell_type": "code",
   "execution_count": null,
   "metadata": {
    "colab": {},
    "colab_type": "code",
    "id": "yAnLi6PzfLcE"
   },
   "outputs": [],
   "source": [
    "# Creting a new column called 'MA' containing 5 day Moving Average of Close prices.\n",
    "\n",
    "n = 5\n",
    "\n",
    "df['MA_5'] = df['Close'].rolling(window=n).mean()\n",
    "df.head(10)"
   ]
  },
  {
   "cell_type": "markdown",
   "metadata": {},
   "source": [
    "### Working with missing/NaN values"
   ]
  },
  {
   "cell_type": "code",
   "execution_count": null,
   "metadata": {
    "scrolled": true
   },
   "outputs": [],
   "source": [
    "df.head()"
   ]
  },
  {
   "cell_type": "code",
   "execution_count": null,
   "metadata": {},
   "outputs": [],
   "source": [
    "# Find out the number of missing values in each column\n",
    "df.isnull().sum()"
   ]
  },
  {
   "cell_type": "code",
   "execution_count": null,
   "metadata": {},
   "outputs": [],
   "source": [
    "df.dropna(axis=0).head()  #deletes all rows with NaN values and creates a new dataframe (leaves the original dataframe unchanged)"
   ]
  },
  {
   "cell_type": "code",
   "execution_count": null,
   "metadata": {},
   "outputs": [],
   "source": [
    "df.dropna(axis=1).head() # deletes all columns with NaN values and creates a new dataframe (leaves the original dataframe unchanged)\n",
    "# df.dropna(axis=1,inplace=True)"
   ]
  },
  {
   "cell_type": "code",
   "execution_count": null,
   "metadata": {},
   "outputs": [],
   "source": [
    "df.fillna( value = 0) "
   ]
  },
  {
   "cell_type": "code",
   "execution_count": null,
   "metadata": {},
   "outputs": [],
   "source": [
    "df.fillna(method='bfill').head()\n",
    "\n",
    "# Try df.fillna(method='ffill') after the lecture"
   ]
  },
  {
   "cell_type": "code",
   "execution_count": null,
   "metadata": {},
   "outputs": [],
   "source": [
    "# Filling NaNs in a particular column\n",
    "# Providing 'inplace=True' modifies the original DataFrame\n",
    "\n",
    "df['MA_5'].fillna( value = np.mean(df['MA_5']),inplace=True)  \n",
    "df.head()"
   ]
  },
  {
   "cell_type": "markdown",
   "metadata": {},
   "source": [
    "### The correlation matrix"
   ]
  },
  {
   "cell_type": "code",
   "execution_count": null,
   "metadata": {},
   "outputs": [],
   "source": [
    "df.corr()"
   ]
  },
  {
   "cell_type": "code",
   "execution_count": null,
   "metadata": {},
   "outputs": [],
   "source": [
    "df[['intraday_return','overnight_return']].corr()"
   ]
  },
  {
   "cell_type": "markdown",
   "metadata": {},
   "source": [
    "### The apply method"
   ]
  },
  {
   "cell_type": "code",
   "execution_count": null,
   "metadata": {},
   "outputs": [],
   "source": [
    "# Creating a function to calculate the intraday range\n",
    "def daily_range(x):\n",
    "    return x['Close']-x['Open']"
   ]
  },
  {
   "cell_type": "code",
   "execution_count": null,
   "metadata": {},
   "outputs": [],
   "source": [
    "df.head()"
   ]
  },
  {
   "cell_type": "code",
   "execution_count": null,
   "metadata": {},
   "outputs": [],
   "source": [
    "# Creating a new column by applying the function we defined above to the DataFrame df\n",
    "df['daily_range'] = df.apply(daily_range, axis=1)\n",
    "df.head()"
   ]
  },
  {
   "cell_type": "markdown",
   "metadata": {},
   "source": [
    "### Writing back to excel"
   ]
  },
  {
   "cell_type": "code",
   "execution_count": null,
   "metadata": {},
   "outputs": [],
   "source": [
    "df.to_excel('modified_df.xlsx')\n",
    "#df.to_csv('modified_df.csv')"
   ]
  },
  {
   "cell_type": "markdown",
   "metadata": {
    "colab_type": "text",
    "id": "w8KUjxDxfLcJ"
   },
   "source": [
    "### A little homework!"
   ]
  },
  {
   "cell_type": "markdown",
   "metadata": {
    "colab_type": "text",
    "id": "MZ9-8tkUfLcK"
   },
   "source": [
    "Search and find out the syntax and use cases for the following:\n",
    "- **df.set_index()**\n",
    "- **df.concat()**\n",
    "- **df.groupby()**\n",
    "<br>\n",
    "<br>\n",
    "*An awesome source for beginners:https://pandas.pydata.org/pandas-docs/stable/getting_started/10min.html*"
   ]
  },
  {
   "cell_type": "markdown",
   "metadata": {
    "colab_type": "text",
    "id": "ROESD8RpfLcK"
   },
   "source": [
    "<a id = 'references'></a>\n",
    "## References\n",
    "\n",
    "1. The Official Python documentation - https://docs.python.org/3/contents.html\n",
    "2. Python Basics - https://www.quantinsti.com/Python-Basics-Handbook.pdf\n",
    "3. Jupyter Lab - http://jupyterlab.readthedocs.io/en/stable/\n",
    "6. `pandas` documentation - https://pandas.pydata.org/pandas-docs/stable/\n",
    "7. Learning pandas, Michael Heydt - https://www.amazon.com/Learning-Pandas-Python-Discovery-Analysis/dp/1783985127\n",
    "8. Style Guide for Python Code - https://www.python.org/dev/peps/pep-0008/\n",
    "9. Dealing With Error And Exceptions In Python - https://www.quantinsti.com/blog/dealing-python-error-exceptions/\n",
    "10. Python Exception: Raising And Catching Exceptions In Python - https://www.quantinsti.com/blog/python-exception/\n",
    "11. Don't repeat yourself: https://en.wikipedia.org/wiki/Don%27t_repeat_yourself\n",
    "12. `Matplotlib` - https://matplotlib.org/api/pyplot_summary.html"
   ]
  }
 ],
 "metadata": {
  "colab": {
   "name": "PBQ-2 Lecture _Ashutosh_Dave.ipynb",
   "provenance": []
  },
  "kernelspec": {
   "display_name": "Python 3",
   "language": "python",
   "name": "python3"
  },
  "language_info": {
   "codemirror_mode": {
    "name": "ipython",
    "version": 3
   },
   "file_extension": ".py",
   "mimetype": "text/x-python",
   "name": "python",
   "nbconvert_exporter": "python",
   "pygments_lexer": "ipython3",
   "version": "3.7.9"
  },
  "varInspector": {
   "cols": {
    "lenName": 16,
    "lenType": 16,
    "lenVar": 40
   },
   "kernels_config": {
    "python": {
     "delete_cmd_postfix": "",
     "delete_cmd_prefix": "del ",
     "library": "var_list.py",
     "varRefreshCmd": "print(var_dic_list())"
    },
    "r": {
     "delete_cmd_postfix": ") ",
     "delete_cmd_prefix": "rm(",
     "library": "var_list.r",
     "varRefreshCmd": "cat(var_dic_list()) "
    }
   },
   "types_to_exclude": [
    "module",
    "function",
    "builtin_function_or_method",
    "instance",
    "_Feature"
   ],
   "window_display": false
  }
 },
 "nbformat": 4,
 "nbformat_minor": 4
}
