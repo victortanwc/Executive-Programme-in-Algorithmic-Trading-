{
 "cells": [
  {
   "cell_type": "code",
   "execution_count": 45,
   "metadata": {},
   "outputs": [],
   "source": [
    "import pandas as pd\n",
    "import numpy as np\n",
    "from sklearn import linear_model\n",
    "from sklearn.metrics import accuracy_score,log_loss,precision_score,roc_auc_score,confusion_matrix\n",
    "from sklearn.preprocessing import MinMaxScaler,StandardScaler\n",
    "import xgboost as xgb\n",
    "from sklearn import svm"
   ]
  },
  {
   "cell_type": "code",
   "execution_count": 46,
   "metadata": {},
   "outputs": [],
   "source": [
    "train_set=pd.read_csv(r\"C:\\Users\\admin\\Desktop\\pres\\gold_train.csv\")\n",
    "test_set=pd.read_csv(r\"C:\\Users\\admin\\Desktop\\pres\\gold_test.csv\")\n",
    "train_col=list(train_set)[1:]\n",
    "train_X=train_set[train_col]\n",
    "train_y=train_set['target']\n",
    "\n",
    "test_X=test_set[train_col]\n",
    "test_y=test_set['target']"
   ]
  },
  {
   "cell_type": "code",
   "execution_count": 47,
   "metadata": {},
   "outputs": [],
   "source": [
    "scaler = StandardScaler()\n",
    "scaler.fit(train_X)\n",
    "\n",
    "train_X=scaler.transform(train_X)\n",
    "test_X=scaler.transform(test_X)"
   ]
  },
  {
   "cell_type": "code",
   "execution_count": 78,
   "metadata": {},
   "outputs": [],
   "source": [
    "clf_svc = svm.SVC(probability=False,random_state=123,C=10,gamma=.02)#,nu=0.01,gamma=10,kernel='poly',degree=4,random_state=123)\n",
    "clf_svc.fit(train_X,train_y)\n",
    "pred=clf_svc.predict(test_X)\n",
    "pred_prob=clf_svc.decision_function(test_X)\n"
   ]
  },
  {
   "cell_type": "code",
   "execution_count": 79,
   "metadata": {},
   "outputs": [
    {
     "name": "stdout",
     "output_type": "stream",
     "text": [
      "Confusion Matrix \n",
      " [[81 60]\n",
      " [57 52]]\n",
      "accuracy :  0.532\n",
      "\n",
      "\n",
      "Confusion Matrix at 0.6 threshold \n",
      "  [[127  14]\n",
      " [ 96  13]]\n",
      "accuracy at 0.6 threshold:  0.56\n"
     ]
    }
   ],
   "source": [
    "print(\"Confusion Matrix \\n\",confusion_matrix(test_y,pred))\n",
    "print(\"accuracy : \",accuracy_score(test_y,pred))\n",
    "pred=(pred_prob > 0.60)\n",
    "print(\"\\n\\nConfusion Matrix at 0.6 threshold \\n \",confusion_matrix(test_y,pred))\n",
    "print(\"accuracy at 0.6 threshold: \",accuracy_score(test_y,pred))\n"
   ]
  }
 ],
 "metadata": {
  "kernelspec": {
   "display_name": "Python 3",
   "language": "python",
   "name": "python3"
  },
  "language_info": {
   "codemirror_mode": {
    "name": "ipython",
    "version": 3
   },
   "file_extension": ".py",
   "mimetype": "text/x-python",
   "name": "python",
   "nbconvert_exporter": "python",
   "pygments_lexer": "ipython3",
   "version": "3.7.0"
  }
 },
 "nbformat": 4,
 "nbformat_minor": 2
}
