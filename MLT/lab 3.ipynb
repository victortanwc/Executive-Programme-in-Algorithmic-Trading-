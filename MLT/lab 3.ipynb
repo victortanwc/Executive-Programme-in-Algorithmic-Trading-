{
 "cells": [
  {
   "cell_type": "markdown",
   "metadata": {},
   "source": [
    "# Decision Trees"
   ]
  },
  {
   "cell_type": "code",
   "execution_count": 23,
   "metadata": {},
   "outputs": [],
   "source": [
    "import pandas as pd\n",
    "import numpy as np\n",
    "from sklearn import linear_model\n",
    "from sklearn.metrics import accuracy_score,log_loss,precision_score,roc_auc_score,confusion_matrix\n",
    "from sklearn.preprocessing import MinMaxScaler,StandardScaler\n",
    "import xgboost as xgb"
   ]
  },
  {
   "cell_type": "code",
   "execution_count": 24,
   "metadata": {},
   "outputs": [
    {
     "name": "stdout",
     "output_type": "stream",
     "text": [
      "     Return  gold Return_1  gold Return_2  gold Return_3  gold Return_4  \\\n",
      "0  0.012297       0.001726      -0.004428       0.000492      -0.001352   \n",
      "1  0.012797       0.012297       0.001726      -0.004428       0.000492   \n",
      "2 -0.005526       0.012797       0.012297       0.001726      -0.004428   \n",
      "3 -0.001453      -0.005526       0.012797       0.012297       0.001726   \n",
      "4 -0.006796      -0.001453      -0.005526       0.012797       0.012297   \n",
      "\n",
      "   gold Return_5  gold Return_6  gold Return_7  gold Return_8  gold Return_9  \\\n",
      "0       0.009804       0.001240       0.000248       0.009884       0.008577   \n",
      "1      -0.001352       0.009804       0.001240       0.000248       0.009884   \n",
      "2       0.000492      -0.001352       0.009804       0.001240       0.000248   \n",
      "3      -0.004428       0.000492      -0.001352       0.009804       0.001240   \n",
      "4       0.001726      -0.004428       0.000492      -0.001352       0.009804   \n",
      "\n",
      "        ...        gold Return_41  gold Return_42  gold Return_43  \\\n",
      "0       ...              0.002200       -0.002067       -0.002323   \n",
      "1       ...              0.003872        0.002200       -0.002067   \n",
      "2       ...              0.000386        0.003872        0.002200   \n",
      "3       ...              0.001927        0.000386        0.003872   \n",
      "4       ...             -0.003590        0.001927        0.000386   \n",
      "\n",
      "   gold Return_44  gold Return_45  gold Return_46  gold Return_47  \\\n",
      "0       -0.002957       -0.001027        0.009084        0.004694   \n",
      "1       -0.002323       -0.002957       -0.001027        0.009084   \n",
      "2       -0.002067       -0.002323       -0.002957       -0.001027   \n",
      "3        0.002200       -0.002067       -0.002323       -0.002957   \n",
      "4        0.003872        0.002200       -0.002067       -0.002323   \n",
      "\n",
      "   gold Return_48  gold Return_49  gold Return_50  \n",
      "0        0.002611        0.000522       -0.009595  \n",
      "1        0.004694        0.002611        0.000522  \n",
      "2        0.009084        0.004694        0.002611  \n",
      "3       -0.001027        0.009084        0.004694  \n",
      "4       -0.002957       -0.001027        0.009084  \n",
      "\n",
      "[5 rows x 51 columns]\n",
      "0    1\n",
      "1    0\n",
      "2    0\n",
      "3    0\n",
      "4    1\n",
      "Name: target, dtype: int64\n"
     ]
    }
   ],
   "source": [
    "train_set=pd.read_csv(r\"C:\\Users\\admin\\Desktop\\pres\\gold_train.csv\")\n",
    "test_set=pd.read_csv(r\"C:\\Users\\admin\\Desktop\\pres\\gold_test.csv\")\n",
    "train_col=list(train_set)[1:]\n",
    "train_X=train_set[train_col]\n",
    "train_y=train_set['target']\n",
    "\n",
    "test_X=test_set[train_col]\n",
    "test_y=test_set['target']\n",
    "print(train_X.head())\n",
    "print(train_y.head())"
   ]
  },
  {
   "cell_type": "code",
   "execution_count": 25,
   "metadata": {},
   "outputs": [],
   "source": [
    "scaler = StandardScaler()\n",
    "scaler.fit(train_X)\n",
    "\n",
    "train_X=scaler.transform(train_X)\n",
    "test_X=scaler.transform(test_X)"
   ]
  },
  {
   "cell_type": "code",
   "execution_count": 26,
   "metadata": {},
   "outputs": [],
   "source": [
    "from sklearn.ensemble import RandomForestClassifier"
   ]
  },
  {
   "cell_type": "code",
   "execution_count": 27,
   "metadata": {},
   "outputs": [],
   "source": [
    "clf = RandomForestClassifier(n_estimators=25,max_depth=None,max_features=15,random_state=0)\n",
    "clf.fit(train_X,train_y)\n",
    "pred_prob=clf.predict_proba(test_X) \n",
    "pred=clf.predict(test_X) "
   ]
  },
  {
   "cell_type": "code",
   "execution_count": 28,
   "metadata": {},
   "outputs": [
    {
     "data": {
      "text/plain": [
       "array([[92, 49],\n",
       "       [59, 50]], dtype=int64)"
      ]
     },
     "execution_count": 28,
     "metadata": {},
     "output_type": "execute_result"
    }
   ],
   "source": [
    "confusion_matrix(test_y,pred)"
   ]
  },
  {
   "cell_type": "code",
   "execution_count": 29,
   "metadata": {},
   "outputs": [
    {
     "name": "stdout",
     "output_type": "stream",
     "text": [
      "accuracy at 0.5 threshold:  0.568\n",
      "accuracy at 0.6 threshold:  0.58\n"
     ]
    }
   ],
   "source": [
    "pred=(pred_prob[:,1] > 0.5)\n",
    "print(\"accuracy at 0.5 threshold: \",accuracy_score(test_y,pred))\n",
    "\n",
    "pred=(pred_prob[:,1] > 0.6)\n",
    "print(\"accuracy at 0.6 threshold: \",accuracy_score(test_y,pred))"
   ]
  },
  {
   "cell_type": "code",
   "execution_count": 31,
   "metadata": {},
   "outputs": [],
   "source": [
    "clf = xgb.XGBClassifier(max_depth=2,n_estimators=50,learning_rate=0.2,n_jobs=-1)\n",
    "clf.fit(train_X,train_y)\n",
    "pred_prob=clf.predict_proba(test_X) \n",
    "pred=(pred_prob[:,1] > 0.5)"
   ]
  },
  {
   "cell_type": "code",
   "execution_count": 32,
   "metadata": {},
   "outputs": [
    {
     "data": {
      "text/plain": [
       "array([[96, 45],\n",
       "       [62, 47]], dtype=int64)"
      ]
     },
     "execution_count": 32,
     "metadata": {},
     "output_type": "execute_result"
    }
   ],
   "source": [
    "confusion_matrix(test_y,pred)"
   ]
  },
  {
   "cell_type": "code",
   "execution_count": 33,
   "metadata": {},
   "outputs": [
    {
     "name": "stdout",
     "output_type": "stream",
     "text": [
      "accuracy at 0.5 threshold:  0.572\n",
      "accuracy at 0.55 threshold:  0.524\n"
     ]
    }
   ],
   "source": [
    "pred=(pred_prob[:,1] > 0.5)\n",
    "print(\"accuracy at 0.5 threshold: \",accuracy_score(test_y,pred))\n",
    "\n",
    "pred=(pred_prob[:,1] > 0.55)\n",
    "print(\"accuracy at 0.55 threshold: \",accuracy_score(test_y,pred))"
   ]
  },
  {
   "cell_type": "code",
   "execution_count": null,
   "metadata": {
    "collapsed": true
   },
   "outputs": [],
   "source": []
  }
 ],
 "metadata": {
  "kernelspec": {
   "display_name": "Python 3",
   "language": "python",
   "name": "python3"
  },
  "language_info": {
   "codemirror_mode": {
    "name": "ipython",
    "version": 3
   },
   "file_extension": ".py",
   "mimetype": "text/x-python",
   "name": "python",
   "nbconvert_exporter": "python",
   "pygments_lexer": "ipython3",
   "version": "3.7.1"
  }
 },
 "nbformat": 4,
 "nbformat_minor": 2
}
