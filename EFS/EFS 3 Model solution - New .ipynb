{
 "cells": [
  {
   "cell_type": "markdown",
   "metadata": {},
   "source": [
    "# Notebook Instructions\n",
    "<i>You can run the notebook document sequentially (one cell a time) by pressing <b> shift + enter</b>. While a cell is running, a [*] will display on the left. When it has been run, a number will display indicating the order in which it was run in the notebook [8].</i>\n",
    "\n",
    "<i>Enter edit mode by pressing <b>`Enter`</b> or using the mouse to click on a cell's editor area. Edit mode is indicated by a green cell border and a prompt showing in the editor area.</i>"
   ]
  },
  {
   "cell_type": "markdown",
   "metadata": {},
   "source": [
    "# Assignment\n",
    "\n",
    "In this assignment, you will learn to interpret the ADF test results and create a mean reversion strategy on triplets.\n",
    "\n",
    "The steps followed are\n",
    "1. Import the libraries and the data\n",
    "2. Find the hedge ratio\n",
    "3. Create the spread\n",
    "4. ADF Test\n",
    "5. Mean reversion strategy\n",
    "6. Plot the profit and loss (PnL)\n"
   ]
  },
  {
   "cell_type": "markdown",
   "metadata": {},
   "source": [
    "## 1. Import the libraries and the data"
   ]
  },
  {
   "cell_type": "code",
   "execution_count": 2,
   "metadata": {
    "ExecuteTime": {
     "end_time": "2019-11-20T07:49:53.990804Z",
     "start_time": "2019-11-20T07:49:53.325070Z"
    }
   },
   "outputs": [],
   "source": [
    "import numpy as np\n",
    "import pandas as pd\n",
    "import matplotlib.pyplot as plt\n",
    "%matplotlib inline"
   ]
  },
  {
   "cell_type": "markdown",
   "metadata": {},
   "source": [
    "The code reads the csv file using the read_csv function\n",
    "\n",
    "Instruction:\n",
    "1. Replace the `...` with `GLD.csv`, `GDX.csv` and `USO.csv` in the below cell"
   ]
  },
  {
   "cell_type": "code",
   "execution_count": 3,
   "metadata": {
    "ExecuteTime": {
     "end_time": "2019-11-20T07:50:16.330537Z",
     "start_time": "2019-11-20T07:50:16.029493Z"
    }
   },
   "outputs": [
    {
     "name": "stdout",
     "output_type": "stream",
     "text": [
      "                 GLD       GDX       USO\n",
      "Date                                    \n",
      "2017-01-03       NaN       NaN       NaN\n",
      "2017-01-04  1.003530  1.007353  1.012238\n",
      "2017-01-05  1.015515  1.058394  1.010363\n",
      "2017-01-06  0.992627  0.965086  0.998291\n",
      "2017-01-09  1.008233  1.003126  0.968322\n",
      "                 GLD       GDX       USO\n",
      "Date                                    \n",
      "2017-01-03       NaN       NaN       NaN\n",
      "2017-01-04  1.003530  1.007353  1.012238\n",
      "2017-01-05  1.019100  1.066176  1.022727\n",
      "2017-01-06  1.011587  1.028952  1.020979\n",
      "2017-01-09  1.019915  1.032169  0.988636\n"
     ]
    }
   ],
   "source": [
    "x = pd.read_csv('GLD.csv', index_col=0)['Adj Close']\n",
    "y = pd.read_csv('GDX.csv', index_col=0)['Adj Close']\n",
    "z = pd.read_csv('USO.csv', index_col=0)['Adj Close']\n",
    "\n",
    "df = pd.concat([x, y, z], axis=1)\n",
    "df.columns = ['GLD', 'GDX', 'USO']\n",
    "df.index = pd.to_datetime(df.index)\n",
    "df.head()\n",
    "print((df.pct_change() + 1).head(5))\n",
    "print((df.pct_change() + 1).cumprod().head(5))\n",
    "\n",
    "\n",
    "\n",
    "#(df.pct_change()+1).cumprod().plot(figsize=(10, 5))\n",
    "#plt.ylabel(\"Percentage Change\")\n",
    "#plt.show()"
   ]
  },
  {
   "cell_type": "code",
   "execution_count": 4,
   "metadata": {},
   "outputs": [
    {
     "data": {
      "text/html": [
       "<div>\n",
       "<style scoped>\n",
       "    .dataframe tbody tr th:only-of-type {\n",
       "        vertical-align: middle;\n",
       "    }\n",
       "\n",
       "    .dataframe tbody tr th {\n",
       "        vertical-align: top;\n",
       "    }\n",
       "\n",
       "    .dataframe thead th {\n",
       "        text-align: right;\n",
       "    }\n",
       "</style>\n",
       "<table border=\"1\" class=\"dataframe\">\n",
       "  <thead>\n",
       "    <tr style=\"text-align: right;\">\n",
       "      <th></th>\n",
       "      <th>GLD</th>\n",
       "      <th>GDX</th>\n",
       "      <th>USO</th>\n",
       "    </tr>\n",
       "    <tr>\n",
       "      <th>Date</th>\n",
       "      <th></th>\n",
       "      <th></th>\n",
       "      <th></th>\n",
       "    </tr>\n",
       "  </thead>\n",
       "  <tbody>\n",
       "    <tr>\n",
       "      <th>2017-01-03</th>\n",
       "      <td>110.470001</td>\n",
       "      <td>21.472231</td>\n",
       "      <td>11.44</td>\n",
       "    </tr>\n",
       "    <tr>\n",
       "      <th>2017-01-04</th>\n",
       "      <td>110.860001</td>\n",
       "      <td>21.630116</td>\n",
       "      <td>11.58</td>\n",
       "    </tr>\n",
       "    <tr>\n",
       "      <th>2017-01-05</th>\n",
       "      <td>112.580002</td>\n",
       "      <td>22.893188</td>\n",
       "      <td>11.70</td>\n",
       "    </tr>\n",
       "    <tr>\n",
       "      <th>2017-01-06</th>\n",
       "      <td>111.750000</td>\n",
       "      <td>22.093899</td>\n",
       "      <td>11.68</td>\n",
       "    </tr>\n",
       "    <tr>\n",
       "      <th>2017-01-09</th>\n",
       "      <td>112.669998</td>\n",
       "      <td>22.162973</td>\n",
       "      <td>11.31</td>\n",
       "    </tr>\n",
       "  </tbody>\n",
       "</table>\n",
       "</div>"
      ],
      "text/plain": [
       "                   GLD        GDX    USO\n",
       "Date                                    \n",
       "2017-01-03  110.470001  21.472231  11.44\n",
       "2017-01-04  110.860001  21.630116  11.58\n",
       "2017-01-05  112.580002  22.893188  11.70\n",
       "2017-01-06  111.750000  22.093899  11.68\n",
       "2017-01-09  112.669998  22.162973  11.31"
      ]
     },
     "execution_count": 4,
     "metadata": {},
     "output_type": "execute_result"
    }
   ],
   "source": [
    "df.head()"
   ]
  },
  {
   "cell_type": "markdown",
   "metadata": {},
   "source": [
    "## 2. Find the hedge ratio\n",
    "\n",
    "Instructions\n",
    "1. y is GLD and x1 is GDX and x2 is USO. Replace `..1..` with `GLD`, `..2..` with `GDX`, and `..3..` with `USO`.\n",
    "2. To find the hedge ratio, we will only use first 90 days of data. Replace `..4..` and `..5..` with `90`."
   ]
  },
  {
   "cell_type": "code",
   "execution_count": 5,
   "metadata": {
    "ExecuteTime": {
     "end_time": "2019-11-20T07:50:35.048668Z",
     "start_time": "2019-11-20T07:50:21.634256Z"
    }
   },
   "outputs": [
    {
     "name": "stdout",
     "output_type": "stream",
     "text": [
      "The hedge ratio for GDX and USO are\n"
     ]
    },
    {
     "data": {
      "text/plain": [
       "GDX    4.783232\n",
       "USO    0.727756\n",
       "dtype: float64"
      ]
     },
     "execution_count": 5,
     "metadata": {},
     "output_type": "execute_result"
    }
   ],
   "source": [
    "from statsmodels.api import OLS\n",
    "model = OLS(df['GLD'].iloc[:90], df[['GDX', 'USO']].iloc[:90])\n",
    "model = model.fit()\n",
    "print('The hedge ratio for GDX and USO are')\n",
    "model.params"
   ]
  },
  {
   "cell_type": "markdown",
   "metadata": {},
   "source": [
    "## 3. Create the spread\n",
    "\n",
    "The spread is formed as GLD - m1 * GDX - m2 * USO. The `model.params[0]` stores m1 and `model.params[1]` stores m2.\n",
    "\n",
    "Instruction\n",
    "1. Compute the spread"
   ]
  },
  {
   "cell_type": "code",
   "execution_count": 6,
   "metadata": {
    "ExecuteTime": {
     "end_time": "2019-11-20T07:50:40.957045Z",
     "start_time": "2019-11-20T07:50:40.948040Z"
    }
   },
   "outputs": [],
   "source": [
    "df['spread'] = df['GLD'] - model.params[0]*df['GDX'] - model.params[1]*df['USO']"
   ]
  },
  {
   "cell_type": "code",
   "execution_count": 7,
   "metadata": {
    "ExecuteTime": {
     "end_time": "2019-11-20T07:50:49.502598Z",
     "start_time": "2019-11-20T07:50:49.024178Z"
    }
   },
   "outputs": [
    {
     "name": "stdout",
     "output_type": "stream",
     "text": [
      "The spread is: GLD - 4.783232 * GDX - 0.727756 * USO\n"
     ]
    },
    {
     "data": {
      "image/png": "[encoded data removed]",
      "text/plain": [
       "<Figure size 720x360 with 1 Axes>"
      ]
     },
     "metadata": {},
     "output_type": "display_data"
    }
   ],
   "source": [
    "print('The spread is: GLD - %f * GDX - %f * USO' %\n",
    "      (model.params[0], model.params[1]))\n",
    "# Plot the spread\n",
    "df.spread.plot(figsize=(10, 5))\n",
    "plt.ylabel(\"Spread\")\n",
    "plt.show()"
   ]
  },
  {
   "cell_type": "markdown",
   "metadata": {},
   "source": [
    "### 4. ADF Test\n",
    "\n",
    "We determine the spread is cointegrated using adfuller method.\n",
    "\n",
    "Instruction\n",
    "\n",
    "1. Run ADF Test on `df.spread` and with `maxlag` as `1`."
   ]
  },
  {
   "cell_type": "code",
   "execution_count": 8,
   "metadata": {
    "ExecuteTime": {
     "end_time": "2019-11-20T08:16:36.589817Z",
     "start_time": "2019-11-20T08:16:36.581410Z"
    }
   },
   "outputs": [
    {
     "data": {
      "text/plain": [
       "-2.5496573051932754"
      ]
     },
     "execution_count": 8,
     "metadata": {},
     "output_type": "execute_result"
    }
   ],
   "source": [
    "# To perform ADF Test\n",
    "from statsmodels.tsa.stattools import adfuller\n",
    "# Compute ADF test statistics\n",
    "adf = adfuller(df['spread'], maxlag=1)\n",
    "adf[0]"
   ]
  },
  {
   "cell_type": "code",
   "execution_count": 14,
   "metadata": {
    "ExecuteTime": {
     "end_time": "2019-07-07T21:05:25.360472Z",
     "start_time": "2019-07-07T21:05:25.356380Z"
    }
   },
   "outputs": [
    {
     "data": {
      "text/plain": [
       "{'1%': -3.4416553818946145,\n",
       " '5%': -2.8665274458710064,\n",
       " '10%': -2.5694261699959413}"
      ]
     },
     "execution_count": 14,
     "metadata": {},
     "output_type": "execute_result"
    }
   ],
   "source": [
    "adf[4]"
   ]
  },
  {
   "cell_type": "markdown",
   "metadata": {},
   "source": [
    "If t-stat value is less than the critical value then the spread is cointegrated.\n",
    "\n",
    "Instructions\n",
    "2. Replace `..2..` with `True` if the spread is cointegrated and `False` if the spread is not cointegrated\n",
    "(Assume 90% confidence level)"
   ]
  },
  {
   "cell_type": "code",
   "execution_count": 15,
   "metadata": {
    "ExecuteTime": {
     "end_time": "2019-11-20T08:17:05.256656Z",
     "start_time": "2019-11-20T08:17:05.253624Z"
    }
   },
   "outputs": [
    {
     "name": "stdout",
     "output_type": "stream",
     "text": [
      "0.10385473697718167\n"
     ]
    }
   ],
   "source": [
    "#Since the test statistic value -2.55 is > than 90% confidence level -2.57, we accept the null hypothesis. \n",
    "#Even the p-value is 0.103 just around equal to the 10% significance level. \n",
    "#Hence the spread has a unit root, is not stationary and is not cointegrated.\n",
    "print(adf[1])\n",
    "is_triplet_cointegrated = False"
   ]
  },
  {
   "cell_type": "code",
   "execution_count": 16,
   "metadata": {},
   "outputs": [
    {
     "data": {
      "text/html": [
       "<div>\n",
       "<style scoped>\n",
       "    .dataframe tbody tr th:only-of-type {\n",
       "        vertical-align: middle;\n",
       "    }\n",
       "\n",
       "    .dataframe tbody tr th {\n",
       "        vertical-align: top;\n",
       "    }\n",
       "\n",
       "    .dataframe thead th {\n",
       "        text-align: right;\n",
       "    }\n",
       "</style>\n",
       "<table border=\"1\" class=\"dataframe\">\n",
       "  <thead>\n",
       "    <tr style=\"text-align: right;\">\n",
       "      <th></th>\n",
       "      <th>GLD</th>\n",
       "      <th>GDX</th>\n",
       "      <th>USO</th>\n",
       "      <th>spread</th>\n",
       "    </tr>\n",
       "    <tr>\n",
       "      <th>Date</th>\n",
       "      <th></th>\n",
       "      <th></th>\n",
       "      <th></th>\n",
       "      <th></th>\n",
       "    </tr>\n",
       "  </thead>\n",
       "  <tbody>\n",
       "    <tr>\n",
       "      <th>2017-01-03</th>\n",
       "      <td>110.470001</td>\n",
       "      <td>21.472231</td>\n",
       "      <td>11.44</td>\n",
       "      <td>-0.562185</td>\n",
       "    </tr>\n",
       "    <tr>\n",
       "      <th>2017-01-04</th>\n",
       "      <td>110.860001</td>\n",
       "      <td>21.630116</td>\n",
       "      <td>11.58</td>\n",
       "      <td>-1.029272</td>\n",
       "    </tr>\n",
       "    <tr>\n",
       "      <th>2017-01-05</th>\n",
       "      <td>112.580002</td>\n",
       "      <td>22.893188</td>\n",
       "      <td>11.70</td>\n",
       "      <td>-5.438168</td>\n",
       "    </tr>\n",
       "    <tr>\n",
       "      <th>2017-01-06</th>\n",
       "      <td>111.750000</td>\n",
       "      <td>22.093899</td>\n",
       "      <td>11.68</td>\n",
       "      <td>-2.430430</td>\n",
       "    </tr>\n",
       "    <tr>\n",
       "      <th>2017-01-09</th>\n",
       "      <td>112.669998</td>\n",
       "      <td>22.162973</td>\n",
       "      <td>11.31</td>\n",
       "      <td>-1.571559</td>\n",
       "    </tr>\n",
       "  </tbody>\n",
       "</table>\n",
       "</div>"
      ],
      "text/plain": [
       "                   GLD        GDX    USO    spread\n",
       "Date                                              \n",
       "2017-01-03  110.470001  21.472231  11.44 -0.562185\n",
       "2017-01-04  110.860001  21.630116  11.58 -1.029272\n",
       "2017-01-05  112.580002  22.893188  11.70 -5.438168\n",
       "2017-01-06  111.750000  22.093899  11.68 -2.430430\n",
       "2017-01-09  112.669998  22.162973  11.31 -1.571559"
      ]
     },
     "execution_count": 16,
     "metadata": {},
     "output_type": "execute_result"
    }
   ],
   "source": [
    "df.head()"
   ]
  },
  {
   "cell_type": "code",
   "execution_count": 17,
   "metadata": {},
   "outputs": [
    {
     "data": {
      "text/plain": [
       "111.75"
      ]
     },
     "execution_count": 17,
     "metadata": {},
     "output_type": "execute_result"
    }
   ],
   "source": [
    "df.loc['2017-01-06','GLD']"
   ]
  },
  {
   "cell_type": "markdown",
   "metadata": {},
   "source": [
    "## 5. Mean reversion strategy"
   ]
  },
  {
   "cell_type": "code",
   "execution_count": 18,
   "metadata": {
    "ExecuteTime": {
     "end_time": "2019-07-07T21:08:37.162948Z",
     "start_time": "2019-07-07T21:08:37.153376Z"
    }
   },
   "outputs": [],
   "source": [
    "def stat_arb(df, lookback, std_dev):\n",
    "    df['moving_average'] = df.spread.rolling(lookback).mean()\n",
    "    df['moving_std_dev'] = df.spread.rolling(lookback).std()\n",
    "\n",
    "    df['upper_band'] = df.moving_average + std_dev*df.moving_std_dev\n",
    "    df['lower_band'] = df.moving_average - std_dev*df.moving_std_dev\n",
    "\n",
    "    df['long_entry'] = df.spread < df.lower_band\n",
    "    df['long_exit'] = df.spread >= df.moving_average\n",
    "    df['positions_long'] = np.nan\n",
    "    df.loc[df.long_entry, 'positions_long'] = 1\n",
    "    df.loc[df.long_exit, 'positions_long'] = 0\n",
    "    df.positions_long = df.positions_long.fillna(method='ffill')\n",
    "\n",
    "    df['short_entry'] = df.spread > df.upper_band\n",
    "    df['short_exit'] = df.spread <= df.moving_average\n",
    "    df['positions_short'] = np.nan\n",
    "    df.loc[df.short_entry, 'positions_short'] = -1\n",
    "    df.loc[df.short_exit, 'positions_short'] = 0\n",
    "    df.positions_short = df.positions_short.fillna(method='ffill')\n",
    "\n",
    "    df['positions'] = df.positions_long + df.positions_short\n",
    "\n",
    "    df['spread_difference'] = df.spread - df.spread.shift(1)\n",
    "    df['pnl'] = df.positions.shift(1) * df.spread_difference\n",
    "    df['cumpnl'] = df.pnl.cumsum()\n",
    "    return df"
   ]
  },
  {
   "cell_type": "markdown",
   "metadata": {},
   "source": [
    "Instruction\n",
    "1. Call the function stat_arb with df, lookback as 15 and standard deviation as 1."
   ]
  },
  {
   "cell_type": "code",
   "execution_count": 19,
   "metadata": {
    "ExecuteTime": {
     "end_time": "2019-07-07T21:08:42.300470Z",
     "start_time": "2019-07-07T21:08:42.269392Z"
    }
   },
   "outputs": [],
   "source": [
    "df = stat_arb(df, 15, 1)"
   ]
  },
  {
   "cell_type": "markdown",
   "metadata": {},
   "source": [
    "## 6. Plot the profit and loss (PnL)"
   ]
  },
  {
   "cell_type": "markdown",
   "metadata": {},
   "source": [
    "Instruction\n",
    "1. Plot the cumulative PnL"
   ]
  },
  {
   "cell_type": "code",
   "execution_count": 20,
   "metadata": {
    "ExecuteTime": {
     "end_time": "2019-07-07T21:10:56.196838Z",
     "start_time": "2019-07-07T21:10:56.015668Z"
    }
   },
   "outputs": [
    {
     "data": {
      "image/png": "[encoded data removed]",
      "text/plain": [
       "<Figure size 432x288 with 1 Axes>"
      ]
     },
     "metadata": {},
     "output_type": "display_data"
    }
   ],
   "source": [
    "df['cumpnl'].plot()\n",
    "plt.ylabel(\"Cumulative PnL\")\n",
    "plt.show()\n"
   ]
  },
  {
   "cell_type": "code",
   "execution_count": null,
   "metadata": {},
   "outputs": [],
   "source": []
  }
 ],
 "metadata": {
  "kernelspec": {
   "display_name": "Python 3",
   "language": "python",
   "name": "python3"
  },
  "language_info": {
   "codemirror_mode": {
    "name": "ipython",
    "version": 3
   },
   "file_extension": ".py",
   "mimetype": "text/x-python",
   "name": "python",
   "nbconvert_exporter": "python",
   "pygments_lexer": "ipython3",
   "version": "3.6.5"
  },
  "toc": {
   "base_numbering": 1,
   "nav_menu": {},
   "number_sections": true,
   "sideBar": true,
   "skip_h1_title": false,
   "title_cell": "Table of Contents",
   "title_sidebar": "Contents",
   "toc_cell": false,
   "toc_position": {},
   "toc_section_display": true,
   "toc_window_display": false
  },
  "varInspector": {
   "cols": {
    "lenName": 16,
    "lenType": 16,
    "lenVar": 40
   },
   "kernels_config": {
    "python": {
     "delete_cmd_postfix": "",
     "delete_cmd_prefix": "del ",
     "library": "var_list.py",
     "varRefreshCmd": "print(var_dic_list())"
    },
    "r": {
     "delete_cmd_postfix": ") ",
     "delete_cmd_prefix": "rm(",
     "library": "var_list.r",
     "varRefreshCmd": "cat(var_dic_list()) "
    }
   },
   "types_to_exclude": [
    "module",
    "function",
    "builtin_function_or_method",
    "instance",
    "_Feature"
   ],
   "window_display": false
  }
 },
 "nbformat": 4,
 "nbformat_minor": 2
}
