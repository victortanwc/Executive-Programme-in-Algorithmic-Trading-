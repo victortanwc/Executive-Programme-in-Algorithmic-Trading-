{
 "cells": [
  {
   "cell_type": "markdown",
   "metadata": {},
   "source": [
    "# PRM-02 Tutorial Session\n",
    "\n",
    "### Author: Jay Parmar\n",
    "\n",
    "##### Created on: 19th Sep 2020\n",
    "\n",
    "##### Last Updated on: 15th Sep 2021"
   ]
  },
  {
   "cell_type": "markdown",
   "metadata": {},
   "source": [
    "### Lecture Agenda\n",
    "- Portfolio Creation\n",
    "- Calculating Risk and Returns\n",
    "- Modern Portfolio Theory\n",
    "- Security Selection\n",
    "- Kelly Criterion for Position Sizing\n",
    "- Calculating Profitability Ratios using Pyfolio\n",
    "\n",
    "### What this lecture is not?\n",
    "1. This lecture is *NOT* about Python, but rather Portfolio concepts with the help of Python."
   ]
  },
  {
   "cell_type": "code",
   "execution_count": null,
   "metadata": {},
   "outputs": [],
   "source": [
    "# This is to ignore the warnings\n",
    "import warnings\n",
    "warnings.filterwarnings('ignore')"
   ]
  },
  {
   "cell_type": "code",
   "execution_count": null,
   "metadata": {},
   "outputs": [],
   "source": [
    "# Importing necessary libraries\n",
    "import pandas as pd\n",
    "import numpy as np\n",
    "import matplotlib.pyplot as plt\n",
    "import pyfolio as pf\n",
    "import cufflinks\n",
    "\n",
    "%matplotlib inline\n",
    "\n",
    "pd.options.display.precision = 4\n",
    "plt.style.use('seaborn-ticks')"
   ]
  },
  {
   "cell_type": "code",
   "execution_count": null,
   "metadata": {},
   "outputs": [],
   "source": [
    "# To display multiple outputs from the same cell\n",
    "from IPython.core.interactiveshell import InteractiveShell\n",
    "InteractiveShell.ast_node_interactivity = \"all\""
   ]
  },
  {
   "cell_type": "code",
   "execution_count": null,
   "metadata": {},
   "outputs": [],
   "source": [
    "!pip install pyfolio==0.9.2\n",
    "!pip install pandas==1.2.1"
   ]
  },
  {
   "cell_type": "markdown",
   "metadata": {},
   "source": [
    "# 1) Investing in a Single Stock"
   ]
  },
  {
   "cell_type": "code",
   "execution_count": null,
   "metadata": {},
   "outputs": [],
   "source": [
    "# Define the first stock\n",
    "stk_1 = 'TCS' # IT Company"
   ]
  },
  {
   "cell_type": "code",
   "execution_count": null,
   "metadata": {},
   "outputs": [],
   "source": [
    "# Read stock 1 data and verify its content\n",
    "stk_1_data = pd.read_csv(stk_1+'.csv', index_col=0, parse_dates=True)"
   ]
  },
  {
   "cell_type": "code",
   "execution_count": null,
   "metadata": {},
   "outputs": [],
   "source": [
    "stk_1_data.head()"
   ]
  },
  {
   "cell_type": "code",
   "execution_count": null,
   "metadata": {},
   "outputs": [],
   "source": [
    "stk_1_data.tail()"
   ]
  },
  {
   "cell_type": "markdown",
   "metadata": {},
   "source": [
    "### Daily Returns"
   ]
  },
  {
   "cell_type": "code",
   "execution_count": null,
   "metadata": {},
   "outputs": [],
   "source": [
    "# Calculate daily percentage changes for stock 1\n",
    "stk_1_data['daily_returns'] = stk_1_data['Adj Close'].pct_change()\n",
    "\n",
    "stk_1_data.dropna(inplace=True)"
   ]
  },
  {
   "cell_type": "code",
   "execution_count": null,
   "metadata": {},
   "outputs": [],
   "source": [
    "# Function to compute net cumulative returns\n",
    "def compute_cum_returns(data):\n",
    "    cum_returns = (1 + data).cumprod() - 1\n",
    "    return cum_returns"
   ]
  },
  {
   "cell_type": "code",
   "execution_count": null,
   "metadata": {},
   "outputs": [],
   "source": [
    "# Calculate cumulative returns for stock 1\n",
    "stk_1_cum_returns = compute_cum_returns(stk_1_data['daily_returns'])\n",
    "\n",
    "# Display cumulative returns for stock 1\n",
    "stk_1_cum_returns.iplot(title='TCS Cumulative Returns', xTitle='Dates', yTitle='Returns')\n",
    "\n",
    "# Print the final value\n",
    "print('The cumulative returns for %s are %.3f%%' % (stk_1, stk_1_cum_returns[-1] * 100))"
   ]
  },
  {
   "cell_type": "markdown",
   "metadata": {},
   "source": [
    "### Annualized Returns"
   ]
  },
  {
   "cell_type": "markdown",
   "metadata": {},
   "source": [
    "An annualized total return is the geometric average amount of money earned by an investment each year over a given time period. The annualized return formula is calculated as a geometric average to show what an investor would earn over a period of time if the annual return was compounded."
   ]
  },
  {
   "cell_type": "markdown",
   "metadata": {},
   "source": [
    "$$ Annualized\\ Returns = (1 + Cumulative\\ Return)^\\frac{365}{N} - 1 $$\n",
    "\n",
    "Where:\n",
    "\n",
    "$ 252 = $ Number of trading days in year\n",
    "\n",
    "$ N = $ Number of trading days for a strategy"
   ]
  },
  {
   "cell_type": "code",
   "execution_count": null,
   "metadata": {},
   "outputs": [],
   "source": [
    "# Function to compute annualized returns\n",
    "def compute_ann_returns(cum_returns, n):\n",
    "    trading_days = 252\n",
    "    \n",
    "    ann_returns = ((1 + cum_returns) ** (trading_days/n)) - 1\n",
    "    \n",
    "    return ann_returns"
   ]
  },
  {
   "cell_type": "code",
   "execution_count": null,
   "metadata": {},
   "outputs": [],
   "source": [
    "# Define length of data\n",
    "n = len(stk_1_data)\n",
    "\n",
    "# Compute annualized returns for stk_1\n",
    "stk_1_annualized_returns = compute_ann_returns(stk_1_cum_returns[-1], n)\n",
    "\n",
    "print('The annualized returns for %s are %.3f%%' % (stk_1, stk_1_annualized_returns * 100))"
   ]
  },
  {
   "cell_type": "markdown",
   "metadata": {},
   "source": [
    "##### Questions to ask:-\n",
    "\n",
    "1. Should we invest in only single stock? If yes, why? If no, why not?\n",
    "2. Is investing in a single stock risky?"
   ]
  },
  {
   "cell_type": "markdown",
   "metadata": {},
   "source": [
    "### Daily Volatility"
   ]
  },
  {
   "cell_type": "code",
   "execution_count": null,
   "metadata": {},
   "outputs": [],
   "source": [
    "# Calculate daily volatility for stock 1\n",
    "stk_1_daily_volatility = stk_1_data.daily_returns.std()\n",
    "\n",
    "print('The daily volatility of %s is %.3f%%' % (stk_1, stk_1_daily_volatility))"
   ]
  },
  {
   "cell_type": "markdown",
   "metadata": {},
   "source": [
    "### Annualized Volatility"
   ]
  },
  {
   "cell_type": "code",
   "execution_count": null,
   "metadata": {},
   "outputs": [],
   "source": [
    "# Calculate the annualised volatility for stock 1\n",
    "stk_1_annual_volatility = stk_1_daily_volatility * np.sqrt(252)\n",
    "\n",
    "print('The annualised volatility of %s is %.3f%%' % (stk_1, stk_1_annual_volatility * 100))"
   ]
  },
  {
   "cell_type": "code",
   "execution_count": null,
   "metadata": {},
   "outputs": [],
   "source": [
    "# Comparison\n",
    "comparison = pd.DataFrame(columns=['ann_returns', 'ann_volatility'])\n",
    "\n",
    "comparison.loc[stk_1, 'ann_returns'] = round(stk_1_annualized_returns * 100, 3)\n",
    "comparison.loc[stk_1, 'ann_volatility'] = round(stk_1_annual_volatility * 100, 3)\n",
    "\n",
    "comparison.head()"
   ]
  },
  {
   "cell_type": "markdown",
   "metadata": {},
   "source": [
    "### Goal: Create a portfolio with annual returns similar to TCS and with lower annual volatility."
   ]
  },
  {
   "cell_type": "markdown",
   "metadata": {},
   "source": [
    "# 2) Modern Portfolio Theory"
   ]
  },
  {
   "cell_type": "code",
   "execution_count": null,
   "metadata": {},
   "outputs": [],
   "source": [
    "# Define stock 2\n",
    "stk_2 = 'MARUTI' # Automobile company"
   ]
  },
  {
   "cell_type": "code",
   "execution_count": null,
   "metadata": {},
   "outputs": [],
   "source": [
    "# Read stock 2 data \n",
    "stk_2_data = pd.read_csv(stk_2+'.csv', index_col=0, parse_dates=True)\n",
    "\n",
    "stk_2_data.head()"
   ]
  },
  {
   "cell_type": "code",
   "execution_count": null,
   "metadata": {},
   "outputs": [],
   "source": [
    "stk_2_data.tail()"
   ]
  },
  {
   "cell_type": "code",
   "execution_count": null,
   "metadata": {},
   "outputs": [],
   "source": [
    "# Compute daily percentage returns for stock 2\n",
    "stk_2_data['daily_returns'] = stk_2_data['Adj Close'].pct_change()\n",
    "\n",
    "stk_2_data.dropna(inplace=True)"
   ]
  },
  {
   "cell_type": "code",
   "execution_count": null,
   "metadata": {
    "scrolled": false
   },
   "outputs": [],
   "source": [
    "# Calculate cumulative returns for stock 2\n",
    "stk_2_cum_returns = compute_cum_returns(stk_2_data['daily_returns'])\n",
    "\n",
    "# Display cumulative returns for stock 2\n",
    "stk_2_cum_returns.iplot(title='Maruti Cumulative Returns', xTitle='Dates', yTitle='Returns')\n",
    "\n",
    "# Print the final value\n",
    "print('The cumulative returns for %s are %.3f%%' % (stk_2, stk_2_cum_returns[-1] * 100))"
   ]
  },
  {
   "cell_type": "code",
   "execution_count": null,
   "metadata": {},
   "outputs": [],
   "source": [
    "# Number of trading days for stock 2\n",
    "n = len(stk_2_data)\n",
    "\n",
    "# Compute annualized returns for stock 2\n",
    "stk_2_annualized_returns = compute_ann_returns(stk_2_cum_returns[-1], n)\n",
    "\n",
    "print('The annualized returns for %s are %.3f%%' % (stk_2, stk_2_annualized_returns * 100))"
   ]
  },
  {
   "cell_type": "code",
   "execution_count": null,
   "metadata": {},
   "outputs": [],
   "source": [
    "# Calculate daily volatility for stock 2\n",
    "stk_2_daily_volatility = stk_2_data.daily_returns.std()\n",
    "\n",
    "print('The daily volatility of %s is %.3f%%' % (stk_2, stk_2_daily_volatility))"
   ]
  },
  {
   "cell_type": "code",
   "execution_count": null,
   "metadata": {},
   "outputs": [],
   "source": [
    "# Calculate the annualised volatility for stock 2\n",
    "stk_2_annual_volatility = stk_2_daily_volatility * np.sqrt(252)\n",
    "\n",
    "print('The annualised volatility of %s is %.3f%%' % (stk_2, stk_2_annual_volatility * 100))"
   ]
  },
  {
   "cell_type": "code",
   "execution_count": null,
   "metadata": {},
   "outputs": [],
   "source": [
    "# Update stock 2 data in 'comparison' dataframe\n",
    "comparison.loc[stk_2, 'ann_returns'] = round(stk_2_annualized_returns * 100, 3)\n",
    "comparison.loc[stk_2, 'ann_volatility'] = round(stk_2_annual_volatility * 100, 3)\n",
    "\n",
    "comparison.head()"
   ]
  },
  {
   "cell_type": "markdown",
   "metadata": {},
   "source": [
    "#####  Questions to ask:\n",
    "\n",
    "1. Can we do anything to aim similar returns as stock 2, but with lower risk?"
   ]
  },
  {
   "cell_type": "code",
   "execution_count": null,
   "metadata": {},
   "outputs": [],
   "source": [
    "# Defining weights for stock 1 and 2 - Equal Allocations\n",
    "weight_in_stk_1 = 0.5 # This is 50%\n",
    "weight_in_stk_2 = 1 - weight_in_stk_1"
   ]
  },
  {
   "cell_type": "markdown",
   "metadata": {},
   "source": [
    "### a) Returns of a portfolio"
   ]
  },
  {
   "cell_type": "markdown",
   "metadata": {},
   "source": [
    "$$ Portfolio\\ Returns = (w_A * R_A) + (w_B * R_B)$$\n",
    "\n",
    "Where:\n",
    "\n",
    "A = Stock A\n",
    "<br>B = Stock A\n",
    "\n",
    "$ w_A = $ Weight in stock A\n",
    "\n",
    "$ R_A = $ Returns of stock A\n",
    "\n",
    "$ w_B = $ Weight in stock B\n",
    "\n",
    "$ R_B = $ Returns of stock B\n"
   ]
  },
  {
   "cell_type": "markdown",
   "metadata": {},
   "source": [
    "$$ Portfolio\\ Returns = (w_A * R_A) + (w_B * R_B) + (w_C * R_C) + (w_D * R_D)$$"
   ]
  },
  {
   "cell_type": "code",
   "execution_count": null,
   "metadata": {},
   "outputs": [],
   "source": [
    "# Calculate portfolio returns\n",
    "port_daily_ret = (weight_in_stk_1 * stk_1_data['daily_returns']) + (weight_in_stk_2 * stk_2_data['daily_returns'])\n",
    "\n",
    "# Storing in a new variable which we will use later\n",
    "stk_1_2_daily_returns = port_daily_ret"
   ]
  },
  {
   "cell_type": "code",
   "execution_count": null,
   "metadata": {},
   "outputs": [],
   "source": [
    "# Calculate cumulative portfolio returns\n",
    "port_cum_returns = compute_cum_returns(port_daily_ret)\n",
    "\n",
    "# Print the final value\n",
    "print('The cumulative returns of a portfolio with %s and %s are %.3f%%' % (stk_1, stk_2, port_cum_returns[-1] * 100))"
   ]
  },
  {
   "cell_type": "code",
   "execution_count": null,
   "metadata": {},
   "outputs": [],
   "source": [
    "# Calculate annualized portfolio returns\n",
    "port_annualized_returns = compute_ann_returns(port_cum_returns[-1], len(port_cum_returns))\n",
    "\n",
    "print('The annualized returns of a portfolio with %s and %s are %.3f%%' % (stk_1, stk_2, port_annualized_returns * 100))"
   ]
  },
  {
   "cell_type": "markdown",
   "metadata": {},
   "source": [
    "##### Questions to ask:\n",
    "\n",
    "- How would you compute returns of a portfolio with more than two stocks?"
   ]
  },
  {
   "cell_type": "markdown",
   "metadata": {},
   "source": [
    "### b) Volatility of a Portfolio"
   ]
  },
  {
   "cell_type": "markdown",
   "metadata": {},
   "source": [
    "$$ \\text{Portfolio Variance} = w^2_A \\times \\sigma^2(R_A) + w^2_B \\times \\sigma^2(R_B) + 2 \\times w_A \\times w_B \\times cov(R_A, R_B) $$"
   ]
  },
  {
   "cell_type": "markdown",
   "metadata": {},
   "source": [
    "$$ \\text{Portfolio Std Dev} = \\sqrt{w^2_A \\times \\sigma^2(R_A) + w^2_B \\times \\sigma^2(R_B) + 2 \\times w_A \\times w_B \\times cov(R_A, R_B)} $$\n",
    "\n",
    "Where:-\n",
    "\n",
    "$ w_A = $ Weight in stock A\n",
    "\n",
    "$ \\sigma^2(R_A) = $ Variance of returns of stock A\n",
    "\n",
    "$ w_B = $ Weight in stock B\n",
    "\n",
    "$ \\sigma^2(R_B) = $ Variance of returns of stock B\n",
    "\n",
    "$ cov(R_A, R_B) = $ Corvariance between stock A returns and stock B returns"
   ]
  },
  {
   "cell_type": "code",
   "execution_count": null,
   "metadata": {},
   "outputs": [],
   "source": [
    "# Calculate covariance between stock 1 and 2\n",
    "stk_1_2_cov = np.cov(stk_1_data['daily_returns'], stk_2_data['daily_returns'])"
   ]
  },
  {
   "cell_type": "code",
   "execution_count": null,
   "metadata": {},
   "outputs": [],
   "source": [
    "stk_1_2_cov"
   ]
  },
  {
   "cell_type": "code",
   "execution_count": null,
   "metadata": {},
   "outputs": [],
   "source": [
    "var_cov_matrix = pd.DataFrame(stk_1_2_cov, columns=['TCS', 'Maruti'], index=['TCS', 'Maruti'])\n",
    "\n",
    "var_cov_matrix"
   ]
  },
  {
   "cell_type": "markdown",
   "metadata": {},
   "source": [
    "###### Covariance of X with itself is a variance of X.\n",
    "\n",
    "- Covariance of TCS with TCS is the variance of TCS. (which can also be calculated using `np.var`)"
   ]
  },
  {
   "cell_type": "code",
   "execution_count": null,
   "metadata": {},
   "outputs": [],
   "source": [
    "print('The covariance between %s and %s is %.6f' % (stk_1, stk_2, stk_1_2_cov[0, 1]))"
   ]
  },
  {
   "cell_type": "code",
   "execution_count": null,
   "metadata": {},
   "outputs": [],
   "source": [
    "# Calculate daily volatility of a portfolio\n",
    "port_daily_variance = (weight_in_stk_1 * stk_1_daily_volatility) ** 2 + (weight_in_stk_2 * stk_2_daily_volatility) ** 2 + \\\n",
    "                        2 * weight_in_stk_1 * weight_in_stk_2 * stk_1_2_cov[0, 1]\n",
    "\n",
    "port_daily_volatility = np.sqrt(port_daily_variance)\n",
    "\n",
    "print('The daily volatility of a portfolio with %s and %s is %.3f%%' % (stk_1, stk_2, port_daily_volatility))"
   ]
  },
  {
   "cell_type": "code",
   "execution_count": null,
   "metadata": {},
   "outputs": [],
   "source": [
    "# Calculate the annualised volatility of the portfolio\n",
    "port_annualized_volatility = port_daily_volatility * np.sqrt(252)\n",
    "\n",
    "print('The annualised volatility of a portfolio with %s and %s is %.3f%%' % (stk_1, stk_2, port_annualized_volatility * 100))"
   ]
  },
  {
   "cell_type": "code",
   "execution_count": null,
   "metadata": {},
   "outputs": [],
   "source": [
    "# Update the portfolio data in 'comparison' dataframe\n",
    "comparison.loc[stk_1 + '_' + stk_2, 'ann_returns'] = round(port_annualized_returns * 100)\n",
    "comparison.loc[stk_1 + '_' + stk_2, 'ann_volatility'] = round(port_annualized_volatility * 100, 3)\n",
    "\n",
    "comparison.head()"
   ]
  },
  {
   "cell_type": "markdown",
   "metadata": {},
   "source": [
    "##### Questions to ask:\n",
    "\n",
    "1. Did investing in two stocks reduced the risk?\n",
    "2. What can be the potential problem with the current portfolio?\n",
    "3. Can we further reduce the risk?"
   ]
  },
  {
   "cell_type": "code",
   "execution_count": null,
   "metadata": {},
   "outputs": [],
   "source": []
  },
  {
   "cell_type": "code",
   "execution_count": null,
   "metadata": {},
   "outputs": [],
   "source": []
  },
  {
   "cell_type": "code",
   "execution_count": null,
   "metadata": {},
   "outputs": [],
   "source": []
  },
  {
   "cell_type": "code",
   "execution_count": null,
   "metadata": {},
   "outputs": [],
   "source": []
  },
  {
   "cell_type": "code",
   "execution_count": null,
   "metadata": {},
   "outputs": [],
   "source": []
  },
  {
   "cell_type": "code",
   "execution_count": null,
   "metadata": {},
   "outputs": [],
   "source": []
  },
  {
   "cell_type": "code",
   "execution_count": null,
   "metadata": {},
   "outputs": [],
   "source": []
  },
  {
   "cell_type": "code",
   "execution_count": null,
   "metadata": {},
   "outputs": [],
   "source": []
  },
  {
   "cell_type": "code",
   "execution_count": null,
   "metadata": {},
   "outputs": [],
   "source": []
  },
  {
   "cell_type": "code",
   "execution_count": null,
   "metadata": {},
   "outputs": [],
   "source": [
    "# Correlation between stock 1 and 2\n",
    "corr = np.corrcoef(stk_1_data['daily_returns'], stk_2_data['daily_returns'])[0, 1]\n",
    "\n",
    "print('A correlation between %s and %s is %.3f' % (stk_1, stk_2, corr))"
   ]
  },
  {
   "cell_type": "markdown",
   "metadata": {},
   "source": [
    "# 3) Investing in Two Uncorrelated Securities"
   ]
  },
  {
   "cell_type": "markdown",
   "metadata": {},
   "source": [
    "### a) Download Stock Data and Compute Volatility and Returns"
   ]
  },
  {
   "cell_type": "code",
   "execution_count": null,
   "metadata": {},
   "outputs": [],
   "source": [
    "# Define stock 3\n",
    "stk_3 = 'MARICO' # FMCG Company"
   ]
  },
  {
   "cell_type": "code",
   "execution_count": null,
   "metadata": {},
   "outputs": [],
   "source": [
    "# Read stock 3 data\n",
    "stk_3_data = pd.read_csv(stk_3 + '.csv', index_col=0, parse_dates=True)\n",
    "\n",
    "# Verify the data\n",
    "stk_3_data.head()"
   ]
  },
  {
   "cell_type": "code",
   "execution_count": null,
   "metadata": {},
   "outputs": [],
   "source": [
    "# Compute daily percentage returns for stock 3\n",
    "stk_3_data['daily_returns'] = stk_3_data['Adj Close'].pct_change()\n",
    "\n",
    "stk_3_data.dropna(inplace=True)"
   ]
  },
  {
   "cell_type": "code",
   "execution_count": null,
   "metadata": {},
   "outputs": [],
   "source": [
    "# Calculate cumulative returns for stock 3\n",
    "stk_3_cum_returns = compute_cum_returns(stk_3_data['daily_returns'])\n",
    "\n",
    "# Display cumulative returns for stock 3\n",
    "stk_3_cum_returns.iplot(title='Marico Cumulative Returns', xTitle='Dates', yTitle='Returns')\n",
    "\n",
    "# Print the final value\n",
    "print('The cumulative returns of %s are %.3f%%' % (stk_3, stk_3_cum_returns[-1] * 100))"
   ]
  },
  {
   "cell_type": "code",
   "execution_count": null,
   "metadata": {},
   "outputs": [],
   "source": [
    "# Calculate daily volatility for stock 3\n",
    "stk_3_daily_volatility = stk_3_data.daily_returns.std()\n",
    "\n",
    "print('The daily volatility of %s is %.3f%%' % (stk_3, stk_3_daily_volatility))"
   ]
  },
  {
   "cell_type": "markdown",
   "metadata": {},
   "source": [
    "### b) Check Correlation"
   ]
  },
  {
   "cell_type": "code",
   "execution_count": null,
   "metadata": {},
   "outputs": [],
   "source": [
    "# Check correlation between stock 1 and stock 3\n",
    "corr = np.corrcoef(stk_1_data['daily_returns'], stk_3_data['daily_returns'])[0, 1]\n",
    "\n",
    "print('A correlation between %s and %s is %.3f' % (stk_1, stk_3, corr))"
   ]
  },
  {
   "cell_type": "markdown",
   "metadata": {},
   "source": [
    "### c) Build Portfolio and Calculate Expected Returns"
   ]
  },
  {
   "cell_type": "code",
   "execution_count": null,
   "metadata": {},
   "outputs": [],
   "source": [
    "# Defining weights for stock 1 and stock 3 - Equal Allocations\n",
    "weight_in_stk_1 = 0.5\n",
    "weight_in_stk_3 = 1 - weight_in_stk_1"
   ]
  },
  {
   "cell_type": "code",
   "execution_count": null,
   "metadata": {},
   "outputs": [],
   "source": [
    "# Calculate portfolio returns\n",
    "port_daily_returns = (weight_in_stk_1 * stk_1_data['daily_returns']) + (weight_in_stk_3 * stk_3_data['daily_returns'])\n",
    "\n",
    "# Storing in a new variable which we will use later\n",
    "stk_1_3_daily_returns = port_daily_returns"
   ]
  },
  {
   "cell_type": "code",
   "execution_count": null,
   "metadata": {},
   "outputs": [],
   "source": [
    "# Calculate cumulative portfolio returns\n",
    "port_cum_returns = compute_cum_returns(port_daily_returns)\n",
    "\n",
    "# Print the final value\n",
    "print('The cumulative return of a portfolio with %s and %s is %.3f%%' % (stk_1, stk_3, port_cum_returns[-1] * 100))"
   ]
  },
  {
   "cell_type": "code",
   "execution_count": null,
   "metadata": {},
   "outputs": [],
   "source": [
    "# Calculate annualized returns of the portfolio\n",
    "port_annualized_returns = compute_ann_returns(port_cum_returns[-1], len(port_cum_returns))\n",
    "\n",
    "print('The annualized returns of a portfolio with %s and %s are %.3f%%' % (stk_1, stk_3, port_annualized_returns * 100))"
   ]
  },
  {
   "cell_type": "markdown",
   "metadata": {},
   "source": [
    "### d) Calculate Standard Deviation of a Portfolio"
   ]
  },
  {
   "cell_type": "code",
   "execution_count": null,
   "metadata": {},
   "outputs": [],
   "source": [
    "# Calculate the covariance between stock 1 and stock 3\n",
    "stk_1_3_cov = np.cov(stk_1_data['daily_returns'], stk_3_data['daily_returns'])\n",
    "\n",
    "print('The covariance between %s and %s is %.6f' % (stk_1, stk_3, stk_1_3_cov[0, 1]))"
   ]
  },
  {
   "cell_type": "code",
   "execution_count": null,
   "metadata": {},
   "outputs": [],
   "source": [
    "# Calculate daily volatility of a portfolio\n",
    "port_daily_variance = (weight_in_stk_1 * stk_1_daily_volatility) ** 2 \\\n",
    "                            + (weight_in_stk_3 * stk_3_daily_volatility) ** 2 \\\n",
    "                            + 2 * weight_in_stk_1 * weight_in_stk_3 * stk_1_3_cov[0, 1]\n",
    "\n",
    "port_daily_volatility = np.sqrt(port_daily_variance)\n",
    "\n",
    "print('The daily volatility of a portfolio with %s and %s is %.3f%%' % (stk_1, stk_3, port_daily_volatility))"
   ]
  },
  {
   "cell_type": "code",
   "execution_count": null,
   "metadata": {},
   "outputs": [],
   "source": [
    "# Calculate the annualised volatility of the portfolio\n",
    "port_annualized_volatility = port_daily_volatility * np.sqrt(252)\n",
    "\n",
    "print('The annualised volatility of a portfolio with %s and %s is %.3f%%' % (stk_1, stk_3, port_annualized_volatility * 100))"
   ]
  },
  {
   "cell_type": "code",
   "execution_count": null,
   "metadata": {},
   "outputs": [],
   "source": [
    "# Update HDFCBANK and MARICO data in 'comparison' dataframe\n",
    "comparison.loc[stk_1 + '_' + stk_3, 'ann_returns'] = round(port_annualized_returns * 100, 3)\n",
    "comparison.loc[stk_1 + '_' + stk_3, 'ann_volatility'] = round(port_annualized_volatility * 100, 3)\n",
    "\n",
    "comparison.head()"
   ]
  },
  {
   "cell_type": "code",
   "execution_count": null,
   "metadata": {},
   "outputs": [],
   "source": [
    "# Visualize the data\n",
    "x = np.arange(4)\n",
    "fig = plt.figure(figsize=(10, 6))\n",
    "ax = fig.add_axes([0,0,1,1])\n",
    "ax.bar(x + 0.00, comparison.ann_returns, color='teal', width = 0.25, label='Ann. Returns')\n",
    "ax.bar(x + 0.25, comparison.ann_volatility, color='g', width = 0.25, label='Ann. Volatility')\n",
    "\n",
    "ax.set_title('Comparison of Returns and Volatility')\n",
    "ax.set_xticks(x)\n",
    "ax.set_xticklabels(comparison.index)\n",
    "ax.legend()\n",
    "\n",
    "fig.tight_layout()\n",
    "plt.show()"
   ]
  },
  {
   "cell_type": "markdown",
   "metadata": {},
   "source": [
    "##### Questions to ask:\n",
    "\n",
    "- Have we achieved our goal?"
   ]
  },
  {
   "cell_type": "code",
   "execution_count": null,
   "metadata": {},
   "outputs": [],
   "source": []
  },
  {
   "cell_type": "code",
   "execution_count": null,
   "metadata": {},
   "outputs": [],
   "source": []
  },
  {
   "cell_type": "code",
   "execution_count": null,
   "metadata": {},
   "outputs": [],
   "source": []
  },
  {
   "cell_type": "code",
   "execution_count": null,
   "metadata": {},
   "outputs": [],
   "source": []
  },
  {
   "cell_type": "code",
   "execution_count": null,
   "metadata": {},
   "outputs": [],
   "source": []
  },
  {
   "cell_type": "code",
   "execution_count": null,
   "metadata": {},
   "outputs": [],
   "source": []
  },
  {
   "cell_type": "code",
   "execution_count": null,
   "metadata": {},
   "outputs": [],
   "source": []
  },
  {
   "cell_type": "code",
   "execution_count": null,
   "metadata": {},
   "outputs": [],
   "source": []
  },
  {
   "cell_type": "markdown",
   "metadata": {},
   "source": [
    "### e) Optimize Portfolio Weights"
   ]
  },
  {
   "cell_type": "code",
   "execution_count": null,
   "metadata": {},
   "outputs": [],
   "source": [
    "np.arange(11, 20, step=2)"
   ]
  },
  {
   "cell_type": "code",
   "execution_count": null,
   "metadata": {},
   "outputs": [],
   "source": [
    "# Create various portfolios with different weights\n",
    "weight_in_stk_1 = np.arange(0, 1, step=0.01)\n",
    "\n",
    "weight_in_stk_1"
   ]
  },
  {
   "cell_type": "code",
   "execution_count": null,
   "metadata": {},
   "outputs": [],
   "source": [
    "weight_in_stk_3 = 1 - weight_in_stk_1\n",
    "\n",
    "weight_in_stk_3"
   ]
  },
  {
   "cell_type": "code",
   "execution_count": null,
   "metadata": {},
   "outputs": [],
   "source": [
    "# Create empty dataframe and dictionary to hold data for all portfolios\n",
    "portfolios = pd.DataFrame(columns=[stk_1, stk_3, 'Ann_Returns', 'Ann_Volatility'])\n",
    "\n",
    "# Create empty dictionary to hold new data for each portfolio\n",
    "data_to_be_updated = {}"
   ]
  },
  {
   "cell_type": "code",
   "execution_count": null,
   "metadata": {},
   "outputs": [],
   "source": [
    "# Iterate through each combination of weights in stock 1 and stock 3\n",
    "for w_i in weight_in_stk_1:\n",
    "    for w_d in weight_in_stk_3:\n",
    "        \n",
    "        # Select only those portfolios whose weights are equal to 1\n",
    "        if (w_i + w_d) == 1:\n",
    "\n",
    "            # Calculate expected returns for each portfolio\n",
    "            port_daily_returns = (w_i * stk_1_data.daily_returns) + (w_d * stk_3_data.daily_returns)\n",
    "\n",
    "            # Calculate cumulative returns for each portfolio\n",
    "            port_cum_returns = compute_cum_returns(port_daily_returns)\n",
    "            \n",
    "            # Calculate annualized returns for each portfolio\n",
    "            port_annualized_returns = compute_ann_returns(port_cum_returns[-1], len(port_cum_returns))\n",
    "\n",
    "            # Calculate daily volatility for each portfolio\n",
    "            port_daily_volatility = np.sqrt((w_i * stk_1_daily_volatility) ** 2 \\\n",
    "                                + (w_d * stk_3_daily_volatility) ** 2 \\\n",
    "                                + 2 * w_i * w_d * stk_1_3_cov[0, 1])\n",
    "\n",
    "            # Calculate annualized volatility for each portfolio\n",
    "            port_annualized_volatility = port_daily_volatility * np.sqrt(252)\n",
    "            \n",
    "            print(f'{stk_1}: {round(w_i, 2)} | {stk_3}: {round(w_d, 2)} | Ann. Returns: {round(port_annualized_returns, 4)} | Ann. Vol: {round(port_annualized_volatility, 4)}')\n",
    "            \n",
    "            # Update weights, annual returns and volatility the current portfolio\n",
    "            data_to_be_updated[stk_1] = round(w_i, 2)\n",
    "            data_to_be_updated[stk_3] = round(w_d, 2)\n",
    "            data_to_be_updated['Ann_Returns'] = round(port_annualized_returns, 4)\n",
    "            data_to_be_updated['Ann_Volatility'] = round(port_annualized_volatility, 4)\n",
    "            \n",
    "            # Append the current portfolio data to the dataframe\n",
    "            portfolios = portfolios.append(data_to_be_updated, ignore_index=True)\n",
    "else:\n",
    "    print('Computations completed!')"
   ]
  },
  {
   "cell_type": "code",
   "execution_count": null,
   "metadata": {},
   "outputs": [],
   "source": [
    "portfolios.head(20)"
   ]
  },
  {
   "cell_type": "markdown",
   "metadata": {},
   "source": [
    "#### Minimum Risk Portfolio"
   ]
  },
  {
   "cell_type": "code",
   "execution_count": null,
   "metadata": {},
   "outputs": [],
   "source": [
    "# Minimum Risk Portfolio\n",
    "min_risk_portfolios = portfolios.loc[portfolios.Ann_Volatility == portfolios.Ann_Volatility.min()]\n",
    "\n",
    "min_x = min_risk_portfolios.Ann_Volatility.iloc[0]\n",
    "min_y = min_risk_portfolios.Ann_Returns.iloc[0]\n",
    "\n",
    "min_risk_portfolios"
   ]
  },
  {
   "cell_type": "markdown",
   "metadata": {},
   "source": [
    "#### Portfolio with Maximum Returns/Unit of Risk"
   ]
  },
  {
   "cell_type": "code",
   "execution_count": null,
   "metadata": {},
   "outputs": [],
   "source": [
    "# Create a new column with maximum returns per unit of risk\n",
    "portfolios['max_returns/risk'] = portfolios['Ann_Returns'] / portfolios['Ann_Volatility']\n",
    "\n",
    "# Find the portfolio with maximum returns per unit of risk\n",
    "sharpe_portfolios = portfolios.loc[portfolios['max_returns/risk'] == portfolios['max_returns/risk'].max()]\n",
    "\n",
    "sharpe_x = sharpe_portfolios.Ann_Volatility.iloc[0]\n",
    "sharpe_y = sharpe_portfolios.Ann_Returns.iloc[0]\n",
    "\n",
    "sharpe_portfolios"
   ]
  },
  {
   "cell_type": "code",
   "execution_count": null,
   "metadata": {},
   "outputs": [],
   "source": [
    "# Plotting it visually\n",
    "fig = plt.figure(figsize=(15, 8))\n",
    "plt.scatter(x='Ann_Volatility', y='Ann_Returns', data=portfolios, label='Various Portfolios')\n",
    "plt.scatter(x=min_x, y=min_y, marker='*', s=200, color='darkorange', label='Minimum Risk Portfolio')\n",
    "plt.scatter(x=sharpe_x, y=sharpe_y, marker='*', s=200, color='red', label='Max Returns/Risk Portfolio')\n",
    "plt.xlabel('Annualized Volatility')\n",
    "plt.ylabel('Annualized Returns')\n",
    "plt.title('Portfolio Risk Vs Returns')\n",
    "plt.legend(loc='best', fontsize=14)\n",
    "plt.grid()\n",
    "plt.show()"
   ]
  },
  {
   "cell_type": "code",
   "execution_count": null,
   "metadata": {},
   "outputs": [],
   "source": []
  },
  {
   "cell_type": "code",
   "execution_count": null,
   "metadata": {},
   "outputs": [],
   "source": [
    "import plotly.express as px\n",
    "fig = px.scatter(portfolios, x=\"Ann_Volatility\", y=\"Ann_Returns\", hover_data=[stk_1, stk_3])\n",
    "fig.show()"
   ]
  },
  {
   "cell_type": "markdown",
   "metadata": {},
   "source": [
    "##### Questions to ask:\n",
    "\n",
    "1. Did we lowered all the risk?\n",
    "2. What can we do to further reduce the risk?\n",
    "3. Can we reduce risk to 0?"
   ]
  },
  {
   "cell_type": "markdown",
   "metadata": {},
   "source": [
    "---"
   ]
  },
  {
   "cell_type": "markdown",
   "metadata": {},
   "source": [
    "# 4) Kelly Criterion for Binary Bets - For Self-Study"
   ]
  },
  {
   "cell_type": "markdown",
   "metadata": {},
   "source": [
    "You have \\\\$100 and you bet **\\\\$40** on a bet. Following is the bet outcome:\n",
    "\n",
    "- **Win Payout**: If you win, you get invested amount plus 10% of the invested amount.\n",
    "    - Final amount would be 100 + (40 \\* 0.1) = 104\n",
    "\n",
    "\n",
    "\n",
    "- **Loss Payout**: If you lose, you lose the 30% of the invested amount.\n",
    "    - Final amount would be 100 - (40 * 0.3) = 88\n",
    "    \n",
    "\n",
    "If you play this bet multiple times, *how much should you invest in each bet?*\n",
    "\n",
    "\n",
    "In trading analogy,\n",
    "\n",
    "- \\\\$100 = Initial Capital\n",
    "- \\\\$40 = Fraction of capital invested\n",
    "- Win Payout = Profit\n",
    "- Loss Payout = Loss\n",
    "- Bet = Trade\n",
    "\n",
    "---"
   ]
  },
  {
   "cell_type": "markdown",
   "metadata": {},
   "source": [
    "An investor begins with \\\\$1 and invests a fraction($k$) in an investment with two potential outcomes. \n",
    "\n",
    "- If the investment succeeds, it returns $B$ and the portfolio will be worth $1 + kB$. \n",
    "- If it fails, it loses $A$ and the portfolio will be worth $1 – kA$.\n",
    "\n",
    "The profit after $n$ trades would be \n",
    "\n",
    "$$P_n = (1 + kB)^{wn} * (1 - kA)^{(1-w)n}$$\n",
    "\n",
    "Where:\n",
    "\n",
    "$ A = $ Loss payout *(Average loss per trade)*\n",
    "\n",
    "$ B = $ Win payout *(Average profit per trade)*\n",
    "\n",
    "$ n = $ Number of trades\n",
    "\n",
    "$ w = $ Probability of winning *(# winning trades / total trades)*\n",
    "\n",
    "$ 1 - w = $ Probability of losing *(# losing trades / total trades)*\n",
    "\n",
    "-----\n",
    "Rearranging the above formula when $n$ tends to infinite, we get:\n",
    "\n",
    "$$ k = (w \\div A) - (1-w \\div B) $$\n",
    "\n",
    "Where:\n",
    "\n",
    "$ k = $ Fraction of wealth we want to invest"
   ]
  },
  {
   "cell_type": "code",
   "execution_count": null,
   "metadata": {},
   "outputs": [],
   "source": [
    "initial_wealth = 1 \n",
    "\n",
    "# These values are in percentage terms\n",
    "\n",
    "# Define Payouts\n",
    "loss_payout = 0.8 # (A | Average loss per trade) # 100% (Total loss for all loss making trades / # of loss making trades)\n",
    "win_payout = 1.5 # (B | Average profit per trade) # 120 % (Total profit for all profitable trades / # of profitable trades)\n",
    "\n",
    "# Define Probabilities (Sum of both probabilities should be equal to 1)\n",
    "win_prob = 0.65 # (w | # winning trades / total trades)\n",
    "loss_prob = 0.35 # 1 - win_prob (1-w | # losing trades / total trades)\n",
    "\n",
    "# Total trades\n",
    "n_trades = 500 # (n)"
   ]
  },
  {
   "cell_type": "code",
   "execution_count": null,
   "metadata": {},
   "outputs": [],
   "source": [
    "# Calculate fraction of wealth to be traded using Kelly Criterion\n",
    "k = (win_prob / loss_payout) - (loss_prob / win_payout)\n",
    "\n",
    "print(f'One should invest {round(k, 2)} fraction of wealth in each trade.')"
   ]
  },
  {
   "cell_type": "code",
   "execution_count": null,
   "metadata": {},
   "outputs": [],
   "source": [
    "# Calcuate wealth after 'n' trade\n",
    "p = (1 + k * win_payout) ** (win_prob * n_trades) * (1 - k * loss_payout) ** (loss_prob * n_trades)\n",
    "\n",
    "print(f'The final wealth would be ~{round(p, 3)}')"
   ]
  },
  {
   "cell_type": "code",
   "execution_count": null,
   "metadata": {},
   "outputs": [],
   "source": [
    "# To Cross Verify\n",
    "# Generate wealth for various fractions\n",
    "fraction_list = np.arange(0, 1, 0.01)\n",
    "\n",
    "# Create empty list to store wealth for each fraction\n",
    "wealth = []"
   ]
  },
  {
   "cell_type": "code",
   "execution_count": null,
   "metadata": {},
   "outputs": [],
   "source": [
    "fraction_list"
   ]
  },
  {
   "cell_type": "code",
   "execution_count": null,
   "metadata": {},
   "outputs": [],
   "source": [
    "# Iterate over each fraction value and compute wealth for it\n",
    "for k in fraction_list:\n",
    "    \n",
    "    # Calculate wealth\n",
    "    p = (1 + k * win_payout)**(win_prob * n_trades) * (1 - k * loss_payout)**(loss_prob * n_trades)\n",
    "    \n",
    "    # Append the wealth value to the list\n",
    "    wealth.append(p)\n",
    "else:\n",
    "    print('Computations completed!')"
   ]
  },
  {
   "cell_type": "code",
   "execution_count": null,
   "metadata": {},
   "outputs": [],
   "source": [
    "# Plot wealth for all fractions\n",
    "plt.figure(figsize=(10,6))\n",
    "plt.plot(fraction_list, wealth)\n",
    "plt.xlabel('Fraction of wealth')\n",
    "plt.ylabel('Wealth')\n",
    "plt.title('Kelly Criterion for Position Sizing')\n",
    "plt.grid()\n",
    "plt.show()"
   ]
  },
  {
   "cell_type": "code",
   "execution_count": null,
   "metadata": {},
   "outputs": [],
   "source": []
  },
  {
   "cell_type": "code",
   "execution_count": null,
   "metadata": {},
   "outputs": [],
   "source": []
  },
  {
   "cell_type": "markdown",
   "metadata": {},
   "source": [
    "# 5) Application of Kelly Criterion"
   ]
  },
  {
   "cell_type": "markdown",
   "metadata": {},
   "source": [
    "Read data file using which we will calculate the optimal `f` value using the Kelly. In other words, this works as the in-sample dataset."
   ]
  },
  {
   "cell_type": "code",
   "execution_count": null,
   "metadata": {},
   "outputs": [],
   "source": [
    "import yfinance as yf"
   ]
  },
  {
   "cell_type": "code",
   "execution_count": null,
   "metadata": {},
   "outputs": [],
   "source": [
    "aapl_data_1518 = yf.download('aapl', start='2015-01-01', end='2018-12-31')"
   ]
  },
  {
   "cell_type": "code",
   "execution_count": null,
   "metadata": {},
   "outputs": [],
   "source": [
    "# Define moving averages parameters\n",
    "sma = 12\n",
    "lma = 18"
   ]
  },
  {
   "cell_type": "markdown",
   "metadata": {},
   "source": [
    "Define a function that backtests Moving Average Crossover strategy. We use this function to backtest the strategy on in-sample and out-of-sample data."
   ]
  },
  {
   "cell_type": "code",
   "execution_count": null,
   "metadata": {},
   "outputs": [],
   "source": [
    "def mvc_backtest(data, sma, lma, fraction):\n",
    "    \n",
    "    # Calculate daily percentage returns\n",
    "    data['daily_returns'] = data['Adj Close'].pct_change()\n",
    "\n",
    "    # Drop NaN values\n",
    "    data.dropna(inplace=True)\n",
    "    \n",
    "    # Define moving averages - small and long, both\n",
    "    data['sma'] = data['Adj Close'].rolling(sma).mean()\n",
    "    data['lma'] = data['Adj Close'].rolling(lma).mean()\n",
    "    \n",
    "    # Define trading positions - long and short, both\n",
    "    data['positions'] = np.where(data['sma'] > data['lma'], fraction, -fraction)\n",
    "    \n",
    "    # Calculate strategy returns\n",
    "    data['s_returns'] = data['positions'].shift() * data['daily_returns']\n",
    "    \n",
    "    # Return the dataframe\n",
    "    return data"
   ]
  },
  {
   "cell_type": "markdown",
   "metadata": {},
   "source": [
    "Backtest the strategy on in-sample data using 100% wealth and store its results. That is, we invest all capital that we have in each trade."
   ]
  },
  {
   "cell_type": "code",
   "execution_count": null,
   "metadata": {},
   "outputs": [],
   "source": [
    "is_data = mvc_backtest(data=aapl_data_1518, sma=sma, lma=lma, fraction=1)"
   ]
  },
  {
   "cell_type": "code",
   "execution_count": null,
   "metadata": {},
   "outputs": [],
   "source": [
    "cumulative_strategy_returns = (1 + is_data['s_returns']).cumprod()\n",
    "\n",
    "print('Strategy returns:', round(cumulative_strategy_returns.iloc[-1] - 1, 2))"
   ]
  },
  {
   "cell_type": "markdown",
   "metadata": {},
   "source": [
    "Calculate the optimal `f` value using the Kelly formula as shown below:\n",
    "\n",
    "$$ f = \\frac{\\mu}{\\sigma^2} $$"
   ]
  },
  {
   "cell_type": "code",
   "execution_count": null,
   "metadata": {},
   "outputs": [],
   "source": [
    "# Calculate the mean returns\n",
    "mean_returns = is_data['s_returns'].mean()\n",
    "\n",
    "# Calculate the returns variance\n",
    "variance_returns = is_data['s_returns'].var()\n",
    "\n",
    "print('Mean:', round(mean_returns, 5), 'Variance:', round(variance_returns, 5))\n",
    "\n",
    "# Calculate the optimal fraction to invest in each trade\n",
    "optimal_fraction = mean_returns / variance_returns\n",
    "\n",
    "print('Optimal fraction to invest in each trade:', round(optimal_fraction, 2))"
   ]
  },
  {
   "cell_type": "markdown",
   "metadata": {},
   "source": [
    "Read the out-of-sample data and backtest it using all the wealth."
   ]
  },
  {
   "cell_type": "code",
   "execution_count": null,
   "metadata": {},
   "outputs": [],
   "source": [
    "aapl_data_1920 = yf.download('aapl', start='2019-01-01', end='2021-12-31')"
   ]
  },
  {
   "cell_type": "markdown",
   "metadata": {},
   "source": [
    "Backtest the strategy using optimal fraction derived using Kelly on the in-sample data."
   ]
  },
  {
   "cell_type": "code",
   "execution_count": null,
   "metadata": {},
   "outputs": [],
   "source": [
    "oos_result_kelly = mvc_backtest(data=aapl_data_1920, sma=sma, lma=lma, fraction=optimal_fraction)"
   ]
  },
  {
   "cell_type": "code",
   "execution_count": null,
   "metadata": {},
   "outputs": [],
   "source": [
    "cumulative_strategy_returns = (1 + oos_result_kelly['s_returns']).cumprod()\n",
    "\n",
    "print('Strategy returns:', round(cumulative_strategy_returns.iloc[-1] - 1, 2))"
   ]
  },
  {
   "cell_type": "markdown",
   "metadata": {},
   "source": [
    "Backtest the strategy using full capital for each trade."
   ]
  },
  {
   "cell_type": "code",
   "execution_count": null,
   "metadata": {},
   "outputs": [],
   "source": [
    "oos_result_100 = mvc_backtest(data=aapl_data_1920, sma=sma, lma=lma, fraction=1)"
   ]
  },
  {
   "cell_type": "code",
   "execution_count": null,
   "metadata": {},
   "outputs": [],
   "source": [
    "cumulative_strategy_returns = (1 + oos_result_100['s_returns']).cumprod()\n",
    "\n",
    "print('Strategy returns:', round(cumulative_strategy_returns.iloc[-1] - 1, 2))"
   ]
  },
  {
   "cell_type": "markdown",
   "metadata": {},
   "source": [
    "# 5) Profitability Ratios"
   ]
  },
  {
   "cell_type": "markdown",
   "metadata": {},
   "source": [
    "#### a) Sharpe Ratio\n",
    "\n",
    "The Sharpe ratio is the excess return calculated as total returns less the risk-free rate of return per unit of volatility. Generally, risk-free return is the return on the risk-free assets such as government bonds. The excess returns are due to the 'extra risk' taken by the investor on investing in risky assets.\n",
    "\n",
    "It tells whether the returns on a portfolio are due to good investment decision or the result of excessive risk taken. Higher Sharpe ratio is always preferable over the lower ones.\n",
    "\n",
    "The Sharpe Ratio can be used to compare the portfolio with the benchmark to get to know how your portfolio is repaying for the risk taken on the investment.\n",
    "\n",
    "$$ Sharpe\\ Ratio\\ =\\ \\frac{R_p - R_f}{\\sigma_p} $$\n",
    "\n",
    "Where:\n",
    "\n",
    "$ R_p $ = Portfolio Returns\n",
    "\n",
    "$ R_f $ = Risk-free Returns\n",
    "\n",
    "$ \\sigma_p $ = Standard deviation of the portfolio returns"
   ]
  },
  {
   "cell_type": "code",
   "execution_count": null,
   "metadata": {},
   "outputs": [],
   "source": [
    "risk_free_rate = 0.00 # Annualized\n",
    "\n",
    "# Calculate Sharpe Ratio\n",
    "daily_sharpe = (np.mean(stk_1_data['daily_returns']) - (risk_free_rate/252))/ np.std(stk_1_data['daily_returns'])\n",
    "\n",
    "# Calculate Annualized Sharpe Ratio\n",
    "ann_sharpe = daily_sharpe * np.sqrt(252)\n",
    "\n",
    "print(\"The Sharpe ratio is %.2f\" % ann_sharpe)"
   ]
  },
  {
   "cell_type": "code",
   "execution_count": null,
   "metadata": {},
   "outputs": [],
   "source": [
    "import empyrical as ep"
   ]
  },
  {
   "cell_type": "code",
   "execution_count": null,
   "metadata": {},
   "outputs": [],
   "source": [
    "ep.sharpe_ratio(stk_1_data.daily_returns)"
   ]
  },
  {
   "cell_type": "code",
   "execution_count": null,
   "metadata": {},
   "outputs": [],
   "source": [
    "ep.cagr(stk_1_data.daily_returns)"
   ]
  },
  {
   "cell_type": "code",
   "execution_count": null,
   "metadata": {},
   "outputs": [],
   "source": []
  },
  {
   "cell_type": "code",
   "execution_count": null,
   "metadata": {},
   "outputs": [],
   "source": [
    "comparison.head()"
   ]
  },
  {
   "cell_type": "code",
   "execution_count": null,
   "metadata": {},
   "outputs": [],
   "source": [
    "# Daily returns of stock 1\n",
    "pf.create_simple_tear_sheet(stk_1_data.daily_returns)"
   ]
  },
  {
   "cell_type": "code",
   "execution_count": null,
   "metadata": {
    "scrolled": true
   },
   "outputs": [],
   "source": [
    "# Tear sheet for Stock 1 and Stock 3\n",
    "pf.create_simple_tear_sheet(stk_1_3_daily_returns)"
   ]
  },
  {
   "cell_type": "markdown",
   "metadata": {},
   "source": [
    "#### b) Sortino Ratio\n",
    "In the Sortino ratio, the denominator of the Sharpe ratio, the total standard deviation is replaced with the downside deviation. The downside deviation is the standard deviation of negative asset return.\n",
    "\n",
    "It differentiates the harmful volatility from the total volatility by using the standard deviation of negative returns only. Since an investor is concerned only about the downside volatility, Sortino ratio is a good measure in comparing the highly volatile portfolios whereas the Sharpe ratio is better at analyzing portfolios with low volatility. The probability of large loss will be low if the value of the Sortino ratio is high.\n",
    "\n",
    "$$ Sortino\\ Ratio\\ =\\ \\frac{R_p - R_f}{\\sigma_d} $$\n",
    "\n",
    "Where:\n",
    "\n",
    "$ R_p $ = Portfolio Returns\n",
    "<br>$ R_f $ = Risk-free Returns\n",
    "<br>$ \\sigma_d $ = Standard deviation of the negative asset returns"
   ]
  },
  {
   "cell_type": "markdown",
   "metadata": {},
   "source": [
    "#### c) Treynor Ratio\n",
    "Treynor Ratio is the variation in the denominator of the Sharpe ratio by replacing the total standard deviation with the beta of the portfolio. It also highlights the risk-adjusted performance of the portfolio. Higher the Treynor ratio, more suitable the investment is. The ratio is based on historical returns data, it is not necessary it will replicate in the future. The higher ratio tells that investment is good but it does not quantify how much good the investment is."
   ]
  },
  {
   "cell_type": "markdown",
   "metadata": {},
   "source": [
    "$$ Treynor\\ Ratio\\ =\\ \\frac{R_p - R_f}{\\beta_p} $$\n",
    "\n",
    "Where:\n",
    "\n",
    "$ R_p $ = Portfolio Returns\n",
    "<br>$ R_f $ = Risk-free Returns\n",
    "<br>$ \\beta_p $ = Portfolio's Beta"
   ]
  },
  {
   "cell_type": "markdown",
   "metadata": {},
   "source": [
    "# Resources\n",
    "\n",
    "- [Portfolio Management Of Multiple Strategies Using Python](https://blog.quantinsti.com/portfolio-management-strategy-python/)\n",
    "- [Portfolio Optimization Methods](https://blog.quantinsti.com/portfolio-optimization-methods/)\n",
    "- [Portfolio Analysis: Performance Measurement And Evaluation](https://blog.quantinsti.com/portfolio-analysis-performance-measurement-evaluation/)\n",
    "- [Calculating The Covariance Matrix And Portfolio Variance](https://blog.quantinsti.com/calculating-covariance-matrix-portfolio-variance/)\n",
    "- [Optimal Portfolio Construction Using Machine Learning](https://blog.quantinsti.com/optimal-portfolio-construction-machine-learning/)\n",
    "- [Sharpe Ratio: Calculation, Application, Limitations](https://blog.quantinsti.com/sharpe-ratio-applications-algorithmic-trading/)\n",
    "- [Volatility And Measures Of Risk-Adjusted Return With Python](https://blog.quantinsti.com/volatility-and-measures-of-risk-adjusted-return-based-on-volatility/)\n",
    "---"
   ]
  }
 ],
 "metadata": {
  "kernelspec": {
   "display_name": "Python 3",
   "language": "python",
   "name": "python3"
  },
  "language_info": {
   "codemirror_mode": {
    "name": "ipython",
    "version": 3
   },
   "file_extension": ".py",
   "mimetype": "text/x-python",
   "name": "python",
   "nbconvert_exporter": "python",
   "pygments_lexer": "ipython3",
   "version": "3.8.3"
  },
  "varInspector": {
   "cols": {
    "lenName": 16,
    "lenType": 16,
    "lenVar": 40
   },
   "kernels_config": {
    "python": {
     "delete_cmd_postfix": "",
     "delete_cmd_prefix": "del ",
     "library": "var_list.py",
     "varRefreshCmd": "print(var_dic_list())"
    },
    "r": {
     "delete_cmd_postfix": ") ",
     "delete_cmd_prefix": "rm(",
     "library": "var_list.r",
     "varRefreshCmd": "cat(var_dic_list()) "
    }
   },
   "types_to_exclude": [
    "module",
    "function",
    "builtin_function_or_method",
    "instance",
    "_Feature"
   ],
   "window_display": false
  }
 },
 "nbformat": 4,
 "nbformat_minor": 4
}
